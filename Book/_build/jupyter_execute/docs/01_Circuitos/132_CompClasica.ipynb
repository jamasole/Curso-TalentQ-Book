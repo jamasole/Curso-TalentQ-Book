{
 "cells": [
  {
   "cell_type": "markdown",
   "id": "a790f97e",
   "metadata": {
    "slideshow": {
     "slide_type": "slide"
    }
   },
   "source": [
    "<img   src=\"../figuras/logo/TalentQ_LogoPosNegro.png\" align=center  width=\"12%\"/>\n",
    "<br>\n",
    "\n",
    "<table width=\"100%\">\n",
    "<td style=\"font-size:400%px;font-style:italic;text-align:right;background-color:rgba(0, 160, 120,0.6)\">\n",
    "Circuitos para computación clásica\n",
    "</td></table>\n",
    "\n",
    "\n",
    "\n",
    "$ \\newcommand{\\bra}[1]{\\langle #1|} $\n",
    "$ \\newcommand{\\ket}[1]{|#1\\rangle} $\n",
    "$ \\newcommand{\\braket}[2]{\\langle #1|#2\\rangle} $\n",
    "$ \\newcommand{\\i}{{\\color{blue} i}} $ \n",
    "$ \\newcommand{\\Hil}{{\\mathbb H}} $\n",
    "$ \\newcommand{\\cg}[1]{{\\rm C}#1} $"
   ]
  },
  {
   "cell_type": "code",
   "execution_count": null,
   "id": "a8685e41",
   "metadata": {
    "slideshow": {
     "slide_type": "slide"
    }
   },
   "outputs": [],
   "source": [
    "%run ../macro_CURSO.py"
   ]
  },
  {
   "cell_type": "markdown",
   "id": "1589d25a",
   "metadata": {
    "slideshow": {
     "slide_type": "skip"
    }
   },
   "source": [
    "- [Computación clásica universal](#compclas)\n",
    "\n",
    "\n",
    "- [Preparación de un estado inicial](#prepainit)\n",
    "\n",
    "\n",
    "- [Funciones digitales](#funcdigit)\n",
    "\n",
    "\n",
    "- [Oráculos <i> booleanos </i> y de fase](#oracles)"
   ]
  },
  {
   "cell_type": "markdown",
   "id": "87ec0168",
   "metadata": {
    "slideshow": {
     "slide_type": "slide"
    }
   },
   "source": [
    "<a id=\"compclas\"></a>\n",
    "<table width=\"100%\">\n",
    "    <td style=\"font-size:250%px;font-family:Helvetica;text-align:left;background-color:rgba(12, 43, 337, 0.3);\">\n",
    "<b> Computación clásica universal </b>\n",
    "</table>"
   ]
  },
  {
   "cell_type": "markdown",
   "id": "514c4acb",
   "metadata": {
    "slideshow": {
     "slide_type": "slide"
    }
   },
   "source": [
    "En computación clásica, la únidad de información es el bit, una variable entersa $x = 0,1 \\in {\\mathbb Z}_2$. Las puertas lógicas elementales son, \n",
    "- sobre un bit, la puerta NOT $x\\to \\neq x = x\\oplus 1$, \n",
    "\n",
    "- sobre dos bits las puertas AND, OR, XOR, y NAND \n",
    "<br>\n",
    "$$\n",
    "\\begin{array}{|c|c|c|c|c|}\n",
    "\\hline x,y & \\hbox{AND} ~ (x\\land y)  & \\hbox{OR} ~  (x \\lor y) & \\hbox{XOR} ~ (x\\oplus y) & \\hbox{NAND} ~ \\neg(x\\land y)\\\\\n",
    "\\hline 00 & 0 &  0 &   0 & 1 \\\\\n",
    "\\hline 01 & 0 &  1 &  1 & 1\\\\\n",
    "\\hline 10 & 0 &  1 &  1 & 1\\\\\n",
    "\\hline 11 & 1 &  1 &  0 & 0 \\\\\n",
    "\\hline \n",
    "\\end{array}\n",
    "$$\n",
    "\n",
    "<br>\n",
    "<br>"
   ]
  },
  {
   "cell_type": "markdown",
   "id": "817794a9",
   "metadata": {
    "slideshow": {
     "slide_type": "fragment"
    }
   },
   "source": [
    "<div class=\"alert alert-block alert-info\">\n",
    "<p style=\"text-align: center;\"> <p style=\"text-align: left ;color: navy;\">  \n",
    "    <b>Teorema:</b> (<i> Computación clásica universal</i>) \n",
    "<br>\n",
    "<br>\n",
    "cualquier función\n",
    "<br>$$\n",
    "f : \\{0,1\\}^n \\to \\{0,1\\}^m\n",
    "$$\n",
    "<br> puede construirse mediante una concatenación de puertas elementales NOT, AND, OR y XOR.\n",
    "</div>"
   ]
  },
  {
   "cell_type": "markdown",
   "id": "72c3986b",
   "metadata": {
    "slideshow": {
     "slide_type": "slide"
    }
   },
   "source": [
    "<br>\n",
    "Surge la cuestión acerca de si la computación cuántica podrá contendrá la clásica actuando sobre simples cúbits $\\{\\ket{0},\\ket{1}\\}$ (sin superposiciones)\n",
    "\n",
    "Por ejemplo: la puerta clásica NOT es idéntica a las puerta cuántica X\n",
    "\n",
    "$$\n",
    "X\\ket{x} \\to \\ket{\\neg x}\n",
    "$$"
   ]
  },
  {
   "cell_type": "markdown",
   "id": "e8a200d8",
   "metadata": {
    "slideshow": {
     "slide_type": "fragment"
    }
   },
   "source": [
    " \n",
    "\n",
    "Con respecto a las operaciones sobre *dos bits*, nos encontramos con una\n",
    "dificultad: \n",
    "\n",
    "- las puertas cuánticas son unitarias y, por tanto, reversibles. \n",
    "\n",
    "- pero las puertas clásicas son funciones del espacio de 2 bits a 1 bit. Por esta razón, *ninguna de estas operaciones es invertible*"
   ]
  },
  {
   "cell_type": "markdown",
   "id": "9650f1e3",
   "metadata": {
    "slideshow": {
     "slide_type": "fragment"
    }
   },
   "source": [
    "Sin embargo si mantenemos memoria del primer registro, $x$ la función XOR se vuelve invertible\n",
    "<br>\n",
    "\n",
    "$$ \\hbox{XOR} : ( 00,01,10,11) \\to  (00, 01, 11, 10 )$$\n",
    "\n",
    "No así las demás, que necesitan incluir un bit extra (auxiliar)."
   ]
  },
  {
   "cell_type": "markdown",
   "id": "c977b519",
   "metadata": {
    "slideshow": {
     "slide_type": "fragment"
    }
   },
   "source": [
    "Este formalismo, denominando, *computación clásica reversible* es una rama de la computación clásica."
   ]
  },
  {
   "cell_type": "markdown",
   "id": "e4b6520b",
   "metadata": {
    "slideshow": {
     "slide_type": "slide"
    }
   },
   "source": [
    "<div class=\"alert alert-block alert-info\">\n",
    "<p style=\"text-align: center;\"> <p style=\"text-align: left ;color: navy;\">  \n",
    "<b>Teorema:</b> \n",
    "<br>\n",
    "todas las puertas lógicas clásicas  NOT, AND, OR, XOR  y   NAND admiten una implementación en un circuito cuántico en términos de  la puerta de Toffoli (CCNOT)\n",
    "</div>"
   ]
  },
  {
   "cell_type": "markdown",
   "id": "5dfc068e",
   "metadata": {
    "slideshow": {
     "slide_type": "fragment"
    }
   },
   "source": [
    "- La implementación de $\\hbox{NOT}$\n",
    "<br>\n",
    "<br>\n",
    "$$\n",
    "\\hbox{NOT}   ~\\to~  {\\rm CCNOT} \\ket{1,1,x} = \\ket{1,1,\\neg x }\n",
    "$$\n",
    "<br>\n",
    " es inmediata porque ${\\rm CCNOT}$ aplicado a $\\ket{1,1,x}$ necesariamente actúa como $X$ en el tercer bit."
   ]
  },
  {
   "cell_type": "markdown",
   "id": "70f55417",
   "metadata": {
    "slideshow": {
     "slide_type": "fragment"
    }
   },
   "source": [
    "-  La implementación de $\\hbox{AND}$ \n",
    "<br>\n",
    "<br>\n",
    "$$  \n",
    "\\hbox{AND}  ~\\to~ {\\rm CCNOT} \\ket{x,y,0} = \\ket{x,y, x  \\land y} \n",
    "$$\n",
    "<br>\n",
    "es directamente la acción de la puerta CCNOT"
   ]
  },
  {
   "cell_type": "markdown",
   "id": "84c5b1c3",
   "metadata": {
    "slideshow": {
     "slide_type": "fragment"
    }
   },
   "source": [
    "- La implementación de $\\hbox{OR}$ se basa en el *teorema de Morgan*:\n",
    "$\n",
    "x\\lor y = \\neg(\\neg x\\land \\neg y)\\, .\n",
    "$ De esta manera\n",
    "<br>\n",
    "<br>\n",
    "<br>\n",
    "$$\n",
    "{\\rm OR} ~\\to~  (X\\otimes X\\otimes X){\\rm CCNOT} (X\\otimes X \\otimes I) \\ket{x,y,0} = \\ket{x,y, x \\lor y}\n",
    "$$\n",
    "<br>\n",
    "<br>\n",
    "y el producto de operadores ejecuta la instrucción indicada en el miembro de la derecha."
   ]
  },
  {
   "cell_type": "markdown",
   "id": "20fbb74b",
   "metadata": {
    "slideshow": {
     "slide_type": "slide"
    }
   },
   "source": [
    "- La implementación de $\\hbox{XOR}$ se basa en que, actuando sobre $\\ket{1, x, y}$ ${\\rm CCNOT}$ se reduce a ${\\rm CNOT}$ actuando sobre $\\ket{x,y}$, que es precisamente $\\ket{x,x\\oplus y}$.\n",
    "<br>\n",
    "<br>\n",
    "$$\n",
    "{\\rm XOR} ~\\to~ {\\rm CCNOT} \\ket{1,x,y} = \\ket{1,x, x \\oplus y}\n",
    "$$\n",
    "<br>"
   ]
  },
  {
   "cell_type": "markdown",
   "id": "dd85035f",
   "metadata": {
    "slideshow": {
     "slide_type": "fragment"
    }
   },
   "source": [
    "<br>\n",
    "<br>\n",
    "\n",
    "- La implementación de $\\hbox{NAND}$ \n",
    "<br>\n",
    "\n",
    "$$\n",
    "{\\rm NAND} ~\\to~  (I\\otimes I\\otimes X) {\\rm CCNOT}  \\ket{x,y, 0} =  \\ket{x,y, \\neg (x \\land y)}  \n",
    "$$\n",
    "<br>"
   ]
  },
  {
   "cell_type": "markdown",
   "id": "0e2b5282",
   "metadata": {
    "slideshow": {
     "slide_type": "slide"
    }
   },
   "source": [
    "<a id=\"prepainit\"></a>\n",
    "<table width=\"100%\">\n",
    "    <td style=\"font-size:250%px;font-family:Helvetica;text-align:left;background-color:rgba(12, 43, 337, 0.3);\">\n",
    "<b>Preparación de un estado inicial</b>\n",
    "</table>"
   ]
  },
  {
   "cell_type": "markdown",
   "id": "8eecd8ab",
   "metadata": {
    "slideshow": {
     "slide_type": "slide"
    }
   },
   "source": [
    "Muchos algoritmos cuánticos se benefician de la preparación de un estado inicial adecuado. En general esta es una operació no eficiente porque implica actuar sobre ${\\cal O}(2^n)$ registros\n",
    "\n",
    "$$\n",
    "U : \\ket{0} \\to  \\sum_{i=0}^{2^n-1} c_i\\ket{i}\n",
    "$$"
   ]
  },
  {
   "cell_type": "markdown",
   "id": "e9bb4925",
   "metadata": {
    "slideshow": {
     "slide_type": "fragment"
    }
   },
   "source": [
    "Separemos las amplitudes complejas en módulo y fase $c_i = a_i e^{\\gamma_i}$ donde $a_i = |c_i|$."
   ]
  },
  {
   "cell_type": "markdown",
   "id": "0772fee8",
   "metadata": {
    "slideshow": {
     "slide_type": "slide"
    }
   },
   "source": [
    "Veamos el caso $n=2$. El circuito que nos permite preparar un estado genérico es el siguiente"
   ]
  },
  {
   "cell_type": "markdown",
   "id": "6767a1a2",
   "metadata": {
    "slideshow": {
     "slide_type": "-"
    }
   },
   "source": [
    "<br>\n",
    "<br>\n",
    "<div>\n",
    "<img src=\"images/preparestatecircuit.png\" width=\"62%\" style='margin:auto'/>\n",
    "</div>\n",
    "<br>\n",
    "\n",
    "donde \n",
    "$$\n",
    "R_y(\\theta) = \\begin{bmatrix} \\cos\\frac{\\theta}{2} & -\\sin\\frac{\\theta}{2} \\\\\n",
    " \\sin\\frac{\\theta}{2}  & \\cos\\frac{\\theta}{2} \\end{bmatrix}~~~~, ~~~~~\n",
    "D(\\gamma_i,\\gamma_j ) = \\begin{bmatrix} e^{i\\gamma_i} & 0 \\\\ 0 & e^{i\\gamma_j} \\end{bmatrix} = K(\\gamma_i) P(\\gamma_j-\\gamma_i)\n",
    "$$"
   ]
  },
  {
   "cell_type": "markdown",
   "id": "7a511710",
   "metadata": {
    "slideshow": {
     "slide_type": "fragment"
    }
   },
   "source": [
    "El estado en la barrera, será\n",
    "\n",
    "\\begin{eqnarray}\n",
    "\\ket{\\psi_0}~~ &=&~~ \\cos\\theta_1 \\ket{0}\\otimes \\big( \\cos\\theta_2 \\ket{0} + \\sin\\theta_2\\ket{1}\\big) + \\sin\\theta_1\\ket{1}\\otimes \\big(\\cos\\theta_3\\ket{0} + \\sin\\theta_3\\ket{1}\\big) \\nonumber\\\\&=& \\cos\\theta_1 \\cos\\theta_2 \\ket{00} + \\cos\\theta_1\\sin\\theta_2\\ket{01} + \\sin\\theta_1\\cos\\theta_3\\ket{10} + \\sin\\theta_1\\sin\\theta_3\\ket{11} \\rule{0mm}{20mm}\n",
    "\\end{eqnarray}"
   ]
  },
  {
   "cell_type": "markdown",
   "id": "a4a6d608",
   "metadata": {
    "slideshow": {
     "slide_type": "slide"
    }
   },
   "source": [
    "de donde obtenemos cuatro ecuaciones para cuatro incógnitas\n",
    "\n",
    "\\begin{eqnarray}\n",
    "a_1 &=& \\cos\\theta_1 \\cos\\theta_2 \\nonumber\\\\\n",
    "a_2 &=&  \\cos\\theta_1\\sin\\theta_2\\nonumber\\\\\n",
    "a_3 &=&  \\sin\\theta_1\\cos\\theta_3\\nonumber\\\\\n",
    "a_4 &=& \\sqrt{1-a_1^3-a_2^2-a_3^2}\n",
    "\\end{eqnarray}\n",
    "\n",
    "sólo necesitamos 3 ángulos para representar 4 amplitudes debido a la ligadura $\\sum_i a_i^2 = 1$."
   ]
  },
  {
   "cell_type": "markdown",
   "id": "84bb6229",
   "metadata": {
    "slideshow": {
     "slide_type": "fragment"
    }
   },
   "source": [
    "Una vez fijadas las amplitudes, la última parte del circuito es equivalente al  operador unitario\n",
    "\n",
    "$$\n",
    "U= \\begin{bmatrix} e^{i\\gamma_1} & 0 & 0 & 0 \\\\ 0 & e^{i\\gamma_2} & 0 & 0 \\\\ 0 & 0 & e^{i\\gamma_3} & 0 \\\\ 0 & 0 & 0 & e^{i\\gamma_4} \\end{bmatrix}=\\begin{bmatrix} K(\\gamma_1)P(\\gamma_2-\\gamma_1) & 0 \\\\ 0 &K(\\gamma_3) P(\\gamma_4-\\gamma_3) \\end{bmatrix}  =\\ket{0}\\bra{0}D(\\gamma_1,\\gamma_2) + \\ket{1}\\bra{1}D(\\gamma_3,\\gamma_4)  \n",
    "$$"
   ]
  },
  {
   "cell_type": "markdown",
   "id": "265983f1",
   "metadata": {
    "slideshow": {
     "slide_type": "fragment"
    }
   },
   "source": [
    "<div class=\"alert alert-block alert-success\">\n",
    "    <b>Ejercicio 1.3.2.1</b> \n",
    "\n",
    "    \n",
    "Diseña el circuito que inicializa un estado genérico de $n=3$ cúbits. Úsalo para introducir el estado\n",
    "<br>\n",
    "<br>    \n",
    "$$\n",
    "\\ket{\\psi} = \\frac{1}{4}\\left( \\rule{0mm}{5mm} \\ket{000}-3\\ket{001}-\\ket{010} +2\\ket{110}-\\ket{111} \\right)\n",
    "$$\n",
    "    \n",
    "</i>.\n",
    "</div>"
   ]
  },
  {
   "cell_type": "markdown",
   "id": "59ff55ba",
   "metadata": {
    "slideshow": {
     "slide_type": "slide"
    }
   },
   "source": [
    "Evidentemente este circuito no puede ser eficiente puesto que es necesario ajustar un número $2*2^n$ de parámetros.\n",
    "<br>\n",
    "<br>"
   ]
  },
  {
   "cell_type": "markdown",
   "id": "a1377b18",
   "metadata": {
    "slideshow": {
     "slide_type": "fragment"
    }
   },
   "source": [
    "En algunos casos, sí que es posible encontrar un circuito eficiente. \n",
    "<br>\n",
    "<br>\n",
    "Por ejemplo el estado inicial que es una superposición homogénea de elementos de la base\n",
    "\n",
    "$$\n",
    "\\ket{\\psi} = W \\ket{0}  = \\ket{+}^{\\otimes n}= \\frac{1}{\\sqrt{n}}\\sum_{i=1}^{2^n-1} \\ket{i}\n",
    "$$\n",
    "\n",
    "se obtiene con un circuito de  **coste** = $n~$  y $~$ **profundidad**=1"
   ]
  },
  {
   "cell_type": "markdown",
   "id": "cbdfc950",
   "metadata": {
    "slideshow": {
     "slide_type": "slide"
    }
   },
   "source": [
    "<a id=\"fundigit\"></a>\n",
    "<table width=\"100%\">\n",
    "    <td style=\"font-size:250%px;font-family:Helvetica;text-align:left;background-color:rgba(12, 43, 337, 0.3);\">\n",
    "<b> Funciones digitales </b>\n",
    "</table>"
   ]
  },
  {
   "cell_type": "markdown",
   "id": "6cae3c7c",
   "metadata": {
    "slideshow": {
     "slide_type": "slide"
    }
   },
   "source": [
    "**Motivación:**\n",
    "\n",
    "Una clase de problemas en los que la computación cuántica promete alcanzar una ventaja con respecto a la clásica se denominan  <i>algoritmos de interrogación de oráculo</i>\n",
    "\n",
    "Involucra la clasificación funciones clásicas según propiedades escogidas de un cuerto conjunto \n",
    "\n",
    "Genéricamente, como el propio conjunto de funciones,  se trata de un problema de complejidad NP\n",
    "\n",
    "<br>"
   ]
  },
  {
   "cell_type": "markdown",
   "id": "d2e64424",
   "metadata": {
    "slideshow": {
     "slide_type": "fragment"
    }
   },
   "source": [
    "- Estas  *funciones clásicas* son cajas negras llamadas **oráculos** que sólo podemos *invocar* tantas veces como se desee.\n",
    "\n",
    "<br>\n",
    "\n",
    "- El conjunto de *clases* al que, *a priori* pueden pertenecer ser denominan **promesas**\n",
    "<br>"
   ]
  },
  {
   "cell_type": "markdown",
   "id": "acb6684e",
   "metadata": {
    "slideshow": {
     "slide_type": "fragment"
    }
   },
   "source": [
    "<br>\n",
    "<br>\n",
    "Para poner a prueba un algoritmo de interrogación de oráculo es necesario construirlos aunque serán secretos para el usuario. \n",
    "\n",
    "<br>"
   ]
  },
  {
   "cell_type": "markdown",
   "id": "0cab5361",
   "metadata": {
    "slideshow": {
     "slide_type": "slide"
    }
   },
   "source": [
    "**Funciones digitales**\n",
    "\n",
    "Un proceso de computación clásica descompone en puertas elementales una _función digital_ \n",
    "<br>\n",
    "<br>\n",
    "\n",
    "$$\n",
    "f : \\{0,1\\}^n ~~\\to ~~\\{0,1\\}^m\n",
    "$$\n",
    "\n",
    "<br>"
   ]
  },
  {
   "cell_type": "markdown",
   "id": "55ed63eb",
   "metadata": {
    "slideshow": {
     "slide_type": "fragment"
    }
   },
   "source": [
    "<br>\n",
    "\n",
    "La construcción de $f$ es equivalente a la especificación de $m$ funciones  $f_1,f_2,...,f_m$ **binarias**\n",
    "<br>\n",
    "<br>\n",
    "\n",
    "$$\n",
    "f_i : \\{0,1\\}^n ~~\\to ~~\\{0,1\\}\n",
    "$$ \n",
    "<br>\n",
    "\n",
    "Es evidente que ninguna función binaria es invertible para $m\\geq 2$. \n",
    "\n",
    "<br>"
   ]
  },
  {
   "cell_type": "markdown",
   "id": "e89a2f6c",
   "metadata": {
    "slideshow": {
     "slide_type": "fragment"
    }
   },
   "source": [
    "Si queremos englobar la computación clásica dentro de la cuántica, este hecho representa un inconveniente, debido a que los circuitos cuánticos son, por naturaleza, invertibles."
   ]
  },
  {
   "cell_type": "markdown",
   "id": "43779ba4",
   "metadata": {
    "slideshow": {
     "slide_type": "slide"
    }
   },
   "source": [
    "<br>\n",
    "\n",
    "La manera más simple de fabricar, a partir de un mapa no invertible $f$, otro invertible $U_f$, implica *conservar* los valores de la variables iniciales"
   ]
  },
  {
   "cell_type": "markdown",
   "id": "cd0d0dc8",
   "metadata": {
    "slideshow": {
     "slide_type": "fragment"
    }
   },
   "source": [
    "Para $f:\\{0,1\\}^n \\to \\{0,1\\}$ necesitamos un total de $n+1$ cúbits:\n",
    "\n",
    "- $n$ cúbits que contienen el argumento de la función, $\\ket{x}_n \\in \\mathbb{C}^n$, \n",
    "\n",
    "- 1 cúbit que guardará el resultado, $\\ket{y} \\in \\mathbb{C}$."
   ]
  },
  {
   "cell_type": "markdown",
   "id": "e2a9bb6f",
   "metadata": {
    "slideshow": {
     "slide_type": "fragment"
    }
   },
   "source": [
    "Sea $U_f$ el siguiente operador\n",
    "\n",
    "\\begin{equation}\n",
    "U_f : \\ket{x}\\ket{y} \\longrightarrow \\ket{x} \\ket{ y \\oplus f(x) }\n",
    "\\end{equation}\n",
    "\n",
    "Donde $\\oplus$ indica suma módulo 2."
   ]
  },
  {
   "cell_type": "markdown",
   "id": "bbfcd433",
   "metadata": {
    "slideshow": {
     "slide_type": "fragment"
    }
   },
   "source": [
    "Es evidente de la definición que $U_f\\cdot U_f = I$."
   ]
  },
  {
   "cell_type": "markdown",
   "id": "0e313ed6",
   "metadata": {
    "slideshow": {
     "slide_type": "slide"
    }
   },
   "source": [
    "## Construcción de funciones binarias. Los min-términos\n",
    "\n",
    "Es muy sencillo establecer un método general para construir funciones binarias de la forma $f: \\{0, 1\\}^n \\rightarrow \\{0, 1\\}$. \n",
    "\n",
    "Consideremos la siguiente tabla de verdad para una función $f: \\{0, 1\\}^3 \\rightarrow \\{0, 1\\}$ concreta.\n",
    "<br>\n",
    "\n",
    "|$$x_2$$|$$x_1$$|$$x_0$$||$$f(x)$$|\n",
    "|-|-|-||-|\n",
    "|0|0|0||0|\n",
    "|0|0|1||1|\n",
    "|0|1|0||0|\n",
    "|0|1|1||0|\n",
    "|1|0|0||0|\n",
    "|1|0|1||1|\n",
    "|1|1|0||0|\n",
    "|1|1|1||1|"
   ]
  },
  {
   "cell_type": "markdown",
   "id": "cd074374",
   "metadata": {
    "slideshow": {
     "slide_type": "fragment"
    }
   },
   "source": [
    "La idea es considerar exclusivamente los términos que tienen como salida la variable 1, que denominaremos <b>min-términos</b>. \n",
    "\n",
    "Por ejemplo hay un min-término de la forma $101 \\to 1$ que se puede obtener mediante una puerta como la siguiente\n",
    "\n",
    "<br>\n",
    "<br>\n",
    "<div>\n",
    "<img src=\"images/ctrl5.png\" width=\"10%\" style=\"margin:auto\"/>\n",
    "</div>\n",
    "<br>"
   ]
  },
  {
   "cell_type": "markdown",
   "id": "89dfb384",
   "metadata": {
    "slideshow": {
     "slide_type": "slide"
    }
   },
   "source": [
    "Cada min-término llevará asociada una puerta condicionada diferente. Su composición define la función $f$\n",
    "\n",
    "Para el caso de la tabla de verdad anterior, el circuito correspondiente vendrá dado por:"
   ]
  },
  {
   "cell_type": "code",
   "execution_count": null,
   "id": "6d2b9223",
   "metadata": {
    "slideshow": {
     "slide_type": "fragment"
    }
   },
   "outputs": [],
   "source": [
    "from qiskit import QuantumRegister, QuantumCircuit, ClassicalRegister\n",
    "from qiskit.circuit.library import MCXGate\n",
    "\n",
    "qr = QuantumRegister(4)\n",
    "cr = ClassicalRegister(4)\n",
    "\n",
    "qc = QuantumCircuit(qr, cr, name='q')\n",
    "\n",
    "qc.append(MCXGate(3, ctrl_state=1), qr)\n",
    "qc.append(MCXGate(3, ctrl_state=5), qr)\n",
    "qc.append(MCXGate(3, ctrl_state=7), qr)\n",
    "\n",
    "qc.draw(output='mpl')"
   ]
  },
  {
   "cell_type": "markdown",
   "id": "9284be1a",
   "metadata": {
    "slideshow": {
     "slide_type": "fragment"
    }
   },
   "source": [
    "donde hemos hecho uso de la puerta multicontrolada [MCXGate](https://qiskit.org/documentation/stubs/qiskit.circuit.library.MCXGate.html?highlight=mcxgate#qiskit.circuit.library.MCXGate) de qiskit"
   ]
  },
  {
   "cell_type": "markdown",
   "id": "3a071c80",
   "metadata": {
    "slideshow": {
     "slide_type": "slide"
    }
   },
   "source": [
    "Vamos a implementar una función $f:\\{0,1\\}^4\\to \\{0,1\\}^4$ dada por la siguiente *tabla de verdad* \n",
    "\n",
    "<br>\n",
    "\n",
    "|$$x$$|$$f(x)$$|||$$x$$|$$f(x)$$|\n",
    "|---|---|||---|---|\n",
    "|0000|1111|||1000|0101|\n",
    "|0001|1011|||1001|0100|\n",
    "|0010|0011|||1010|0000|\n",
    "|0011|1000|||1011|1110|\n",
    "|0100|0101|||1100|1111|\n",
    "|0101|0100|||1101|1011|\n",
    "|0110|0000|||1110|0011|\n",
    "|0111|1110|||1111|1000|\n",
    "\n",
    "<br>"
   ]
  },
  {
   "cell_type": "markdown",
   "id": "03d01868",
   "metadata": {
    "slideshow": {
     "slide_type": "slide"
    }
   },
   "source": [
    "<div class=\"alert alert-block alert-success\">\n",
    "    <b>Ejercicio 1.3.2.1</b> \n",
    "\n",
    "Completa la el código que genera un circuito que implementa la siguiente función digital\n",
    "\n",
    "<details>\n",
    "    <summary><p style='text-align:right'> >> Solución </p></summary>\n",
    "    \n",
    "            if output_bit =='1':\n",
    "                qc.append(MCXGate(len(input_str), ctrl_state=ctrl_state),qr_input[:]+[qr_output[j]])\n",
    "\n",
    "</details>\n",
    "</div>"
   ]
  },
  {
   "cell_type": "code",
   "execution_count": null,
   "id": "36ed6f3d",
   "metadata": {
    "slideshow": {
     "slide_type": "fragment"
    }
   },
   "outputs": [],
   "source": [
    "from qiskit import QuantumRegister, ClassicalRegister, QuantumCircuit\n",
    "from qiskit.circuit.library import MCXGate\n",
    "\n",
    "\n",
    "def oracle(f_outputs): \n",
    "    \n",
    "    n = int(np.log2(len(f_outputs)))  #dimension del registro de entrada |x> \n",
    "    m = len(f_outputs[0])             #dimension del registro de salida |f(x)>\n",
    "    \n",
    "    #generamos todos los posibles inputs en binario, completando con ceros hasta tener strings de n bits\n",
    "    inputs = [format(i, 'b').zfill(n) for i in range(2**n)]\n",
    "    print(inputs)\n",
    "    \n",
    "    qr_input = QuantumRegister(n, name='input')\n",
    "    qr_output = QuantumRegister(m, name='output')\n",
    "    qc = QuantumCircuit(qr_input, qr_output)\n",
    "\n",
    "\n",
    "    # Hacemos un bucle sobre los inputs\n",
    "    for i,input_str in enumerate(inputs):\n",
    "        ctrl_state= int(input_str[::],2)\n",
    "        print(i, ctrl_state)\n",
    "        # Para cada input, i, haz un bucle sobre cada bit del output     \n",
    "        for j,output_bit in enumerate(f_outputs[i]):\n",
    "###\n",
    "            if output_bit =='1':\n",
    "                qc.append(MCXGate(len(input_str), ctrl_state=ctrl_state),qr_input[:]+[qr_output[n-j-1]])  \n",
    "\n",
    "    return qc"
   ]
  },
  {
   "cell_type": "code",
   "execution_count": null,
   "id": "840bf73a",
   "metadata": {
    "run_control": {
     "marked": false
    },
    "slideshow": {
     "slide_type": "slide"
    }
   },
   "outputs": [],
   "source": [
    "f_outputs = ['1111', '1011', '0011', '1000', '0101', '0100', \n",
    "               '0000', '1110', '0101', '0100', '0000', '1110', \n",
    "               '1111', '1011', '0011', '1000']\n",
    "\n",
    "f_outputs= ['000', '001', '010', '011', '100', '101', '110', '111']\n",
    "    \n",
    "\n",
    "    \n",
    "oracle(f_outputs).draw()"
   ]
  },
  {
   "cell_type": "code",
   "execution_count": null,
   "id": "308df71b",
   "metadata": {},
   "outputs": [],
   "source": [
    "n=3\n",
    "qr_in = QuantumRegister(n, name='in')\n",
    "qr_out = QuantumRegister(n, name='out')\n",
    "cr = ClassicalRegister(n)\n",
    "qc = QuantumCircuit(qr_in,qr_out,cr)\n",
    "\n",
    "\n",
    "qc.x(2)\n",
    "qc.append(oracle(f_outputs).to_gate(),qr_in[:]+qr_out[:])\n",
    "qc.measure(qr_out,cr)\n",
    "\n",
    "qc.draw('mpl')"
   ]
  },
  {
   "cell_type": "code",
   "execution_count": null,
   "id": "6ba64060",
   "metadata": {},
   "outputs": [],
   "source": [
    "from qiskit import Aer, execute\n",
    "M_backend = Aer.get_backend('qasm_simulator')\n",
    "\n",
    "job = execute(qc,M_backend,shots=1)\n",
    "job.result().get_counts()"
   ]
  },
  {
   "cell_type": "markdown",
   "id": "2d4fcbf8",
   "metadata": {
    "slideshow": {
     "slide_type": "slide"
    }
   },
   "source": [
    "<div class=\"alert alert-block alert-success\">\n",
    "    <b> Ejercicio 1.3.2.2 </b>\n",
    "       \n",
    "Escribe una función $f:S^n\\to S$  que  produzca aleatoriamente $f(x) = \\pm 1$ de forma <i>equilibrada</i> (es decir, tantos $f(x)= +1$ como $f(x)= -1$). \n",
    "\n",
    "\n",
    "<details>\n",
    "<summary><p style='text-align:right'> >> Solución </p></summary>\n",
    "Ver por ejemplo la solución del qiskit textbook:https://qiskit.org/textbook/ch-algorithms/deutsch-jozsa.html   sección 4.4 \n",
    "</details>\n",
    "\n",
    "</div>"
   ]
  },
  {
   "cell_type": "markdown",
   "id": "9f0cd924",
   "metadata": {
    "slideshow": {
     "slide_type": "slide"
    }
   },
   "source": [
    "### Funcion binaria lineal: \n",
    "\n",
    "Dados dos n-tuplas binarias $x=(x_{n-1},\\ldots,x_0)$ y $a=(a_{n-1},\\ldots,a_0)$ definimos la **función lineal**\n",
    "<br>\n",
    "        \n",
    "\\begin{equation}\n",
    "f(x;a) = a \\cdot x = a_{n-1} x_{n-1} \\oplus a_{n-2} x_{n-2} \\oplus \\cdots \\oplus a_{0} x_{0}\\; ,\n",
    "\\end{equation}\n",
    "\n",
    "<br>\n",
    "donde  $\\oplus$ es la suma módulo 2."
   ]
  },
  {
   "cell_type": "markdown",
   "id": "29de50df",
   "metadata": {
    "slideshow": {
     "slide_type": "fragment"
    }
   },
   "source": [
    "Por ejemplo, el circuito que implementa esta función cuando $a=11010$ es el siguiente\n",
    "\n",
    "<br>\n",
    "<br>\n",
    "\n",
    "<div>\n",
    "<img src=\"images/linear_function.png\" width=\"35%\" style=\"margin:auto\"/>\n",
    "</div>\n",
    "<br>"
   ]
  },
  {
   "cell_type": "markdown",
   "id": "19ba2f32",
   "metadata": {
    "slideshow": {
     "slide_type": "slide"
    }
   },
   "source": [
    "<div class=\"alert alert-block alert-success\">\n",
    "    <b> Ejercicio 1.3.2.3 </b>\n",
    "       \n",
    "\n",
    " Completa el siguiente código que genera el circuito asociado a la función binaria lineal $f(x;a)$. \n",
    "    \n",
    "    \n",
    "<details>\n",
    "<summary><p style='text-align:right'> >> Solución </p></summary>\n",
    "    \n",
    "    for i, aq in enumerate(reversed(a)):\n",
    "        if aq == '1':\n",
    "             qc.cx(qr_in[i],qr_out) \n",
    "\n",
    "</details>\n",
    "</div>"
   ]
  },
  {
   "cell_type": "code",
   "execution_count": null,
   "id": "256191ba",
   "metadata": {
    "slideshow": {
     "slide_type": "fragment"
    }
   },
   "outputs": [],
   "source": [
    "from qiskit import QuantumRegister, QuantumCircuit, ClassicalRegister\n",
    "\n",
    "def linear_circuit(x,a):\n",
    "       \n",
    "    assert(len(x)==len(a))\n",
    "\n",
    "    # Inicialización de los registros\n",
    "    qr_in = QuantumRegister(len(a), name='qr_in')\n",
    "    qr_out = QuantumRegister(1, name='qr_out')\n",
    "    cr = ClassicalRegister(1, name='cr')  \n",
    "    qc = QuantumCircuit(qr_in, qr_out, cr, name='q_linear')\n",
    "    \n",
    "    'inicializamo el estado x '\n",
    "    for i, xq in enumerate(reversed(x)):  # ojo con la ordenación de qiskit, por eso está reversed()\n",
    "        if xq == '1':\n",
    "             qc.x(qr_in[i]) \n",
    "\n",
    "    qc.barrier()\n",
    "\n",
    "    'codificamos la función lineal x.a '\n",
    "###\n",
    "#\n",
    "#        Tu solución aquí\n",
    "#\n",
    "#\n",
    "####\n",
    "            \n",
    "    qc.barrier()\n",
    "    qc.measure(qr_out[0],cr[0])\n",
    "    \n",
    "    return qc "
   ]
  },
  {
   "cell_type": "markdown",
   "id": "6c09dc2a",
   "metadata": {
    "slideshow": {
     "slide_type": "slide"
    }
   },
   "source": [
    "Veamos un ejemplo"
   ]
  },
  {
   "cell_type": "code",
   "execution_count": null,
   "id": "7781d176",
   "metadata": {
    "slideshow": {
     "slide_type": "-"
    }
   },
   "outputs": [],
   "source": [
    "a = '1011'\n",
    "x = '1001'\n",
    "\n",
    "qc=linear_circuit(x,a)\n",
    "qc.draw('mpl')"
   ]
  },
  {
   "cell_type": "markdown",
   "id": "5922a4c4",
   "metadata": {
    "slideshow": {
     "slide_type": "fragment"
    }
   },
   "source": [
    "La función $a\\cdot x = (1 + 0 + 0 + 1)mod(2) = 0$. Vamos a ver si este resultado es el hallado"
   ]
  },
  {
   "cell_type": "code",
   "execution_count": null,
   "id": "6694e66b",
   "metadata": {
    "run_control": {
     "marked": false
    },
    "slideshow": {
     "slide_type": "fragment"
    }
   },
   "outputs": [],
   "source": [
    "from qiskit import Aer, execute\n",
    "n_tiradas = 1\n",
    "\n",
    "M_backend = Aer.get_backend('qasm_simulator')\n",
    "counts     = execute(qc, M_backend, shots = n_tiradas).result().get_counts()\n",
    "\n",
    "from qiskit.tools.visualization import plot_histogram\n",
    "plot_histogram(counts)"
   ]
  },
  {
   "cell_type": "markdown",
   "id": "5842c20d",
   "metadata": {
    "slideshow": {
     "slide_type": "slide"
    }
   },
   "source": [
    "<div class=\"alert alert-block alert-success\">\n",
    "    <b> Ejercicio 1.3.2.4</b>\n",
    "\n",
    "sea sobre el conjunto de valores $x\\in \\{0,1,2,3\\}$ la función $f(x) = x^2$. Halla la tabla de verdad en binario y construye el oráculo que implementa esta función.\n",
    "    \n",
    "</div>"
   ]
  },
  {
   "cell_type": "markdown",
   "id": "d673dd4b",
   "metadata": {
    "slideshow": {
     "slide_type": "slide"
    }
   },
   "source": [
    "<a id=\"oracles\"></a>\n",
    "<table width=\"100%\">\n",
    "    <td style=\"font-size:250%px;font-family:Helvetica;text-align:left;background-color:rgba(12, 43, 337, 0.3);\">\n",
    "        <b>Oráculos <i> booleanos </i> y de fase</b>\n",
    "</table>"
   ]
  },
  {
   "cell_type": "markdown",
   "id": "d0ff2a66",
   "metadata": {
    "slideshow": {
     "slide_type": "slide"
    }
   },
   "source": [
    "En la sección anterior hemos definido el operador  $U_f$ usando un cúbit ancilla\n",
    "\n",
    "<br>\n",
    "\n",
    "$$\n",
    "U_f \\ket{x}\\otimes\\ket{y} = \\ket{x}\\ket{y + f(x)}\n",
    "$$\n",
    "\n",
    "<br>"
   ]
  },
  {
   "cell_type": "markdown",
   "id": "beceeb41",
   "metadata": {
    "slideshow": {
     "slide_type": "fragment"
    }
   },
   "source": [
    "Podemos usar $U_f$ de 2 maneras distintas para *codificar el oráculo* de una función binaria $f(x)$"
   ]
  },
  {
   "cell_type": "markdown",
   "id": "2325be04",
   "metadata": {
    "slideshow": {
     "slide_type": "slide"
    }
   },
   "source": [
    "### Oráculo *booleano*\n",
    "\n",
    "<br>\n",
    "\n",
    "$$\n",
    "U_f \\ket{x}\\otimes\\ket{0} = \\ket{x}\\ket{f(x)}\n",
    "$$\n",
    "<br>\n",
    "\n",
    "<div class=\"alert alert-block alert-danger\">\n",
    "<p style=\"text-align: center;\"> <p style=\"text-align: left  \">  \n",
    "    \n",
    "- especificando $\\ket{y}=\\ket{0}$ codificamos la función $f(x)$  en el *estado del segundo cúbit*\n",
    "<br>\n",
    "<br>\n",
    "- oráculos basados en esta codificación se denominan **oráculos booleanos**\n",
    "</div>"
   ]
  },
  {
   "cell_type": "markdown",
   "id": "bbf3b35f",
   "metadata": {
    "slideshow": {
     "slide_type": "slide"
    }
   },
   "source": [
    "### Oráculo de fase\n",
    "\n",
    "<br>\n",
    "\n",
    "Nada nos impide inicializar la ancilla en un *autovector* de $U_f$\n",
    "\n",
    "\n",
    "<div class=\"alert alert-block alert-info\">\n",
    "<p style=\"text-align: center;\"> <p style=\"text-align: left ;color: navy;\">  \n",
    "<b>Teorema:</b>  los autovectores de $U_f$ son los estados $\\ket{x}\\otimes \\ket{\\pm}$ \n",
    "</div>"
   ]
  },
  {
   "cell_type": "markdown",
   "id": "90945a8d",
   "metadata": {
    "slideshow": {
     "slide_type": "fragment"
    }
   },
   "source": [
    "*Prueba:*\n",
    "\n",
    "Por un lado sabemos que los *autovalores* deben ser $\\pm 1$ dado que $U_f^2 = I$. \n",
    "Veamos cada caso\n",
    "\n",
    "\\begin{eqnarray}\n",
    "U_f\\ket{x}\\otimes \\ket{+} &=& \\ket{x}\\otimes \\frac{1}{\\sqrt{2}}\\left( \\rule{0mm}{6mm}\\ket{0\\oplus f(x)}+\\ket{1\\oplus f(x)} \\right) = \\ket{x}\\otimes \\ket{+} \\nonumber\\\\\n",
    "U_f\\ket{x}\\otimes \\ket{-} &=& \\ket{x}\\otimes \\frac{1}{\\sqrt{2}}\\left( \\rule{0mm}{6mm} \\ket{0\\oplus f(x)}-\\ket{1\\oplus f(x)}\\right) = (-1)^{f(x)} \\ket{x}\\otimes \\ket{-}\n",
    "\\end{eqnarray}\n",
    "\n",
    "donde vemos que se produce un típico efecto de *retroceso de fase*"
   ]
  },
  {
   "cell_type": "markdown",
   "id": "9272cb72",
   "metadata": {
    "slideshow": {
     "slide_type": "fragment"
    }
   },
   "source": [
    "<div class=\"alert alert-block alert-danger\">\n",
    "<p style=\"text-align: center;\"> <p style=\"text-align: left  \">  \n",
    "<b>En resumen:</b>\n",
    "\n",
    "-  especificando $\\ket{y} = \\ket{-}$ codificamos $f(x)$ en *la fase* $~\\to ~(-1)^{f(x)} = e^{i\\pi f(x)}$\n",
    "<br>\n",
    "<br>\n",
    "-  oráculos basados en esta codificación se denominan **oráculos de fase**\n",
    "</div>"
   ]
  },
  {
   "cell_type": "code",
   "execution_count": null,
   "id": "8893f6e9",
   "metadata": {},
   "outputs": [],
   "source": []
  }
 ],
 "metadata": {
  "jupytext": {
   "text_representation": {
    "extension": ".md",
    "format_name": "myst",
    "format_version": 0.13,
    "jupytext_version": "1.15.2"
   }
  },
  "kernelspec": {
   "display_name": "Python 3",
   "language": "python",
   "name": "python3"
  },
  "source_map": [
   14,
   33,
   41,
   54,
   62,
   83,
   98,
   109,
   120,
   129,
   133,
   142,
   153,
   164,
   180,
   191,
   205,
   213,
   221,
   226,
   231,
   247,
   255,
   268,
   276,
   292,
   299,
   312,
   320,
   333,
   344,
   352,
   366,
   383,
   390,
   396,
   405,
   415,
   419,
   440,
   453,
   459,
   479,
   483,
   503,
   520,
   556,
   576,
   591,
   599,
   614,
   628,
   640,
   660,
   698,
   702,
   714,
   718,
   735,
   744,
   752,
   764,
   768,
   789,
   803,
   817,
   829
  ]
 },
 "nbformat": 4,
 "nbformat_minor": 5
}