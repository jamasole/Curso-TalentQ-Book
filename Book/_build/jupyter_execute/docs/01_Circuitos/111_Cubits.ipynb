{
 "cells": [
  {
   "cell_type": "markdown",
   "id": "a3360e31",
   "metadata": {
    "slideshow": {
     "slide_type": "slide"
    }
   },
   "source": [
    "# Cúbits\n",
    "\n",
    "\n",
    "\n",
    "$ \\newcommand{\\bra}[1]{\\langle #1|} $\n",
    "$ \\newcommand{\\ket}[1]{|#1\\rangle} $\n",
    "$ \\newcommand{\\braket}[2]{\\langle #1|#2\\rangle} $\n",
    "$ \\newcommand{\\ketbra}[2]{| #1\\rangle \\langle #2|} $\n",
    "$ \\newcommand{\\tr}{{\\rm tr}} $\n",
    "$ \\newcommand{\\i}{{\\color{blue} i}} $ \n",
    "$ \\newcommand{\\Hil}{{\\cal H}} $\n",
    "$ \\newcommand{\\V}{{\\cal V}} $\n",
    "$ \\newcommand{\\bn}{{\\bf n}} $"
   ]
  },
  {
   "cell_type": "markdown",
   "id": "0cf5b7ab",
   "metadata": {
    "slideshow": {
     "slide_type": "skip"
    }
   },
   "source": [
    "- [Definición, base computacional](#dirac)\n",
    "\n",
    "\n",
    "-  [Esfera de Bloch](#esfbloch)\n",
    "\n",
    "\n",
    "-  [Registro cuántico](#circuitcubit)\n",
    "\n",
    "\n",
    "- [Rotaciones en la esfera de Bloch](#rotesf)\n",
    "\n",
    "\n",
    "- [Puertas simples](#puertsimp)"
   ]
  },
  {
   "cell_type": "code",
   "execution_count": null,
   "id": "1a7fd4ca",
   "metadata": {
    "run_control": {
     "marked": false
    },
    "slideshow": {
     "slide_type": "-"
    }
   },
   "outputs": [],
   "source": [
    "import sys\n",
    "sys.path.append('../')\n",
    "import macro_tQ as tQ\n",
    "\n",
    "import numpy as np\n",
    "import scipy.linalg as la\n",
    "from IPython.display import display,Markdown,Latex\n",
    "import matplotlib.pyplot as plt\n",
    "from qiskit.tools.visualization import array_to_latex"
   ]
  },
  {
   "cell_type": "markdown",
   "id": "13033d4e",
   "metadata": {
    "slideshow": {
     "slide_type": "skip"
    }
   },
   "source": [
    "## Definición, base computacional"
   ]
  },
  {
   "cell_type": "markdown",
   "id": "45252756",
   "metadata": {
    "slideshow": {
     "slide_type": "skip"
    }
   },
   "source": [
    "Un *bit* es una variable  real $a$ que puede tomar valores en $ {\\mathbb Z}_2= \\{0, 1\\}$."
   ]
  },
  {
   "cell_type": "markdown",
   "id": "602aff5e",
   "metadata": {
    "slideshow": {
     "slide_type": "slide"
    }
   },
   "source": [
    "<div class=\"alert alert-block alert-info\",text-align:center>\n",
    "<p style=\"text-align: left ;color: navy;\">  \n",
    "    <b> Definición</b>: un cúbit es un <i>espacio de Hilbert</i> complejo de dimensión dos, $~\\ket{v}~\\in~\\Hil \\sim {\\mathbb C}^2$ \n",
    "</p></div>"
   ]
  },
  {
   "cell_type": "markdown",
   "id": "a1e1ec33",
   "metadata": {
    "slideshow": {
     "slide_type": "skip"
    }
   },
   "source": [
    "- Cualquier sistema  cuyo estado instantáneo se pueda describir mediante un vector $\\ket{v}\\in {\\mathbb C}^2$ puede albergar físicamente un *cúbit*. \n",
    "<br>\n",
    "<br>\n",
    "- A efectos prácticos,  se trata de sistemas que pueden estar y conmutar entre dos niveles de energía bien definidos de manera controlada."
   ]
  },
  {
   "cell_type": "markdown",
   "id": "1faf497c",
   "metadata": {
    "slideshow": {
     "slide_type": "skip"
    }
   },
   "source": [
    "- Un *cútrit* es un espacio de Hilbert de dimensión $3$, un *cúdit* de dimensión $d$."
   ]
  },
  {
   "cell_type": "markdown",
   "id": "9743bf30",
   "metadata": {
    "slideshow": {
     "slide_type": "skip"
    }
   },
   "source": [
    "### Bases \n",
    "\n",
    "**Base computacional** \n",
    "\n",
    "Para representar vectores de estado  $\\ket{u}\\in \\Hil$ necesitamos una *base*  formada por dos vectores ortonormales. \n",
    "\n",
    "La base que usaremos   $B=\\{\\ket{0},\\ket{1}\\}$ y se denomina *base computacional*."
   ]
  },
  {
   "cell_type": "markdown",
   "id": "096d11b9",
   "metadata": {
    "slideshow": {
     "slide_type": "skip"
    }
   },
   "source": [
    "La base computacional es *ortonormal*\n",
    "\n",
    "$$\n",
    "\\braket{0}{0} = \\braket{1}{1} = 1 ~~~~~~~~~~\\braket{0}{1} = \\braket{1}{0} = 0\n",
    "$$"
   ]
  },
  {
   "cell_type": "markdown",
   "id": "70d00d46",
   "metadata": {
    "slideshow": {
     "slide_type": "slide"
    }
   },
   "source": [
    "La base computacional también recibe el nombre de base Z.\n",
    "\n",
    " \n",
    " \n",
    "- Base $Z$ (base computacional) \n",
    "     $$\n",
    "    \\begin{array}{rclcl}\n",
    "    \\ket{0}_Z ~~\\equiv ~~\\ket{0} &\\sim& \\begin{bmatrix}  1\\\\ 0\\end{bmatrix} \\\\\n",
    "    \\ket{1}_Z ~~\\equiv~~\\ket{1} &\\sim&  \\begin{bmatrix}  0\\\\ 1\\end{bmatrix}\n",
    "    \\end{array}\n",
    "    $$\n",
    "    \n",
    "  El nombre indica que esta base  la forman autoestados del operador \n",
    "  \n",
    "  $$Z= \\sigma_z = \\begin{bmatrix} 1& 0 \\\\ 0 & -1 \\end{bmatrix}$$ \n",
    "  \n",
    "  con autovalores $\\pm 1$."
   ]
  },
  {
   "cell_type": "markdown",
   "id": "48219580",
   "metadata": {
    "slideshow": {
     "slide_type": "skip"
    }
   },
   "source": [
    "Hay infinitas bases ortonormales para ${\\mathbb C}^2$. Otras dos muy utilizadas son las bases $X$ e $Y$\n",
    "\n",
    "- Base $X$ \n",
    "    $$\n",
    "    \\begin{array}{rclcl}\n",
    "    \\ket{0}_X ~~\\equiv ~~\\ket{+} &=& \\frac{1}{\\sqrt{2}}(|0\\rangle+|1\\rangle) &=  & \\frac{1}{\\sqrt{2}}\\begin{bmatrix}\n",
    "    1\\\\ 1\\end{bmatrix} \\\\\n",
    "    \\ket{1}_X ~~\\equiv~~\\ket{-} &=&  \\frac{1}{\\sqrt{2}}(|0\\rangle-|1\\rangle) &=& \\frac{1}{\\sqrt{2}}\\begin{bmatrix}\n",
    "    1\\\\ -1\\end{bmatrix}\n",
    "    \\end{array}\n",
    "    $$\n",
    "<br>\n",
    "\n",
    "-  Esta base la forman autovectores del operador $X= \\sigma_x = \\begin{bmatrix} 0& 1 \\\\ 1 & 0 \\end{bmatrix}$ con autovalores $\\pm 1$."
   ]
  },
  {
   "cell_type": "markdown",
   "id": "1f1c120b",
   "metadata": {
    "slideshow": {
     "slide_type": "skip"
    }
   },
   "source": [
    "- Base $Y$\n",
    "$$\n",
    "    \\begin{array}{rclcl}\n",
    "    \\ket{0}_Y ~~\\equiv ~~\\ket{+i} &=& \\frac{1}{\\sqrt{2}}(|0\\rangle+i |1\\rangle) &=  & \\frac{1}{\\sqrt{2}}\\begin{bmatrix}\n",
    "   1\\\\ i \\end{bmatrix} \\\\\n",
    "    \\ket{1}_Y ~~\\equiv~~\\ket{-i} &=&  \\frac{1}{\\sqrt{2}}(|0\\rangle-i |1\\rangle) &=& \\frac{1}{\\sqrt{2}}\\begin{bmatrix}\n",
    "     1 \\\\-i \\end{bmatrix}\n",
    "    \\end{array}\n",
    "$$\n",
    "<br>\n",
    "Esta base la forman autoestados del operador $Y=\\sigma_y =  \\begin{bmatrix} 0& -i \\\\ i & 0 \\end{bmatrix}$ con autovalores $\\pm 1$."
   ]
  },
  {
   "cell_type": "markdown",
   "id": "7e120cda",
   "metadata": {
    "slideshow": {
     "slide_type": "skip"
    }
   },
   "source": [
    "<div class=\"alert alert-block alert-success\">\n",
    "<b>Ejercicio:</b> \n",
    "Escribe las matrices $u_{ij}$ de cambio de la base $Z\\to X$\n",
    "\n",
    "$$\n",
    "\\ket{j}_X = \\sum_j u_{ij}\\ket{i}_Z\n",
    "$$\n",
    "    \n",
    " Haz lo mismo para  $Z\\to Y$ y $X\\to Y$.\n",
    "</div>"
   ]
  },
  {
   "cell_type": "markdown",
   "id": "0d9bb2e4",
   "metadata": {
    "slideshow": {
     "slide_type": "skip"
    }
   },
   "source": [
    "### Esfera de Bloch"
   ]
  },
  {
   "cell_type": "markdown",
   "id": "e0a2d980",
   "metadata": {
    "slideshow": {
     "slide_type": "skip"
    }
   },
   "source": [
    "En un *bit clásico* sólo podemos almacenar un valor 0 ó 1. \n",
    "\n",
    "¿Cuánta información puede almacenar un *cúbit*?"
   ]
  },
  {
   "cell_type": "markdown",
   "id": "bbbdaed8",
   "metadata": {
    "slideshow": {
     "slide_type": "skip"
    }
   },
   "source": [
    "Un cúbit general será de la forma $\\ket{u} = a\\ket{0} + b\\ket{1}$ donde $a$ y $b$ son dos números complejos, es decir cuatro números reales."
   ]
  },
  {
   "cell_type": "markdown",
   "id": "c532ea06",
   "metadata": {
    "slideshow": {
     "slide_type": "skip"
    }
   },
   "source": [
    "Sin embargo, están sometidos a la ligadura $|a|^2+|b|^2=1$, lo que nos deja  tres grados de libertad reales. \n",
    "\n",
    "Pero uno de ellos es una fase global que no tiene significado."
   ]
  },
  {
   "cell_type": "markdown",
   "id": "256fc927",
   "metadata": {
    "slideshow": {
     "slide_type": "skip"
    }
   },
   "source": [
    "Por tanto el *número de grados de libertad (reales) en un cúbit es 2.*"
   ]
  },
  {
   "cell_type": "markdown",
   "id": "67b76222",
   "metadata": {
    "slideshow": {
     "slide_type": "slide"
    }
   },
   "source": [
    "<div class=\"alert alert-block alert-info\">\n",
    "<p style=\"text-align:left ;color: navy;\">  \n",
    "<b> Lema </b>:\n",
    "<br>    \n",
    "El cúbit $\\ket{u}$  <i> más general</i> se puede representar, en la base computacional $\\{\\ket{0},\\ket{1}\\}$, usando dos números reales (ángulos) $\\theta\\in [0,\\pi)$ y $\\varphi\\in [0,2\\pi)$   \n",
    "<br>\n",
    "<br>\n",
    "$$\n",
    "|u\\rangle = \\cos{\\frac{\\theta}{2}}\\, |0\\rangle + e^{i\\phi}\\sin{\\frac{\\theta}{2}}\\,|1\\rangle \n",
    "$$\n",
    "</p>\n",
    "</div>"
   ]
  },
  {
   "cell_type": "markdown",
   "id": "c9c027eb",
   "metadata": {
    "slideshow": {
     "slide_type": "skip"
    }
   },
   "source": [
    "<details>\n",
    "<summary><p style=\"text-align:left\"> >> <i>Demostración</i> </p></summary>\n",
    "\n",
    "Para demostrar el lema escribimos un vector de estado general usando la representación polar para las componentes complejas\n",
    "    \n",
    "$$\n",
    "\\begin{array}{rcl}\n",
    "\\ket{u} &=& u_0\\ket{0} + u_1\\ket{1} \\\\\n",
    "&=& a_0 e^{i b_0}\\ket{0} + a_1 e^{ib_1}\\ket{1}\\\\\n",
    "&=& e^{i b_0}\\big(a_0 \\ket{0} + a_1 e^{i(b_1-b_0)}\\ket{1}\\big)\\\\\n",
    "&\\sim & \\big( a_0 \\ket{0} + a_1 e^{i(b_1-b_0)}\\ket{1} \\big)\n",
    "\\end{array}\n",
    "$$\n",
    "    \n",
    "donde hemos hecho uso de la irrelevancia de una fase global para descartar $e^{i b_0}$ en la última línea.\n",
    "\n",
    "Ahora $a_1$ y $a_0$ no son números independientes sino que verifican $a_0^2 + a_1^2 = 0$ para que $\\|\\ket{u}\\|=1$.\n",
    "Esta ecuación se puede resolver en términos de un ángulo $\\theta/2$ tal que\n",
    "$$\n",
    "a_0 = \\cos\\frac{\\theta}{2}~~~,~~~ a_1 = \\sin\\frac{\\theta}{2} \n",
    "$$\n",
    "Por su parte, de los números $b_1, b_2$ sólo la diferencia\n",
    "$$\n",
    "\\varphi = b_1-b_2\n",
    "$$\n",
    "es relevante para especificar $\\ket{u}$.   \n",
    "</details>"
   ]
  },
  {
   "cell_type": "markdown",
   "id": "9ad35766",
   "metadata": {
    "slideshow": {
     "slide_type": "-"
    }
   },
   "source": [
    " En componentes en la base $Z$ escribimos equivalentemente\n",
    "$$\n",
    "|u\\rangle ~\\sim ~~\n",
    "\\begin{bmatrix} \\cos\\displaystyle\\frac{\\theta}{2} \\\\  e^{i\\varphi} \\sin \\displaystyle\\frac{\\theta}{2} \\end{bmatrix}\n",
    "$$\n",
    "\n",
    "+++ {\"slideshow\": {\"slide_type\": \"skip\"}}\n",
    "\n",
    "El rango de $\\theta\\in [0,\\pi)$ y $\\varphi\\in [0,2\\pi)$ permite interpretar estos números reales como *ángulos sobre la esfera unidad*. Dicho de otro modo, podemos representar  cada estado de un cúbit como un *punto* sobre una esfera de radio unidad: la *esfera de Bloch*. \n",
    "\n",
    "+++ {\"slideshow\": {\"slide_type\": \"slide\"}}\n",
    "\n",
    "\n",
    "-  $\\theta\\in [0,\\pi)$ el ángulo *azimutal* se mide desde el eje $Z$. De modo que $\\theta=\\pi/2$ es el *ecuador \n",
    "de la esfera de Bloch*.\n",
    "\n",
    "\n",
    "-  $\\phi\\in [0,2\\pi)$ el ángulo *polar*  en torno al eje $Z$, medido a partir del plano $XZ$\n",
    "<br>\n",
    "\n",
    "<div>\n",
    "<img src=\"images/BlochSphere.png\" width=\"25%\" style=\"margin:auto\"/>\n",
    "</div>\n",
    "<br>\n",
    "\n",
    "+++ {\"slideshow\": {\"slide_type\": \"skip\"}}\n",
    "\n",
    "**Vectores en la Esfera de Bloch: visualizaciones**\n",
    "\n",
    "\n",
    "- [Visualizador java](https://javafxpert.github.io/grok-bloch/?fbclid=IwAR1lWfCug1lfTXxXenaJxnsdJh2g3he6lBJmjnjL_Jus0gOHR9u3UuaT7qs)\n",
    "\n",
    "\n",
    "-  La clase <a href=https://qiskit.org/documentation/stubs/qiskit.quantum_info.Statevector.html>statevector</a> en *qiskit* cuenta con un *visualizador* de la esfera de Bloch. La clase  acepta una lista de dos números complejos como componentes de un vector. \n",
    "<br>\n",
    "<br>\n",
    "Lamentablemente no avisa si este vector está normalizado o no. Por eso, incluimos una función que genera el vector normalizado a partir de los ángulos $\\theta$ y $\\phi$. \n",
    "\n",
    "\n",
    "```{code-cell} ipython3\n",
    "---\n",
    "slideshow:\n",
    "  slide_type: skip\n",
    "---\n",
    "from qiskit.quantum_info import Statevector\n",
    "from qiskit.visualization import plot_bloch_multivector, array_to_latex  \n",
    "\n",
    "# Ejemplo de vector de estado |+> \n",
    "e_mas =1/np.sqrt(2)*np.array([1,1j])\n",
    "\n",
    "\n",
    "Statevector(e_mas).draw('latex')\n",
    "```\n",
    "\n",
    "```{code-cell} ipython3\n",
    "---\n",
    "slideshow:\n",
    "  slide_type: skip\n",
    "---\n",
    "Statevector(e_mas).draw('Bloch')\n",
    "```\n",
    "\n",
    "+++ {\"slideshow\": {\"slide_type\": \"skip\"}}\n",
    "\n",
    "Esta rutina introduce dos ángulos $\\theta\\in(0,\\pi)$ y $\\phi\\in(0,2\\pi)$ y devuelve el vector de Bloch \n",
    "\n",
    "$$\n",
    "|u\\rangle = \\cos{\\frac{\\theta}{2}}\\, |0\\rangle + e^{i\\phi}\\sin{\\frac{\\theta}{2}}\\,|1\\rangle \n",
    "$$"
   ]
  },
  {
   "cell_type": "code",
   "execution_count": null,
   "id": "36c2e8d2",
   "metadata": {
    "slideshow": {
     "slide_type": "skip"
    }
   },
   "outputs": [],
   "source": [
    "theta = 1.9\n",
    "phi   = 0.8\n",
    "\n",
    "uket = np.array([np.cos(theta/2),(np.exp(1j*phi))*np.sin(theta/2)]).reshape(2,1)\n",
    "\n",
    "array_to_latex(uket,prefix= '\\ket{u} = ')"
   ]
  },
  {
   "cell_type": "code",
   "execution_count": null,
   "id": "16006a01",
   "metadata": {
    "slideshow": {
     "slide_type": "skip"
    }
   },
   "outputs": [],
   "source": [
    "Statevector(uket).draw('latex')"
   ]
  },
  {
   "cell_type": "code",
   "execution_count": null,
   "id": "921b6973",
   "metadata": {
    "slideshow": {
     "slide_type": "skip"
    }
   },
   "outputs": [],
   "source": [
    "Statevector(uket).draw('Bloch')"
   ]
  },
  {
   "cell_type": "markdown",
   "id": "d26d19c9",
   "metadata": {
    "slideshow": {
     "slide_type": "slide"
    }
   },
   "source": [
    "**Base Z**\n",
    "  \n",
    "-   $(\\theta,\\phi) = (0,0) \\Rightarrow  \\ket{0}_Z = \\ket{0}$ \n",
    "\n",
    "\n",
    "\n",
    "\n",
    "  \n",
    "-   $(\\theta,\\phi) = (\\pi,\\phi)  \\Rightarrow  e^{i\\phi}\\ket{1}_Z = \\ket{1}$\n",
    "  \n",
    "  \n",
    " \n",
    "<div>\n",
    "<img src=\"images/BlochSphere.png\"  width=\"30%\" style=\"margin:auto\"/>\n",
    "</div>"
   ]
  },
  {
   "cell_type": "markdown",
   "id": "cf4e232a",
   "metadata": {
    "slideshow": {
     "slide_type": "slide"
    }
   },
   "source": [
    "**Base X**\n",
    " \n",
    "-   $(\\theta,\\phi) = (\\pi/2,0)  ~\\Rightarrow~  \\frac{1}{\\sqrt{2}}\\big(|0\\rangle+|1\\rangle \\big) =\\ket{0}_X \\equiv |+\\rangle$\n",
    "<br>\n",
    "  \n",
    "-   $(\\theta,\\phi) = (\\pi/2,\\pi) ~\\Rightarrow~  \\frac{1}{\\sqrt{2}}\\big(|0\\rangle-|1\\rangle \\big)=\\ket{1}_X \\equiv |-\\rangle$\n",
    "\n",
    "<div>\n",
    "<img src=\"images/BlochSphere.png\"  width=\"30%\" style=\"margin:auto\"/>\n",
    "</div>"
   ]
  },
  {
   "cell_type": "markdown",
   "id": "46901d19",
   "metadata": {
    "slideshow": {
     "slide_type": "slide"
    }
   },
   "source": [
    "**Base Y**\n",
    "\n",
    "-   $(\\theta,\\phi) = (\\pi/2,\\pi/2) ~\\Rightarrow ~|u\\rangle =\\frac{1}{\\sqrt{2}}\\big(|0\\rangle+i|1\\rangle\\big) =\\ket{0}_Y \\equiv  |+i\\rangle$\n",
    "<br>\n",
    "\n",
    "\n",
    "-   $(\\theta,\\phi) = (\\pi/2,3\\pi/2) ~\\Rightarrow ~|u\\rangle = \\frac{1}{\\sqrt{2}}\\big(|0\\rangle-i|1\\rangle\\big) = \\ket{1}_Y \\equiv  |-i\\rangle$\n",
    "\n",
    "\n",
    "<div>\n",
    "<img src=\"images/BlochSphere.png\"  width=\"30%\" style=\"margin:auto\"/>\n",
    "</div>"
   ]
  },
  {
   "cell_type": "markdown",
   "id": "69f63628",
   "metadata": {
    "slideshow": {
     "slide_type": "slide"
    }
   },
   "source": [
    "## Registro cuántico"
   ]
  },
  {
   "cell_type": "markdown",
   "id": "857cec50",
   "metadata": {
    "slideshow": {
     "slide_type": "-"
    }
   },
   "source": [
    "Un **registro cuántico** contiene la *evolución temporal* de un cúbit.  \n",
    "\n",
    "\n",
    "<br>\n",
    "<div>\n",
    "<img   src=\"images/q_register.png\"   width=\"30%\" style=\"margin:auto\"/>\n",
    "</div>\n",
    "<br>"
   ]
  },
  {
   "cell_type": "code",
   "execution_count": null,
   "id": "283337e6",
   "metadata": {
    "slideshow": {
     "slide_type": "fragment"
    }
   },
   "outputs": [],
   "source": [
    "'en qiskit podemos inicializar un registro cuántico en un estado |q> arbitrario usando el método initialize()'\n",
    "from qiskit import QuantumCircuit, QuantumRegister\n",
    "\n",
    "qr = QuantumRegister(2,name='qname')\n",
    "qc = QuantumCircuit(qr)\n",
    "\n",
    "theta = 1.9\n",
    "phi   = 0.8\n",
    "\n",
    "ket = [np.cos(theta/2),(np.exp(1j*phi))*np.sin(theta/2)]\n",
    "\n",
    "qc.initialize(ket,qr[0])\n",
    "qc.draw(output='mpl')"
   ]
  },
  {
   "cell_type": "markdown",
   "id": "227171b5",
   "metadata": {
    "slideshow": {
     "slide_type": "skip"
    }
   },
   "source": [
    "Un registro cuántico puede llevar una superposición lineal $\\ket{\\psi} = a\\ket{0} + b\\ket{1}$\n",
    "\n",
    "Un registro clásico solo puede valer $0~$ ó $~1$"
   ]
  },
  {
   "cell_type": "markdown",
   "id": "29c08e1c",
   "metadata": {
    "slideshow": {
     "slide_type": "slide"
    }
   },
   "source": [
    "## Rotaciones en la esfera de Bloch"
   ]
  },
  {
   "cell_type": "markdown",
   "id": "4c2ecf32",
   "metadata": {
    "slideshow": {
     "slide_type": "-"
    }
   },
   "source": [
    "Un operador unitario conserva la norma y, por tanto, lleva un vector a otro de la misma esfera de Bloch \n",
    "\n",
    "Esta operación  se puede *visualizar* como una rotación de un cierto ángulo $\\alpha$, en torno a algún eje $\\hat{\\bf n}$\n",
    "\n",
    "$$ \\ket{u} = R_{\\hat\\bn}\\ket{v}$$"
   ]
  },
  {
   "cell_type": "markdown",
   "id": "d636d405",
   "metadata": {
    "slideshow": {
     "slide_type": "fragment"
    }
   },
   "source": [
    "<div>\n",
    "<img src=\"images/BlochSphere2.png\"  width=\"30%\" style=\"margin:auto\"/>\n",
    "</div>"
   ]
  },
  {
   "cell_type": "markdown",
   "id": "cd36bdaa",
   "metadata": {
    "slideshow": {
     "slide_type": "slide"
    }
   },
   "source": [
    "<div class=\"alert alert-block alert-info\",text-align:center>\n",
    "<p style=\"text-align: left ;color: navy;\">  \n",
    "<b> Teorema</b>:\n",
    "<br>\n",
    "    El operador que efectúa una <i>rotación de ángulo</i>  $\\alpha\\in [0,2\\pi)$ en torno al <i>eje que marca un vector unitario</i>  $\\hat{\\bf n} = (n_x, n_y,n_z)$ es el siguiente\n",
    "<br> \n",
    "<br>    \n",
    "\\begin{eqnarray}\n",
    "R_{\\hat{\\bf n}}(\\alpha)~ = ~\\exp\\left( -i\\frac{\\alpha}{2} \\hat{\\bf n}\\cdot \\boldsymbol{\\sigma} \\right) ~=~ \n",
    "\\cos \\frac{\\alpha}{2} I - i \\sin\\frac{\\alpha}{2} \\hat{\\bf n}\\cdot\\boldsymbol{\\sigma} \n",
    "\\end{eqnarray}\n",
    "</p>    \n",
    "</div>"
   ]
  },
  {
   "cell_type": "markdown",
   "id": "d41f56ea",
   "metadata": {
    "slideshow": {
     "slide_type": "skip"
    }
   },
   "source": [
    "donde $\\boldsymbol{\\sigma} = (\\sigma_x, \\sigma_y, \\sigma_z)$ son las matrices de Pauli\n",
    "$$\n",
    "\\sigma_x = \\begin{bmatrix} 0 & 1 \\\\ 1 & 0 \\end{bmatrix}~~,~~\n",
    "\\sigma_y = \\begin{bmatrix} 0 & -i \\\\ i & 0 \\end{bmatrix}~~,~~\n",
    "\\sigma_z = \\begin{bmatrix} 1 & 0 \\\\ 0 & -1 \\end{bmatrix}~~.~~\n",
    "$$"
   ]
  },
  {
   "cell_type": "markdown",
   "id": "b6869545",
   "metadata": {
    "slideshow": {
     "slide_type": "skip"
    }
   },
   "source": [
    "<div class=\"alert alert-block alert-danger\",text-align:center>\n",
    "<b> Nota</b>:\n",
    "    el sentido de la rotación que produce $R_{\\hat{\\bf n}}(\\alpha)$ en torno al eje $\\hat{\\bf n}$, viene dado por la <i>regla de la mano derecha</i> o, también, <i>anti-horario</i>. \n",
    "</div>"
   ]
  },
  {
   "cell_type": "markdown",
   "id": "76b3ca8d",
   "metadata": {
    "slideshow": {
     "slide_type": "fragment"
    }
   },
   "source": [
    "Haciendo la suma explícitamente podemos escribir la matriz unitaria \n",
    "<br>\n",
    "\n",
    "\\begin{eqnarray}\n",
    "R_{\\hat{\\bf n}}(\\alpha)~  ~=~ \n",
    " \\begin{bmatrix} \\cos \\displaystyle\\frac{\\alpha}{2} - i n_z\\sin\\frac{\\alpha}{2} &\\displaystyle (-in_x- n_y)\\sin\\frac{\\alpha}{2} \\\\ \\displaystyle\n",
    "(-in_x + n_y) \\sin\\frac{\\alpha}{2} & \\displaystyle \\cos \\frac{\\alpha}{2} + i n_z\\sin\\frac{\\alpha}{2} \\end{bmatrix}\n",
    "\\end{eqnarray}"
   ]
  },
  {
   "cell_type": "markdown",
   "id": "60c0d5e9",
   "metadata": {
    "slideshow": {
     "slide_type": "slide"
    }
   },
   "source": [
    "### Rotaciones X, Y y Z\n",
    "\n",
    "- Asociado a rotaciones en torno a los ejes $X$, $Y$ y $Z$ de un ángulo $\\alpha$ encontramos las tres puertas siguientes\n",
    "\n",
    "\n",
    "<br>\n",
    "\n",
    "$$\n",
    "\\begin{array}{rcl}\n",
    "\\hat{\\bf z} = (0,0,1) ~~\\Rightarrow ~~ R_{\\hat {\\bf z}}(\\alpha) &=&  \\begin{bmatrix} e^{-i\\alpha/2}  & 0 \\\\ 0 & e^{i\\alpha/2}  \\end{bmatrix}  ~,~\\nonumber\\\\\n",
    "\\rule{0mm}{14mm}\n",
    "\\hat{\\bf y} = (0,1,0) ~~\\Rightarrow ~~ R_{\\hat {\\bf y}}(\\alpha) &=&  \\begin{bmatrix} \\cos \\alpha/2  & -\\sin \\alpha/2 \\\\   \\sin\\alpha/2 & \\cos\\alpha/2 \\end{bmatrix}  \\nonumber \\\\\n",
    "\\rule{0mm}{14mm}\n",
    "\\hat{\\bf x} = (1,0,0) ~~\\Rightarrow ~~ R_{\\hat {\\bf x}}(\\alpha)  &=&  \\begin{bmatrix} \\cos\\alpha/2  &- i\\sin\\alpha/2 \\\\   -i\\sin\\alpha/2& \\cos\\alpha/2 \\end{bmatrix} \\, .\\nonumber\n",
    "\\end{array}\n",
    "$$\n",
    "\n",
    "<br>"
   ]
  },
  {
   "cell_type": "markdown",
   "id": "61d8ee9f",
   "metadata": {
    "slideshow": {
     "slide_type": "skip"
    }
   },
   "source": [
    "### Parametrización de Euler\n",
    "\n",
    " Necesitamos *3 parámetros* para especificar una rotación general.\n",
    "En $R_{\\hat{\\bf n}}(\\theta)$ un parámetro es $\\theta$ y otros dos entran  en $\\hat{\\bf n}$ con \n",
    "$  |\\hat{\\bf n}|=1$."
   ]
  },
  {
   "cell_type": "markdown",
   "id": "ef0a1242",
   "metadata": {
    "slideshow": {
     "slide_type": "skip"
    }
   },
   "source": [
    " La *parametrización de Euler* consiste en una *composición de tres rotaciones* sucesivas en torno a los ejes $z$, después  $y$ y  finalmente $z$ de nuevo:"
   ]
  },
  {
   "cell_type": "markdown",
   "id": "c4a0d300",
   "metadata": {
    "slideshow": {
     "slide_type": "skip"
    }
   },
   "source": [
    "Multiplicando las matrices asociadas, y extrayendo una fase global, definimos \n",
    "\n",
    "$$\n",
    " R_z(\\phi)R_y(\\theta)R_z(\\varphi) = e^{-\\frac{i}{2}(\\phi + \\varphi)}U(\\theta,\\phi,\\varphi)  \n",
    "$$\n",
    "\n",
    "Los *ángulos de Euler* son $\\theta,\\phi $ y $\\varphi$, y una rotación general se podrá representar en la forma"
   ]
  },
  {
   "cell_type": "markdown",
   "id": "eb27fa40",
   "metadata": {
    "slideshow": {
     "slide_type": "skip"
    }
   },
   "source": [
    "$$\n",
    "U(\\theta,\\phi,\\varphi)=\\begin{bmatrix}   \\cos \\displaystyle\\frac{\\theta}{2}  & - e^{i\\varphi} \\sin\\displaystyle\\frac{\\theta}{2}  \\\\ \n",
    "\\rule{0mm}{4mm} e^{i\\phi} \\sin \\displaystyle\\frac{\\theta}{2} &e^{i(\\varphi+\\phi)} \\cos \\displaystyle\\frac{\\theta}{2} \\end{bmatrix}\n",
    "$$\n",
    "\n",
    "<br>"
   ]
  },
  {
   "cell_type": "markdown",
   "id": "403b2710",
   "metadata": {
    "slideshow": {
     "slide_type": "skip"
    }
   },
   "source": [
    "Es evidente que la acción de este operador sobre la base  $\\{\\ket{0},\\ket{1}\\}$ \n",
    "una base alineada con el eje $(\\theta,\\phi)$\n",
    "<br>\n",
    "\n",
    "$$\n",
    "U(\\theta,\\phi,\\varphi)\\begin{bmatrix} 1\\\\0\\end{bmatrix} = \\begin{bmatrix} \\cos\\displaystyle\\frac{\\theta}{2}\\\\ e^{i\\phi} \\sin \\displaystyle \\frac{\\theta}{2} \\end{bmatrix} ~~~~~~,~~~~~~~\n",
    "U(\\theta,\\phi,\\varphi)\\begin{bmatrix} 0\\\\1\\end{bmatrix} = \\begin{bmatrix} -e^{i\\varphi}\\sin\\displaystyle\\frac{\\theta}{2}\\\\ e^{i(\\varphi + \\phi)} \\cos \\displaystyle \\frac{\\theta}{2} \\end{bmatrix} \n",
    "$$\n",
    "<br>"
   ]
  },
  {
   "cell_type": "markdown",
   "id": "32e4d9e3",
   "metadata": {
    "slideshow": {
     "slide_type": "skip"
    }
   },
   "source": [
    "## Puertas Simples"
   ]
  },
  {
   "cell_type": "markdown",
   "id": "20e202a3",
   "metadata": {
    "slideshow": {
     "slide_type": "skip"
    }
   },
   "source": [
    "Por puertas simples entendemos un conjunto de *operadores unitarios* que se utilizan con frecuencia en la computación cuántica. Vamos a ver las puertas simples sobre 1 cúbit"
   ]
  },
  {
   "cell_type": "markdown",
   "id": "1c2a31d9",
   "metadata": {
    "slideshow": {
     "slide_type": "skip"
    }
   },
   "source": [
    "#### Puerta de fase \n",
    "\n",
    "- $P_\\alpha = P(\\alpha)$ con $\\alpha \\in [0,2\\pi)$\n",
    "<br>\n",
    "<br>\n",
    "$$\n",
    "P(\\alpha)= \\begin{bmatrix}\n",
    "1 & 0 \\\\ 0 & e^{i\\alpha} \n",
    "\\end{bmatrix}  =  \\ketbra{0}{0} + e^{i\\alpha}\\ketbra{1}{1}\n",
    "$$\n",
    "<br>\n",
    "es unitaria para todo $\\alpha$ como se comprueba fácilmente. \n",
    "Aplicada a un estado de cúbit genérico \n",
    "<br>\n",
    "<br>\n",
    "$$\n",
    "P(\\alpha) \\ket{u} =  \\begin{bmatrix} 1 & 0 \\\\ 0 & e^{i\\alpha} \\end{bmatrix}\n",
    "\\begin{bmatrix} \\cos\\theta \\\\ \\sin\\theta e^{i\\phi} \\end{bmatrix} = \\begin{bmatrix} \\cos\\theta \\\\ \\sin\\theta e^{i(\\phi+\\alpha)} \n",
    "\\end{bmatrix}= \\ket{v}\n",
    "$$\n",
    "<br>"
   ]
  },
  {
   "cell_type": "markdown",
   "id": "02bf0208",
   "metadata": {
    "slideshow": {
     "slide_type": "skip"
    }
   },
   "source": [
    "El efecto de este operador es rotar cualquier cúbit en torno al eje Z un ángulo $\\alpha$. Comprobamos que está relacionada con $R_z(\\alpha)$\n",
    "<br>\n",
    "<br>\n",
    "$$\n",
    "P(\\alpha) = \\begin{bmatrix} 1 & 0 \\\\ 0 & e^{i\\alpha} \\end{bmatrix} = \n",
    "\\begin{bmatrix} e^{i\\alpha/2} & 0 \\\\ 0 & e^{i\\alpha/2} \\end{bmatrix} \n",
    "\\begin{bmatrix} e^{-i\\alpha/2} & 0 \\\\ 0 & e^{i\\alpha/2} \\end{bmatrix}   \\equiv e^{i\\alpha/2} R_z(\\alpha)\n",
    "$$\n",
    "<br>\n",
    "<br>\n",
    "La fase global es trivial. Por tanto los dos operadores $P(\\alpha)$ y $R_Z(\\alpha)$ son equivalentes y producen el mismo efecto sobre la esfera de Bloch.\n",
    "\n",
    "\n",
    "+++ {\"slideshow\": {\"slide_type\": \"skip\"}}\n",
    "\n",
    "- $K_\\alpha = K(\\alpha)$\n",
    "<br>\n",
    "<br>\n",
    "realmente es una fase trivial, pero a veces se utiliza\n",
    "$$\n",
    "K(\\alpha)= e^{i\\alpha} \\begin{bmatrix}\n",
    "1 & 0 \\\\ 0 & 1 \n",
    "\\end{bmatrix} =  e^{i\\alpha}\\left(\\rule{0mm}{4mm} \\ketbra{0}{0} + \\ketbra{1}{1} \\right) = e^{i\\alpha} I \n",
    "$$"
   ]
  },
  {
   "cell_type": "markdown",
   "id": "3942cd29",
   "metadata": {
    "slideshow": {
     "slide_type": "slide"
    }
   },
   "source": [
    "#### Puertas Discretas\n",
    "\n",
    "Hay una serie de rotaciones discretas que forman un conjunto de puertas elementales de gran utilidad\n",
    "<br>\n",
    "\n",
    "- $X,Y,Z$\n",
    "\n",
    "$$\n",
    "\\begin{eqnarray}\n",
    "i R_{\\hat{\\bf x}}(\\pi) &=&   \\begin{bmatrix}0&1\\\\1&0\\end{bmatrix}   ~= ~ X  \\\\\n",
    "\\\\\n",
    "i R_{\\hat{\\bf y}}(\\pi) &=&  \\begin{bmatrix}0&-i\\\\i&0\\end{bmatrix}    ~= ~ Y \\\\\n",
    "\\\\\n",
    "i R_{\\hat{\\bf z}}(\\pi) &=&   \\begin{bmatrix}1&0\\\\0&-1\\end{bmatrix} ~= ~ Z \n",
    "\\end{eqnarray}\n",
    "$$\n",
    "<br>"
   ]
  },
  {
   "cell_type": "markdown",
   "id": "58e1e5ec",
   "metadata": {
    "slideshow": {
     "slide_type": "slide"
    }
   },
   "source": [
    "-  $S,T$\n",
    "\n",
    "Cualquier potencia  de un operador unitario $U$ es otro operador unitario $U^\\alpha$ \n",
    "\n",
    "Así obtenemos\n",
    "<br>\n",
    "<br>\n",
    "\n",
    "\\begin{eqnarray}\n",
    "S = Z^{1/2} &=&  \\begin{bmatrix}1&0\\\\0&i\\end{bmatrix}=\\begin{bmatrix}1&0\\\\0&e^{i\\pi/2}\\end{bmatrix}  \\\\\n",
    "&& \\\\\n",
    "T  = Z^{1/4} &=&  \\begin{bmatrix}1&0\\\\0&e^{i\\pi/4}\\end{bmatrix} \n",
    "\\end{eqnarray}\n",
    "<br>"
   ]
  },
  {
   "cell_type": "markdown",
   "id": "870a4623",
   "metadata": {
    "slideshow": {
     "slide_type": "slide"
    }
   },
   "source": [
    "- $H$   \n",
    "\n",
    "La puerta de Hadamard, $H$, es la primera puerta *genuinamente cuántica* en el sentido de que lleva un estado de la base a una superposición coherente\n",
    "<br>\n",
    "\n",
    "\\begin{eqnarray}\n",
    "H \\ket{0} &=& \\frac{1}{\\sqrt{2}}\\left(\\rule{0mm}{4mm}\\ket{0} + \\ket{1}\\right) =\\ket{+}   \\\\\n",
    "H \\ket{1} &=& \\frac{1}{\\sqrt{2}}\\left(\\rule{0mm}{4mm}\\ket{0} - \\ket{1}\\right) =\\ket{-} \n",
    "\\end{eqnarray}"
   ]
  },
  {
   "cell_type": "markdown",
   "id": "46e8af16",
   "metadata": {
    "slideshow": {
     "slide_type": "skip"
    }
   },
   "source": [
    "Podemos escribir este operador en la base canónica $H = H_{ij}\\ketbra{i}{j}$\n",
    "\n",
    "\\begin{eqnarray}\n",
    "H &=&  \\ket{+}\\bra{0} +  \\ket{-}\\bra{1} \\\\\n",
    "&=& \\frac{1}{\\sqrt{2}}(\\ketbra{0}{0} + \\ketbra{1}{0} + \\ketbra{0}{1} - \\ketbra{1}{1})\n",
    "\\end{eqnarray}"
   ]
  },
  {
   "cell_type": "markdown",
   "id": "1315b2f3",
   "metadata": {
    "slideshow": {
     "slide_type": "-"
    }
   },
   "source": [
    "La representación matricial   de $H$ es\n",
    "\n",
    "$$\n",
    "H  =  \\frac{1}{\\sqrt{2}} \\begin{bmatrix} 1& 1 \\\\ 1 & -1 \\end{bmatrix}  \n",
    "$$\n",
    "<br>"
   ]
  },
  {
   "cell_type": "markdown",
   "id": "c2b7deec",
   "metadata": {
    "slideshow": {
     "slide_type": "fragment"
    }
   },
   "source": [
    "<div class=\"alert alert-block alert-success\">\n",
    "<b>Ejercicio:</b> \n",
    "<br>\n",
    "Comprueba que $H  = i R_{\\hat{\\bf n}}(\\pi)$ con\n",
    "$\\hat{\\bf n} = \\frac{1}{\\sqrt{2}} (\\hat{\\bf x} + \\hat{\\bf z})$ un eje diagonal en el plano $(x,z)$\n",
    "</div>"
   ]
  },
  {
   "cell_type": "markdown",
   "id": "d7edaacb",
   "metadata": {
    "slideshow": {
     "slide_type": "skip"
    }
   },
   "source": [
    "<div class=\"alert alert-block alert-danger\",text-align:center>\n",
    "<b> Nota</b>:\n",
    "    en cálculos posteriores encontraremos muy útil la siguiente representación de la acción de $H$\n",
    "\n",
    "$$\n",
    "H \\ket{x} =\\frac{1}{\\sqrt{2}} \\sum_{y=0,1} (-1)^{ x  y} \\ket{y}\n",
    "$$\n",
    "</div>"
   ]
  },
  {
   "cell_type": "markdown",
   "id": "b0da1d6f",
   "metadata": {
    "slideshow": {
     "slide_type": "skip"
    }
   },
   "source": [
    "Como cualquier puerta, la acción de $H$ puede visualizarse como una rotación en la esfera de Bloch $H$ de $\\pi$ radianes en torno a un eje diagonal situado a 45$^\\circ$ entre el eje $x$ \n",
    "y el eje $y$. Esta rotación permuta los ejes $x$ y $z$ y cambia de sentido el eje $y$.\n",
    "\n",
    "$$\n",
    "\\begin{array}{rcl}\n",
    "\\hat{\\bf n} = \\frac{1}{\\sqrt{2}}(1,0,1) ~~~~~ \\Rightarrow ~~~~~ R_{\\hat{\\bf n}}(\\pi) &=&-i\\frac{1}{\\sqrt{2}} \\begin{bmatrix} 1  & 1 \\\\ 1 & -1  \\end{bmatrix} =-i H \\sim H\\nonumber\\\\\n",
    "\\end{array}\n",
    "$$"
   ]
  },
  {
   "cell_type": "markdown",
   "id": "789a28a4",
   "metadata": {
    "slideshow": {
     "slide_type": "skip"
    }
   },
   "source": [
    "Como toda rotación de $\\alpha = \\pi/2$, una segunda aplicación da lugar a la identidad\n",
    "\n",
    "$$\n",
    "H^2 = I\n",
    "$$"
   ]
  },
  {
   "cell_type": "markdown",
   "id": "a4d8d3cf",
   "metadata": {
    "slideshow": {
     "slide_type": "skip"
    }
   },
   "source": [
    "### Descomposición de un operador en puertas simples \n",
    "\n",
    "Una noción muy práctica en computación cuántica es la descomposición de una puerta en producto de otras más simples. \n",
    "\n",
    "Para el caso de $H$, un poco de visión espacial muestra que su acción equivale a la composición de\n",
    "\n",
    "- una  rotación de $\\pi/2$ radianes sobre el eje $Y$ \n",
    "\n",
    "\n",
    "- seguida de una rotación de  $\\pi$ radianes en torno al eje $X$. \n",
    "\n",
    "\n",
    "Lo demostramos algebraicamente (despreciando fases globales)"
   ]
  },
  {
   "cell_type": "markdown",
   "id": "95d56f5f",
   "metadata": {
    "slideshow": {
     "slide_type": "skip"
    }
   },
   "source": [
    "$$\n",
    " R_x(\\pi)R_{y}\\left(\\frac{\\pi}{2}\\right) = \\begin{bmatrix}0&-i\\\\-i&0\\end{bmatrix} \\begin{bmatrix}\\cos\\pi/4& -\\sin\\pi/4 \\\\ \\sin\\pi/4 & \\cos\\pi/4 \\end{bmatrix} = \\frac{1}{\\sqrt{2}} \\begin{bmatrix}0&1\\\\1&0\\end{bmatrix} \\begin{bmatrix}1 & -1 \\\\ 1 & 1 \\end{bmatrix}  = \\frac{-i}{\\sqrt{2}} \\begin{bmatrix}1&1\\\\1&-1\\end{bmatrix} =-i H \\sim H\n",
    "$$"
   ]
  },
  {
   "cell_type": "markdown",
   "id": "0f7e45b3",
   "metadata": {
    "slideshow": {
     "slide_type": "skip"
    }
   },
   "source": [
    "<div class=\"alert alert-block alert-success\">\n",
    "<b>Ejercicio:</b> \n",
    "Encontrar los valores de los  ángulos $\\theta,\\phi,\\varphi$ que  verifican las siguientes idendidades\n",
    "    \n",
    "    \n",
    " $$\n",
    " U(\\theta,\\phi,\\varphi) = H ~~~~,~~~~  U(\\theta,\\phi,\\varphi) = SH\n",
    " $$\n",
    "</div>"
   ]
  },
  {
   "cell_type": "markdown",
   "id": "7d80fb29",
   "metadata": {
    "slideshow": {
     "slide_type": "slide"
    }
   },
   "source": [
    "## Circuitos Cuánticos"
   ]
  },
  {
   "cell_type": "markdown",
   "id": "1ee6ef08",
   "metadata": {
    "slideshow": {
     "slide_type": "-"
    }
   },
   "source": [
    "La aplicación de una *puerta* \n",
    "<br>\n",
    "$$\n",
    "\\ket{\\psi} \\to  U(\\theta,\\phi,\\varphi)\\ket{\\psi}\n",
    "$$\n",
    "<br>\n",
    "\n",
    "\n",
    "se representa mediante un cuadrado que contiene los datos del operador asociado\n",
    "<br>\n",
    "<br>\n",
    "\n",
    "<div>\n",
    "<img src=\"images/puerta_simple.png\" width=\"30%\" style=\"margin:auto\"/>\n",
    "</div>"
   ]
  },
  {
   "cell_type": "code",
   "execution_count": null,
   "id": "4b497b8e",
   "metadata": {
    "run_control": {
     "marked": false
    },
    "slideshow": {
     "slide_type": "skip"
    }
   },
   "outputs": [],
   "source": [
    "from qiskit import Aer, execute, QuantumCircuit\n",
    "from qiskit.quantum_info import Statevector\n",
    "\n",
    "\n",
    "\n",
    "qc = QuantumCircuit(1)\n",
    "\n",
    "#qc.u(theta,phi,varphi,0) \n",
    "qc.h(0)\n",
    "\n",
    "display(qc.draw(output='mpl'))\n",
    "\n",
    "\n",
    "Statevector(qc).draw('Bloch')"
   ]
  },
  {
   "cell_type": "code",
   "execution_count": null,
   "id": "a1fa9395",
   "metadata": {
    "slideshow": {
     "slide_type": "skip"
    }
   },
   "outputs": [],
   "source": [
    "# print the state vector"
   ]
  },
  {
   "cell_type": "markdown",
   "id": "64a0f30f",
   "metadata": {
    "slideshow": {
     "slide_type": "skip"
    }
   },
   "source": [
    "<div class=\"alert alert-block alert-danger\",text-align:center>\n",
    "<b> Nota</b>: \n",
    "    \n",
    "- La concatenación de puertas se corresponde con la <i>composición de operadores</i>, es decir, con la <i>multiplicación de las matrices</i> asociadas. \n",
    " \n",
    "- El orden en que aparecen en el canal cuántico es, por tanto, el inverso.\n",
    "</div>"
   ]
  },
  {
   "cell_type": "code",
   "execution_count": null,
   "id": "66773ab2",
   "metadata": {
    "run_control": {
     "marked": false
    },
    "slideshow": {
     "slide_type": "slide"
    }
   },
   "outputs": [],
   "source": [
    "from qiskit import Aer, execute, QuantumCircuit, QuantumRegister\n",
    "from qiskit.quantum_info import Statevector\n",
    "\n",
    "qr = QuantumRegister(2)\n",
    "qc = QuantumCircuit(qr)\n",
    "\n",
    "#qc.x(1)\n",
    "#qc.y(0)\n",
    "qc.h(0)\n",
    "#qc.z(0)\n",
    "qc.s(0)\n",
    "#qc.t(0)\n",
    "\n",
    "# qc.u(theta,phi,lambda,quantum register)  https://qiskit.org/documentation/stubs/qiskit.circuit.library.UGate.html\n",
    "#qc.u(np.pi/4,np.pi/2,0,0)\n",
    "display(qc.draw(output='mpl'))\n",
    "\n",
    "Statevector(qc).draw('Bloch')"
   ]
  },
  {
   "cell_type": "markdown",
   "id": "3f60be98",
   "metadata": {
    "slideshow": {
     "slide_type": "skip"
    }
   },
   "source": [
    "### Matriz de un circuito\n",
    "\n",
    "Todo circuito se corresponde con un operador unitario que se obtiene componiendo todos los operadores que figuran en el. Por ejemplo, el circuito anterior representa el operador unitario $U$ al que le corresponde la matriz obtenida por multiplicación\n",
    "<br>\n",
    "<br>\n",
    "$$\n",
    "U = T H ~~~\\to ~~~ U_{ij} = \\begin{bmatrix}1&0\\\\0&e^{i\\pi/4}\\end{bmatrix} \\frac{1}{\\sqrt{2}} \\begin{bmatrix} 1& 1 \\\\ 1 & -1 \\end{bmatrix}  = \n",
    "\\frac{1}{\\sqrt{2}} \\begin{bmatrix} 1& 1 \\\\ e^{i\\pi/4} & -e^{i\\pi/4} \\end{bmatrix} \n",
    "$$"
   ]
  },
  {
   "cell_type": "code",
   "execution_count": null,
   "id": "5b21c97c",
   "metadata": {
    "slideshow": {
     "slide_type": "skip"
    }
   },
   "outputs": [],
   "source": [
    "### Circuit matrix representation\n",
    "U_simulator = Aer.get_backend('unitary_simulator')\n",
    "job = execute(qc, backend = U_simulator)\n",
    "\n",
    "U_matrix = job.result().get_unitary()\n",
    "\n",
    "print(U_matrix)\n",
    "\n",
    "'this looks very ugly, let us use latex'\n",
    "from qiskit.tools.visualization import array_to_latex\n",
    "array_to_latex(U_matrix, prefix=\"\\\\text{Unitary matrix = }\\n\")"
   ]
  },
  {
   "cell_type": "markdown",
   "id": "8da9d94e",
   "metadata": {
    "slideshow": {
     "slide_type": "skip"
    }
   },
   "source": [
    "El resultado de la aplicación sobre el vector $\\ket{0}$ será\n",
    "\n",
    "\n",
    "<br>\n",
    "\n",
    "$$\n",
    "\\frac{1}{\\sqrt{2}} \\begin{bmatrix} 1& 1 \\\\ e^{i\\pi/4} & -e^{i\\pi/4} \\end{bmatrix} \\begin{bmatrix}1 \\\\ 0 \\end{bmatrix}\n",
    " = \\frac{1}{\\sqrt{2}} \\begin{bmatrix} 1  \\\\ e^{i\\pi/4}  \\end{bmatrix} \n",
    "$$\n",
    "<br>"
   ]
  },
  {
   "cell_type": "markdown",
   "id": "c907cf91",
   "metadata": {
    "slideshow": {
     "slide_type": "skip"
    }
   },
   "source": [
    "Podemos anticipar el resultado: \n",
    "- el operador $H$\n",
    "lleva el vector $\\ket{0}$ sobre el eje $z$ al vector $\\ket{+}$ que se halla sobre el eje $x$.  \n",
    "\n",
    "- posterioremente, $T$ es una rotación de ángulo $\\pi/4$ en torno al eje $z$ que moverá el vector $\\ket{+}$ sobre el plano ecuatorial. Veamos el resultado"
   ]
  },
  {
   "cell_type": "code",
   "execution_count": null,
   "id": "01242df6",
   "metadata": {
    "slideshow": {
     "slide_type": "skip"
    }
   },
   "outputs": [],
   "source": [
    "qc = QuantumCircuit(1,1)\n",
    "\n",
    "qc.h(0)\n",
    "qc.t(0)\n",
    "\n",
    "Statevector(qc).draw('Bloch')"
   ]
  }
 ],
 "metadata": {
  "jupytext": {
   "text_representation": {
    "extension": ".md",
    "format_name": "myst",
    "format_version": 0.13,
    "jupytext_version": "1.15.2"
   }
  },
  "kernelspec": {
   "display_name": "Python 3 (ipykernel)",
   "language": "python",
   "name": "python3"
  },
  "source_map": [
   14,
   30,
   48,
   66,
   70,
   75,
   82,
   90,
   94,
   104,
   112,
   132,
   149,
   163,
   176,
   180,
   186,
   190,
   196,
   200,
   215,
   245,
   317,
   330,
   338,
   346,
   365,
   378,
   394,
   398,
   409,
   429,
   435,
   439,
   447,
   453,
   469,
   478,
   485,
   496,
   518,
   526,
   530,
   540,
   549,
   561,
   565,
   569,
   593,
   620,
   640,
   658,
   670,
   681,
   691,
   700,
   711,
   723,
   731,
   747,
   753,
   766,
   770,
   788,
   811,
   819,
   829,
   856,
   868,
   886,
   900,
   908
  ]
 },
 "nbformat": 4,
 "nbformat_minor": 5
}