{
 "cells": [
  {
   "cell_type": "markdown",
   "id": "c373b6d3",
   "metadata": {
    "slideshow": {
     "slide_type": "slide"
    }
   },
   "source": [
    "# Multi-cúbits\n",
    "\n",
    "\n",
    "\n",
    "\n",
    "$ \\newcommand{\\bra}[1]{\\langle #1|} $\n",
    "$ \\newcommand{\\ket}[1]{|#1\\rangle} $\n",
    "$ \\newcommand{\\braket}[2]{\\langle #1|#2\\rangle} $\n",
    "$ \\newcommand{\\i}{{\\color{blue} i}} $ \n",
    "$ \\newcommand{\\Hil}{{\\mathcal H}} $\n",
    "$ \\newcommand{\\cg}[1]{{\\rm C}#1} $"
   ]
  },
  {
   "cell_type": "markdown",
   "id": "837895ce",
   "metadata": {
    "slideshow": {
     "slide_type": "skip"
    }
   },
   "source": [
    "- [Bases multi-cúbit](#multicubit)\n",
    "\n",
    "\n",
    "- [Entrelazamiento](#entrelazamiento)\n",
    "    - [Base de Bell](#base_bell)\n",
    "\n",
    "\n",
    "- [Circuitos multi-cúbit](#circuitos)\n",
    "\n",
    "\n",
    "\n",
    "- [Puertas multi-cúbits](#multioper)\n",
    "\n",
    "\n",
    "- [Teorema de no-clonación](#nocloning)"
   ]
  },
  {
   "cell_type": "code",
   "execution_count": null,
   "id": "41b891c5",
   "metadata": {
    "slideshow": {
     "slide_type": "-"
    }
   },
   "outputs": [],
   "source": [
    "import sys\n",
    "sys.path.append('../')\n",
    "import macro_tQ as tQ\n",
    "\n",
    "import numpy as np\n",
    "import scipy.linalg as la\n",
    "from IPython.display import display,Markdown,Latex\n",
    "import matplotlib.pyplot as plt\n",
    "from qiskit.tools.visualization import array_to_latex"
   ]
  },
  {
   "cell_type": "markdown",
   "id": "e42edbd3",
   "metadata": {
    "slideshow": {
     "slide_type": "skip"
    }
   },
   "source": [
    "## Bases multi-cúbit"
   ]
  },
  {
   "cell_type": "markdown",
   "id": "714d2087",
   "metadata": {
    "slideshow": {
     "slide_type": "skip"
    }
   },
   "source": [
    " Sea $\\{ \\ket{i}\\}_{i=0,1}$ la base computacional del espacio de Hilbert de un cúbit $\\Hil = {\\mathbb C}^2$.\n",
    " \n",
    "<div class=\"alert alert-block alert-info\",text-align:center>\n",
    "<p style=\"text-align: center;\"> <p style=\"text-align: left ;color: navy;\">  \n",
    "<b> Definición: </b> \n",
    "<br>\n",
    "La base computacional de $ \\Hil^{\\otimes n}$ está formada por todas las cadenas de elementos posibles\n",
    "<br>\n",
    "<br>\n",
    "$$\n",
    " \\ket{i_{n-1}}\\otimes \\ket{i_{n-2}}\\otimes ... \\otimes \\ket{i_0} ~\\equiv ~\\ket{i_{n-1} i_{n-2}...i_0}~$$ \n",
    "<br>\n",
    "<br>    \n",
    "donde $~~\n",
    " i_{n-1},...,i_0=0,1$\n",
    "</div>\n",
    "\n",
    "<br>"
   ]
  },
  {
   "cell_type": "markdown",
   "id": "c5294d85",
   "metadata": {
    "slideshow": {
     "slide_type": "skip"
    }
   },
   "source": [
    "La *dimensión*  dim($\\Hil^{\\otimes n}$) = $2^n$ coincide con el número combinaciones distintas posibles: $2\\times 2...\\times 2 = 2^n$."
   ]
  },
  {
   "cell_type": "markdown",
   "id": "f97cdff3",
   "metadata": {
    "slideshow": {
     "slide_type": "skip"
    }
   },
   "source": [
    "- Cuando pasamos a vectores columnas para representar un ket, el producto tensorial se traduce en el producto de Kronecker. Por ejemplo, para un sistema de 2-cúbits,   $n=2$ y tendríamos $2^n=2^2 = 4$ y entonces\n",
    "\n",
    "<br>\n",
    "\n",
    "$$\n",
    "\\ket{00}~=~ \\ket{0}\\otimes \\ket{0}~=~\n",
    "\\begin{bmatrix}1\\\\ 0\\end{bmatrix} \\otimes \\begin{bmatrix}1\\\\ 0\\end{bmatrix} = \\begin{bmatrix}1\\\\0\\\\0 \\\\ 0\\end{bmatrix}\n",
    "~~~~~~,~~~~~\n",
    "\\ket{01}~=~ \\ket{0}\\otimes \\ket{1}~=~\n",
    "\\begin{bmatrix}1\\\\ 0\\end{bmatrix} \\otimes \\begin{bmatrix}0\\\\ 1\\end{bmatrix} = \\begin{bmatrix}0\\\\1\\\\0 \\\\ 0\\end{bmatrix}\n",
    "$$\n",
    "\n",
    "\n",
    "<br>\n",
    "\n",
    "$$\n",
    "\\ket{10}~=~ \\ket{1}\\otimes \\ket{0}~=~\n",
    " \\begin{bmatrix}0\\\\ 1\\end{bmatrix} \\otimes \\begin{bmatrix}1\\\\ 0\\end{bmatrix} = \\begin{bmatrix}0\\\\0\\\\1 \\\\ 0\\end{bmatrix}\n",
    " ~~~~~,~~~~\n",
    "\\ket{11}~=~ \\ket{1}\\otimes \\ket{1}~=~\n",
    "\\begin{bmatrix}0\\\\ 1\\end{bmatrix} \\otimes \\begin{bmatrix}0\\\\ 1\\end{bmatrix} = \\begin{bmatrix}0\\\\0\\\\0 \\\\ 1\\end{bmatrix}\n",
    "$$\n",
    "\n",
    "<br>\n",
    "\n",
    "\n",
    "Las etiquetas de los vectores y, por tanto, de las componentes de las matrices, bi-índices $ij=11,12,21,22$ que adopta el mismo número, $N^2$, de cofiguraciones distintas."
   ]
  },
  {
   "cell_type": "markdown",
   "id": "87d39772",
   "metadata": {
    "slideshow": {
     "slide_type": "skip"
    }
   },
   "source": [
    "<div class=\"alert alert-block alert-danger\">\n",
    "<b> Notar: </b>\n",
    "    \n",
    "El <i>multi-ínidice</i> $i_{n-1}i_{n-2}....i_0$ puede interpretarse como un número entero, $p$, escrito en base *binaria*\n",
    "<br>\n",
    "\n",
    "$$\n",
    "~~ i_{n-1} i_{n-2}...i_0 ~~\\longleftrightarrow ~~~p = \\sum_{k=0}^{n-1} 2^k i_k \n",
    "$$\n",
    "<br>\n",
    "que tomará  $2^n$ valores $p = 0,1, \\, ...\\, ,2^{n}-1$. \n",
    "<br>\n",
    "<br>    \n",
    "El cambio de notación *multi-índice* $\\leftrightarrow$ *entero en notación decimal* será frecuente y se aplicará a cualquier elemento. \n",
    "    \n",
    "Por ejemplo $\\ket{000} = \\ket{0}, \\ket{111} = \\ket{7}$ etc.\n",
    "</div>"
   ]
  },
  {
   "cell_type": "markdown",
   "id": "d7aea257",
   "metadata": {
    "slideshow": {
     "slide_type": "skip"
    }
   },
   "source": [
    "<div class=\"alert alert-block alert-info\",text-align:center>\n",
    "<p style=\"text-align: center;\"> <p style=\"text-align: left ;color: navy;\">  \n",
    "<br>    \n",
    "El vector de estado más general  $\\ket{u}\\in \\Hil^{\\otimes n}$ será una combinación lineal de elementos de la base computacional $\\ket{i_n i_{n-1}...i_1}$ en términos de unas componentes $u_{i_ni_{n-1}...i_1}$\n",
    "<br>    \n",
    "<br>\n",
    "$$\n",
    "\\ket{u} = \\sum_{i_{n-1},...,i_0=0,1} u_{i_{n-1} ... i_0} \\ket{i_{n-1}  ... i_0}  = \\sum_{p=0}^{2^n-1} u_p \\ket{p}, .\n",
    "$$\n",
    "<br>\n",
    "donde hemos usado alternativamente la notación binaria y la decimal. \n",
    "</div>"
   ]
  },
  {
   "cell_type": "markdown",
   "id": "7d95cdee",
   "metadata": {
    "slideshow": {
     "slide_type": "skip"
    }
   },
   "source": [
    "<div class=\"alert alert-block alert-warning\">\n",
    "<b>Ejemplo:</b>para $n=2$ tendremos, en notación binaria  \n",
    "\n",
    "\\begin{array}{ccc}\n",
    "\\ket{u} ~&=& ~ \\sum_{i,j=0,1} u_{ij} \\ket{ij}~=~ u_{00}\\ket{00}+ u_{01}\\ket{01} + u_{10}\\ket{10} +u_{11}\\ket{11}\n",
    "\\\\ \\\\\n",
    "~&=&~ u_{00}\\begin{bmatrix}1\\\\0\\\\0 \\\\ 0\\end{bmatrix}+ u_{01}  \\begin{bmatrix}0\\\\1\\\\0 \\\\ 0\\end{bmatrix} + u_{10}\\begin{bmatrix}0\\\\0\\\\1\\\\0\\end{bmatrix}+u_{11}  \\begin{bmatrix}0\\\\0\\\\0\\\\1\\end{bmatrix}   ~ = \\begin{bmatrix}u_{00}\\\\ u_{01}\\\\ u_{10} \\\\ u_{11}  \\end{bmatrix}\n",
    "\\end{array}\n",
    "\n",
    "y en notación decimal, para el mismo vector\n",
    "\\begin{array}{ccc}\n",
    "\\ket{u} ~&=& ~ \\sum_{k=0}^{2^2-1=3} u_{k} \\ket{k}~=~ u_{0}\\ket{0}+ u_{1}\\ket{1} + u_{2}\\ket{2} +u_{3}\\ket{3}\n",
    "\\\\ \\\\\n",
    "~&=&~ u_{0}\\begin{bmatrix}1\\\\0\\\\0 \\\\ 0\\end{bmatrix}+ u_{1}  \\begin{bmatrix}0\\\\1\\\\0 \\\\ 0\\end{bmatrix} + u_{2}\\begin{bmatrix}0\\\\0\\\\1\\\\0\\end{bmatrix}+u_{3}  \\begin{bmatrix}0\\\\0\\\\0\\\\1\\end{bmatrix}   ~ = \\begin{bmatrix}u_{0}\\\\ u_{1}\\\\ u_{2} \\\\ u_{3}  \\end{bmatrix}\n",
    "\\end{array}\n",
    "\n",
    "No debería haber confusión entre ambas notaciones puesto que, en cuanto aparezca un número superior a 1 quiere decir que estamos tratando con la base decimal. \n",
    "</div>"
   ]
  },
  {
   "cell_type": "markdown",
   "id": "564f4d43",
   "metadata": {
    "slideshow": {
     "slide_type": "skip"
    }
   },
   "source": [
    "  \n",
    "<div class=\"alert alert-block alert-success\">\n",
    "    <b>Ejercicio 1.2.1.2</b> \n",
    "Normaliza el vector $\\ket{u} = (1+i)\\ket{101} -2\\ket{010} + 3\\ket{111}$ y escríbelo en notación decimal\n",
    "</div>"
   ]
  },
  {
   "cell_type": "markdown",
   "id": "970093d8",
   "metadata": {
    "slideshow": {
     "slide_type": "slide"
    }
   },
   "source": [
    "### Circuitos multi-cúbit"
   ]
  },
  {
   "cell_type": "markdown",
   "id": "6aade6b2",
   "metadata": {
    "slideshow": {
     "slide_type": "-"
    }
   },
   "source": [
    "Sea $\\ket{q_{n-1}q_{n-2}...q_0}$ un estado multicúbit de la base computacional $q_{a} = 0,1$. \n",
    "\n",
    "Este estado \n",
    "se propaga a lo largo de un circuito de forma que <i>cada línea representa un espacio de Hilbert</i>."
   ]
  },
  {
   "cell_type": "markdown",
   "id": "3fcb7370",
   "metadata": {
    "slideshow": {
     "slide_type": "slide"
    }
   },
   "source": [
    "La asignación que se hace en *qiskit* coloca el cúbit *menos relevante* $q_0$  en la  línea superior. Esto es\n",
    "\n",
    "- Qiskit:  \n",
    "\n",
    "<div>    \n",
    "<img src=\"images/Multicubit_circ.png\" width=\"30%\" style=\"margin:auto\"/>\n",
    "</div>\n",
    "<br>"
   ]
  },
  {
   "cell_type": "markdown",
   "id": "5fda359b",
   "metadata": {
    "slideshow": {
     "slide_type": "slide"
    }
   },
   "source": [
    "Esta ordenación en un circuito es la inversa de la que tradicional\n",
    "\n",
    "- Todos los demás\n",
    "\n",
    "<div>\n",
    "<img src=\"images/Multicubit_circ_NC.png\" width=\"30%\" style=\"margin:auto\"/>\n",
    "</div>\n",
    "<br>"
   ]
  },
  {
   "cell_type": "markdown",
   "id": "6bf724fe",
   "metadata": {
    "slideshow": {
     "slide_type": "slide"
    }
   },
   "source": [
    "### Entrelazamiento"
   ]
  },
  {
   "cell_type": "markdown",
   "id": "6c43239c",
   "metadata": {
    "slideshow": {
     "slide_type": "-"
    }
   },
   "source": [
    "De forma  general, los estados $\\ket{u}\\in \\Hil^{\\otimes n}$ pertenecen a dos conjuntos disjuntos\n",
    "    <br>\n",
    "    \n",
    "   - estado factorizables, cuando $\\ket{u} = \\ket{a}\\otimes \\ket{b}\\otimes...\\otimes \\ket{c}$\n",
    "<br>\n",
    "\n",
    "   - estados entrelazados, cuando $\\ket{u} \\neq \\ket{a}\\otimes \\ket{b}\\otimes...\\otimes \\ket{c}$ no es factorizable"
   ]
  },
  {
   "cell_type": "markdown",
   "id": "db33e1bd",
   "metadata": {
    "slideshow": {
     "slide_type": "slide"
    }
   },
   "source": [
    "Ahora podemos usar también bases cuyo elementos sean vectores factorizados o entrelazados. \n",
    "\n",
    "- **base computacional** (factorizada): $\\{ \\ket{00},\\ket{01},\\ket{10},\\ket{11}\\}$\n",
    "<br>\n",
    "\n",
    "- **base de Bell** (entrelazada): \n",
    "\n",
    "\\begin{array}{rcl}\n",
    "\\ket{B_{00}} &=& \\frac{1}{\\sqrt{2}} \\big( \\ket{00} + \\ket{11} \\big) \\\\\n",
    "\\ket{B_{01}} &=& \\frac{1}{\\sqrt{2}} \\big( \\ket{00} - \\ket{11} \\big) \\\\\n",
    "\\ket{B_{10}} &=& \\frac{1}{\\sqrt{2}} \\big( \\ket{01} + \\ket{10} \\big) \\\\\n",
    "\\ket{B_{11}} &=& \\frac{1}{\\sqrt{2}} \\big( \\ket{01} - \\ket{10} \\big) \\\\\n",
    "\\end{array}\n",
    "\n",
    "<br>"
   ]
  },
  {
   "cell_type": "markdown",
   "id": "07a7a74b",
   "metadata": {
    "slideshow": {
     "slide_type": "slide"
    }
   },
   "source": [
    "### Medidas parciales\n",
    "\n",
    "Una medida parcial afecta sólamente a un subconjunto de cúbits de un multi-cúbit. \n",
    "\n",
    "Aquí encontramos una diferencia crucial entre estados factorizables y entrelazados."
   ]
  },
  {
   "cell_type": "markdown",
   "id": "21b68ab0",
   "metadata": {
    "slideshow": {
     "slide_type": "-"
    }
   },
   "source": [
    "Consideremos el estado bi-cúbit *factorizable* visto antes\n",
    "\n",
    "$$\n",
    "\\ket{u} = \\ket{a}\\otimes \\ket{b} = \\frac{1}{\\sqrt{2}}\\big( \\ket{0} + \\ket{1}\\big)\\otimes \\frac{1}{\\sqrt{2}}\\big( \\ket{0} + \\ket{1}\\big)\\, .\n",
    "$$\n",
    "\n",
    "donde vamos a suponer que el cúbit $\\ket{a}$ está en el laboratorio de Alice, y el $\\ket{b}$ en el de Bob."
   ]
  },
  {
   "cell_type": "markdown",
   "id": "2c94ead9",
   "metadata": {
    "slideshow": {
     "slide_type": "slide"
    }
   },
   "source": [
    "Una medida de Alice sobre el primer cúbit solo podrá resultar, con probabilidad $1/2$, en uno de los dos posibles estados siguientes  \n",
    "><br>\n",
    ">$$\n",
    "\\ket{u} ~\\rightarrow ~ \\left\\{ \\begin{matrix}\\ket{0} \\otimes \\frac{1}{\\sqrt{2}}\\big( \\ket{0} + \\ket{1}\\big)\\\\ \\ket{1} \\otimes \\frac{1}{\\sqrt{2}}\\big( \\ket{0} + \\ket{1}\\big) \\end{matrix} \\right.\n",
    "$$\n",
    "<br>\n",
    "\n",
    "Vemos que, después de esta medición, el segundo cúbit permanece intacto. Si Bob mide, podrá obtener $\\ket{0}$ ó $\\ket{1}$ con probabilidad $1/2$.\n",
    "<br>\n",
    "\n",
    "-  en este caso, las medidas de Alice y Bob *no están correlacionadas*"
   ]
  },
  {
   "cell_type": "markdown",
   "id": "0b7cc551",
   "metadata": {
    "slideshow": {
     "slide_type": "slide"
    }
   },
   "source": [
    " Sin embargo, si el estado es *entrelazado*, por ejemplo, \n",
    "<br>\n",
    "\n",
    "$$\n",
    "  \\ket{u} = \\frac{1}{\\sqrt{2}}\\big( \\ket{00} + \\ket{11} \\big)\\, ,\n",
    "$$\n",
    "<br>\n",
    "una medida de Alice sobre el primer cúbit hace colapsar estado completo a uno de los dos siguientes posibles \n",
    "<br>\n",
    "<br>\n",
    "$$\n",
    "\\ket{u} ~\\stackrel{\\hbox{ mide Alice}}{\\longrightarrow} ~ \\left\\{ \\begin{matrix}\\ket{0}\\otimes\\ket{0}  \\\\ \\ket{1}\\otimes \\ket{1}\\end{matrix} \\right. \\, .\n",
    "$$\n",
    "<br>\n",
    "también con probabilidad 1/2 cada caso."
   ]
  },
  {
   "cell_type": "markdown",
   "id": "e9661e0b",
   "metadata": {
    "slideshow": {
     "slide_type": "slide"
    }
   },
   "source": [
    "Vemos que ahora: el segundo cúbit ha sufrido modificación  *correlacionada* con el resultado obtenido de la medida del primero\n",
    "\n",
    ">Si Alice midió $\\ket{0}$, Bob sólo puede obtener $\\ket{0}$\n",
    "><br>\n",
    "><br>\n",
    ">Si Alice midió $\\ket{1}$, Bob sólo puede obtener $\\ket{1}$\n",
    "<br>\n",
    "\n",
    "\n",
    "-  en este caso, las medidas de Alice y Bob sí están 100\\% *correlacionadas*"
   ]
  },
  {
   "cell_type": "markdown",
   "id": "278f99b8",
   "metadata": {
    "slideshow": {
     "slide_type": "slide"
    }
   },
   "source": [
    "Esta correlación es independiente de la distancia que separe a Alice y a Bob. Eso parece violar causalidad. \n",
    "\n",
    "\n",
    "Einstein Podolski y Rosen en 1935 pensaron que este hecho demostraba que la Mecánica Cuántica era incompleta.  Esto se conoce como la [*paradoja EPR*](https://en.wikipedia.org/wiki/Einstein%E2%80%93Podolsky%E2%80%93Rosen_paradox)"
   ]
  },
  {
   "cell_type": "markdown",
   "id": "997d9f45",
   "metadata": {
    "slideshow": {
     "slide_type": "fragment"
    }
   },
   "source": [
    "<div class=\"alert alert-block alert-danger\">\n",
    "<b> Observar: </b>\n",
    "<br>    \n",
    "    \n",
    "-  En ambos casos, factorizable o entrelazado,  las probabilidades de Bob, de obtener $\\ket{0}$ ó $\\ket{1}$ en el segundo cúbit, son iguales a $1/2$. \n",
    "<br>\n",
    "    \n",
    "- Eso implica que las correlaciones cuánticas no permiten transmitir información   <i>(No-signalling theorem)</i>.\n",
    "<br>\n",
    "    \n",
    "- Sin embargo, sus efectos sí que existen. Para ponerlos de manifiesto es necesario diseñar experimentos más sutiles. El primero que se inventó fue debido a John Bell en 1964\n",
    "\n",
    "</div>"
   ]
  },
  {
   "cell_type": "markdown",
   "id": "fa4c6299",
   "metadata": {
    "slideshow": {
     "slide_type": "slide"
    }
   },
   "source": [
    "## Puertas multi-cúbit"
   ]
  },
  {
   "cell_type": "markdown",
   "id": "74a7572d",
   "metadata": {
    "slideshow": {
     "slide_type": "slide"
    }
   },
   "source": [
    "### La puerta de Walsh-Hadamard"
   ]
  },
  {
   "cell_type": "markdown",
   "id": "dbc1b32e",
   "metadata": {
    "slideshow": {
     "slide_type": "-"
    }
   },
   "source": [
    "El operador de Waslh-Hadamard es un *producto tensorial de operadores*\n",
    "<br>\n",
    "<br>\n",
    "$$\n",
    "W =  H^{\\otimes n} = H\\otimes H \\ldots \\otimes H \n",
    "$$"
   ]
  },
  {
   "cell_type": "markdown",
   "id": "0d85115a",
   "metadata": {
    "slideshow": {
     "slide_type": "fragment"
    }
   },
   "source": [
    "La  acción  de $W$ sobre el estado de referencia $\\ket{00...0}$ produce una superposición uniforme de todos los estados de la base.\n",
    "<br>\n",
    "<br>\n",
    "\n",
    "\\begin{eqnarray}\n",
    "W \\ket{00...0} &~=~& H\\ket{0}\\otimes H\\ket{0} \\otimes ... \\otimes H\\ket{0} \\\\  \\rule{0mm}{12mm}\n",
    "&=& \\frac{1}{\\sqrt{2}}\\big(\\ket{0}+\\ket{1}\\big)\\otimes \\frac{1}{\\sqrt{2}}\\big(\\ket{0}+\\ket{1}\\big)\\otimes ...\\otimes \\frac{1}{\\sqrt{2}}\\big(\\ket{0}+\\ket{1}\\big)\\\\ \\rule{0mm}{10mm}\n",
    "&=& \\frac{1}{2^{n/2}}\\big(\\ket{00...00} + \\ket{00...01}+....+\\ket{11...11} \\big)\n",
    "\\end{eqnarray}"
   ]
  },
  {
   "cell_type": "markdown",
   "id": "a25a6a21",
   "metadata": {
    "slideshow": {
     "slide_type": "skip"
    }
   },
   "source": [
    "La acción de $W$ sobre un estado multicúbit  es necesario recordar la acción de $H$ \n",
    "\n",
    "$$\n",
    "H\\ket{x} = \\sum_{y=0,1}(-1)^{xy}\\ket{y}\n",
    "$$\n",
    "\n",
    "Entonces, operando\n",
    "\n",
    "\\begin{eqnarray}\n",
    "W \\ket{x} &=& H\\ket{x_{n-1}}\\otimes H\\ket{x_{n-2}}\\otimes \\ldots \\otimes H\\ket{x_0} \\\\  \\rule{0mm}{12mm}\n",
    "\\rule{0mm}{10mm}\n",
    "&=& \\sum_{y_{n-1}= \\, 0,1} (-1)^{y_{n-1}x_{n-1}}\\ket{y_{n-1}}\\otimes \\sum_{y_{n-2}=0,1} (-1)^{y_{n-2}x_{n-2}}\\ket{y_{n-2}} \\otimes \\ldots \\otimes  \\sum_{y_{0}\\, =\\, 0,1} (-1)^{y_{0}x_{0}}\\ket{y_{0}} \n",
    "\\end{eqnarray}"
   ]
  },
  {
   "cell_type": "markdown",
   "id": "8be97c6b",
   "metadata": {
    "slideshow": {
     "slide_type": "skip"
    }
   },
   "source": [
    "\\begin{eqnarray}\n",
    "&=& \\sum_{y_{n-1} y_{n-2}\\ldots y_{0}=\\, 0,1} (-1)^{x_{n-1} y_{n-1}+ \\ldots + x_0 y_0} \\ket{y_{n-1}\\ldots y_0} \\hspace{5.2cm}\\\\\n",
    "&=& \\sum_{y \\, =\\, 0}^{2^n-1}(-1)^{x\\cdot y} \\ket{y} \\rule{0mm}{10mm}\n",
    "\\end{eqnarray}\n",
    "\n",
    "donde $$ x\\cdot y = x_{n-1} y_{n-1} + x_{n-1} y_{n-1} + \\ldots + x_0 y_0$$"
   ]
  },
  {
   "cell_type": "markdown",
   "id": "ec480418",
   "metadata": {
    "slideshow": {
     "slide_type": "skip"
    }
   },
   "source": [
    "### La puerta SWAP"
   ]
  },
  {
   "cell_type": "markdown",
   "id": "1d32171a",
   "metadata": {
    "slideshow": {
     "slide_type": "skip"
    }
   },
   "source": [
    " La puerta SWAP es una puerta binaria fundamental, cuya acción consiste en permutar los estados existentes en los registros individuales sobre los que actúa. En particular, sobre los elementos de la base\n",
    "\n",
    "\n",
    "$$\n",
    "U_{\\rm SWAP }: \\ket{00}\\to\\ket{00}~~,~~\\ket{01}\\to\\ket{10}~~,~~\\ket{10}\\to\\ket{01}~~,~~\n",
    "\\ket{11}\\to\\ket{11}\\, .\n",
    "$$"
   ]
  },
  {
   "cell_type": "markdown",
   "id": "62353c71",
   "metadata": {
    "slideshow": {
     "slide_type": "skip"
    }
   },
   "source": [
    "Esto nos permite escribir el operador en la notación de producto exterior\n",
    "\n",
    "$$\n",
    "U_{\\rm SWAP } = \\ket{00}\\bra{00} + \\ket{01}\\bra{10} + \\ket{10}\\bra{01} +\\ket{11}\\bra{11} \n",
    "$$"
   ]
  },
  {
   "cell_type": "markdown",
   "id": "0d84c548",
   "metadata": {
    "slideshow": {
     "slide_type": "skip"
    }
   },
   "source": [
    "con matriz asociada \n",
    "$$\n",
    "U_{\\rm SWAP} =  \\begin{bmatrix} \n",
    "1 & 0 & 0 & 0 \\\\ 0 & 0 & 1 & 0 \\\\ 0 & 1 & 0 & 0 \\\\ 0 & 0 & 0 & 1\n",
    "\\end{bmatrix}\n",
    "$$"
   ]
  },
  {
   "cell_type": "markdown",
   "id": "dc5429a7",
   "metadata": {
    "slideshow": {
     "slide_type": "skip"
    }
   },
   "source": [
    "y su inserción en un circuito se representa en la forma siguiente\n",
    "<br>\n",
    "<br>\n",
    "<div>\n",
    "<img src=\"images/SWAP_gate.png\" width=\"25%\" style=\"margin:auto\"/>\n",
    "</div>\n",
    "<br>"
   ]
  },
  {
   "cell_type": "markdown",
   "id": "b31de0da",
   "metadata": {
    "slideshow": {
     "slide_type": "skip"
    }
   },
   "source": [
    "### Puertas controladas $\\cg{U}$"
   ]
  },
  {
   "cell_type": "markdown",
   "id": "a8f05d63",
   "metadata": {
    "slideshow": {
     "slide_type": "skip"
    }
   },
   "source": [
    "Las puertas controladas son eficientes para generar entrelazamiento"
   ]
  },
  {
   "cell_type": "markdown",
   "id": "f337bd7b",
   "metadata": {
    "slideshow": {
     "slide_type": "skip"
    }
   },
   "source": [
    "En la puerta controlada un operador se aplica sobre un cúbit dependiendo del estado en el que se encuentra otro. \n",
    "\n",
    "Este segundo cúbit se denomina *controlador*, mientras que el primero es el *controlado*"
   ]
  },
  {
   "cell_type": "markdown",
   "id": "4f6d6a0e",
   "metadata": {
    "slideshow": {
     "slide_type": "skip"
    }
   },
   "source": [
    "La puerta controlada se representa como sigue\n",
    "<br>\n",
    "<br>\n",
    "\n",
    "$$\n",
    "\\cg{U} = \\ket{0}\\bra{0}\\otimes I + \\ket{1}\\bra{1}\\otimes U\n",
    "$$\n",
    "<br>\n",
    "\n",
    "donde $U$ es un operador unitario de 1-cúbit general."
   ]
  },
  {
   "cell_type": "markdown",
   "id": "acbf7eda",
   "metadata": {
    "slideshow": {
     "slide_type": "skip"
    }
   },
   "source": [
    "Si en el primer cúbit (controlador)\n",
    "<br>\n",
    "    \n",
    "- entra $\\ket{0}$, sale $\\ket{0}$ y en el segundo cúbit (controlado) no se hace nada (se aplica $I$).\n",
    "<br>\n",
    "    \n",
    "- entra $\\ket{1}$, sale $\\ket{1}$ y en el segundo cúbit (controlado) se aplica el operador $U$."
   ]
  },
  {
   "cell_type": "markdown",
   "id": "5aaebbd7",
   "metadata": {
    "slideshow": {
     "slide_type": "skip"
    }
   },
   "source": [
    "La *representación matricial* de $\\cg{U}$ es fácil de obtener como suma de  *productos de Kronecker* \n",
    "\n",
    "\n",
    "\\begin{eqnarray}\n",
    "\\cg{U} &=& \\begin{bmatrix}1 & 0 \\\\ 0 & 0 \\end{bmatrix}\\otimes  I +  \\begin{bmatrix}0 & 0 \\\\ 0 & 1 \\end{bmatrix} \\otimes U\n",
    "= \\begin{bmatrix} 1\\times I & 0 \\\\ 0 & 0 \\end{bmatrix}  + \n",
    "\\begin{bmatrix} 0 & 0 \\\\ 0 & 1\\times U \\end{bmatrix} \\\\\n",
    "&=& \\begin{bmatrix}   I & 0 \\\\ 0 &   U \\end{bmatrix} = \n",
    "\\begin{bmatrix} 1 & 0 & 0 & 0 \\\\ 0 & 1 & 0 & 0 \\\\ 0 & 0 & U_{11} & U_{12} \\\\\n",
    "0 & 0 & U_{21} & U_{22}\\end{bmatrix}\n",
    "\\end{eqnarray}"
   ]
  },
  {
   "cell_type": "markdown",
   "id": "2feaac5c",
   "metadata": {
    "slideshow": {
     "slide_type": "skip"
    }
   },
   "source": [
    "<div class=\"alert alert-block alert-danger\">\n",
    "\n",
    "- Escrito de esta manera es evidente que, si $U$ es una matriz unitaria, $\\cg{U}$ también lo es $~\n",
    "\\Rightarrow (\\cg{U})^\\dagger \\cg{U} = I$\n",
    "\n",
    "\n",
    "- Esto no es algo trivial por cuanto la combinación lineal de operadores unitarios, en general, no es  unitaria.\n",
    "</div>"
   ]
  },
  {
   "cell_type": "markdown",
   "id": "d53a7d3e",
   "metadata": {
    "slideshow": {
     "slide_type": "skip"
    }
   },
   "source": [
    "- La *acción* de $\\cg{U}$ sobre elementos de la base $\\{\\ket{x}\\}$ donde $x=0,1$ admite una forma compacta \n",
    "<br>\n",
    "<br>\n",
    "$$\n",
    "\\cg{U}:\\ket{x}\\otimes\\ket{y} = \\ket{x} \\otimes U^x\\ket{y}\n",
    "$$\n",
    "<br>"
   ]
  },
  {
   "cell_type": "markdown",
   "id": "5dc2254e",
   "metadata": {
    "slideshow": {
     "slide_type": "skip"
    }
   },
   "source": [
    "- La *representación gráfica* del circuito asociado al operador controlado $\\cg{U}$ es la siguiente\n",
    "<br>\n",
    "<br>\n",
    "<br>\n",
    "\n",
    "<div>\n",
    "<img src=\"images/cu_gate.png\" width=\"20%\" style=\"margin:auto\"/>\n",
    "</div>\n",
    "<br>\n",
    "con $x,y = 0,1$."
   ]
  },
  {
   "cell_type": "markdown",
   "id": "e76a695e",
   "metadata": {
    "slideshow": {
     "slide_type": "skip"
    }
   },
   "source": [
    "<div class=\"alert alert-block alert-success\">\n",
    "    <b>Ejercicio </b>  \n",
    "    \n",
    "escribe un operador controlado y las matrices asociadas cuando  \n",
    "\n",
    "-  el cúbit de control es el segundo sobre el primero. \n",
    "<br>\n",
    "-  el operador $U$ se aplica sobre el segundo cúbit, si el estado del primero es $\\ket{0}$. \n",
    "\n",
    "</div>"
   ]
  },
  {
   "cell_type": "markdown",
   "id": "6f72cdd4",
   "metadata": {
    "slideshow": {
     "slide_type": "skip"
    }
   },
   "source": [
    "Operadores como éste existen en circuitos clásicos. La fascinante novedad es que, ahora, por el primer cúbit podría circular una *superposición* $a\\ket{0} + b\\ket{1}$.\n",
    "\n",
    "En ese caso, el resultado de una acción controlada también conduce a una superposición, de forma tal que **se genera entrelazamiento**"
   ]
  },
  {
   "cell_type": "markdown",
   "id": "e5643cc1",
   "metadata": {
    "slideshow": {
     "slide_type": "skip"
    }
   },
   "source": [
    "    \n",
    "Para verlo, hagamos actuar $\\cg{U}$ sobre un estado de la forma  $\\ket{\\phi} = (a\\ket{0} + b\\ket{1})\\otimes \\ket{U}$, que es *factorizable*\n",
    "  \n",
    "<br>\n",
    " \n",
    "\\begin{eqnarray}\n",
    "\\cg{U}\\,(a\\ket{0} +b \\ket{1})\\otimes \\ket{v} &=&\n",
    "    \\left(\\ket{0}\\bra{0}\\otimes I + \\ket{1}\\bra{1}\\otimes U\\rule{0mm}{4mm}\\right)(a\\ket{0} +b \\ket{1})\\otimes \\ket{v}  \n",
    "  \\\\ \\rule{0mm}{14mm}\n",
    "    &=& a\\ket{0}\\otimes \\ket{v} + b\\ket{1}\\otimes U\\ket{v} \\nonumber\n",
    "\\end{eqnarray}"
   ]
  },
  {
   "cell_type": "markdown",
   "id": "7a8309a4",
   "metadata": {
    "slideshow": {
     "slide_type": "skip"
    }
   },
   "source": [
    "Vemos que, efectivamente, el resultado es un estado *entrelazado*. \n",
    "<br>\n",
    "<br>\n",
    "<br>\n",
    "<div>\n",
    "<img src=\"images/entangling_CU_circuit.png\" width=\"40%\" style=\"margin:auto\"/>\n",
    "</div>\n",
    "<br>"
   ]
  },
  {
   "cell_type": "markdown",
   "id": "0c9e1332",
   "metadata": {
    "slideshow": {
     "slide_type": "slide"
    }
   },
   "source": [
    "### La puerta CNOT"
   ]
  },
  {
   "cell_type": "markdown",
   "id": "a2bf7cc7",
   "metadata": {
    "slideshow": {
     "slide_type": "-"
    }
   },
   "source": [
    "La  puerta *binaria* CNOT = $\\cg{X}$ es el caso más sencillo de *operador no factorizable* \n",
    "<br>\n",
    "<br>\n",
    "\n",
    "$$\n",
    "\\hbox{CNOT} = \\cg{X} ~=~ \\ket{0}\\bra{0}\\otimes I + \\ket{1}\\bra{1}\\otimes X ~=~ \\begin{bmatrix} 1 & 0 & 0 & 0 \\\\ 0 & 1 & 0 & 0 \\\\ 0 & 0 & 0 & 1 \\\\\n",
    "0 & 0 & 1 & 0\\end{bmatrix}\n",
    "$$"
   ]
  },
  {
   "cell_type": "markdown",
   "id": "d3a71ca5",
   "metadata": {
    "slideshow": {
     "slide_type": "skip"
    }
   },
   "source": [
    "- Sobre elementos de la base computacional $\\ket{xy}=\\ket{x}\\otimes\\ket{y}$ donde $\\, x,y= 0,1$, su acción  se puede representar de manera compacta usando la suma módulo dos \n",
    "\n",
    "$$\n",
    "\\cg{X}:\\ket{x}\\otimes\\ket{y}=  \\ket{x} \\otimes X^x\\ket{y} = \\ket{x} \\otimes \\ket{y\\oplus x}\n",
    "$$\n",
    "\n",
    "$\\rule{0.5cm}{0mm}$ gráficamente"
   ]
  },
  {
   "cell_type": "markdown",
   "id": "5d36a664",
   "metadata": {
    "slideshow": {
     "slide_type": "-"
    }
   },
   "source": [
    "<div>\n",
    "<img src=\"images/cX_gate.png\" width=\"30%\" style=\"margin:auto\"/>\n",
    "</div>"
   ]
  },
  {
   "cell_type": "markdown",
   "id": "eadf4211",
   "metadata": {
    "slideshow": {
     "slide_type": "skip"
    }
   },
   "source": [
    "<br>\n",
    "<div class=\"alert alert-block alert-success\">\n",
    "<b> Ejercicio 1.2.1.4 </b>\n",
    "    \n",
    "el estado factorizable más general de dos cúbits es ($a$ es la normalización)\n",
    "\n",
    "$$\n",
    "\\ket{\\psi} = a \\left(\\ket{0} + b_1 e^{i\\phi_1}\\ket{1}) (\\ket{0} + b_0 e^{i\\phi_0} \\ket{1} \\right) \n",
    "$$\n",
    "<br>\n",
    "\n",
    "Escribe la condición más general que deben satisfacer  $b_0,b_1,\\phi_0$ y $\\phi_1$ para que CNOT$\\ket{\\psi}$ sea un vector entrelazado.\n",
    "</div>"
   ]
  },
  {
   "cell_type": "markdown",
   "id": "7e3632f0",
   "metadata": {
    "slideshow": {
     "slide_type": "skip"
    }
   },
   "source": [
    "La puerta CNOT en qiskit aparece invertida con respecto a la que dibujamos más arriba. Ello se debe a que qiskit ordena los qubits en $\\ket{q_1 \\, q_0}$ poniendo el asociado al bit más relevante, $q_1$, abajo."
   ]
  },
  {
   "cell_type": "code",
   "execution_count": null,
   "id": "42081bfa",
   "metadata": {
    "slideshow": {
     "slide_type": "skip"
    }
   },
   "outputs": [],
   "source": [
    "from qiskit import Aer, QuantumCircuit, execute\n",
    "qc = QuantumCircuit(2)\n",
    "qc.cx(1,0)\n",
    "qc.draw(output='mpl')"
   ]
  },
  {
   "cell_type": "markdown",
   "id": "772e893b",
   "metadata": {
    "slideshow": {
     "slide_type": "skip"
    }
   },
   "source": [
    "ahora podemos pedir el operador unitario que reproduce el circuito anterior"
   ]
  },
  {
   "cell_type": "code",
   "execution_count": null,
   "id": "ae874745",
   "metadata": {
    "slideshow": {
     "slide_type": "skip"
    }
   },
   "outputs": [],
   "source": [
    "from qiskit import Aer, execute\n",
    "U_simulator = Aer.get_backend('unitary_simulator')\n",
    "\n",
    "job = execute(qc, backend = U_simulator)\n",
    "CNOT_matrix = job.result().get_unitary()\n",
    "\n",
    "#print(U_matrix)\n",
    "from qiskit.tools.visualization import array_to_latex\n",
    "array_to_latex(CNOT_matrix, prefix=\"\\\\text{CNOT = }\\n\")"
   ]
  },
  {
   "cell_type": "markdown",
   "id": "f30b2687",
   "metadata": {
    "slideshow": {
     "slide_type": "skip"
    }
   },
   "source": [
    "### La puerta CSWAP o de Fredkin"
   ]
  },
  {
   "cell_type": "markdown",
   "id": "2fc4473d",
   "metadata": {
    "slideshow": {
     "slide_type": "skip"
    }
   },
   "source": [
    "Si el cúbit  de control está en  el estado $\\ket{1}$ los dos controlados se intercambian\n",
    "<br>\n",
    "<br>\n",
    "$$\n",
    "U_{\\rm CSWAP} =\\ket{0}\\bra{0} \\otimes I_4 + \\ket{1}\\bra{1} \\otimes U_{\\rm SWAP} \\, .\n",
    "$$\n",
    "\n",
    "\n",
    "<br>\n",
    "<br>\n",
    "<div>\n",
    "<img src=\"images/CSWAP_gate.png\" width=\"15%\" style=\"margin:auto\"/>\n",
    "</div>\n",
    "<br>"
   ]
  },
  {
   "cell_type": "markdown",
   "id": "15adc315",
   "metadata": {
    "slideshow": {
     "slide_type": "skip"
    }
   },
   "source": [
    "### La puerta CCNOT o de Toffoli"
   ]
  },
  {
   "cell_type": "markdown",
   "id": "95350d5b",
   "metadata": {
    "slideshow": {
     "slide_type": "skip"
    }
   },
   "source": [
    "La puerta CCNOT, también llamada puerta de Toffoli,  es un operador sobre $\\Hil^{\\otimes 3}$, en el que dos cúbits controlan la acción de $X$ sobre un tercero\n",
    "\n",
    "$\\Rightarrow$\n",
    "*sólo si ambos cúbits* de control están en el estado $\\ket{11}$ el operador $X$ actuará sobre el tercero\n",
    "<br>\n",
    "<br>\n",
    "<br>\n",
    "<div>\n",
    "<img src=\"images/ccX_gate.png\" width=\"20%\" style=\"margin:auto\"/>\n",
    "</div>\n",
    "<br>"
   ]
  },
  {
   "cell_type": "markdown",
   "id": "a9046bb6",
   "metadata": {
    "slideshow": {
     "slide_type": "skip"
    }
   },
   "source": [
    "De nuevo, su representación es muy sencilla\n",
    "\n",
    "$$\n",
    "{\\rm CCNOT} = \\big(\\ket{00}\\bra{00}+\\ket{01}\\bra{01}+\\ket{10}\\bra{10}\\big)\\otimes I + \\ket{11}\\bra{11}\\otimes X\n",
    "$$"
   ]
  },
  {
   "cell_type": "markdown",
   "id": "00d1ba49",
   "metadata": {
    "slideshow": {
     "slide_type": "skip"
    }
   },
   "source": [
    "<div class=\"alert alert-block alert-success\">\n",
    "<b> Ejercicios 1.2.1.5 </b> \n",
    "<br>    \n",
    "<br>    \n",
    "1. obtener la matriz que representa la puerta de Toffoli en la base computacional. Reproducirla usando <i>qiskit</i>.\n",
    "    <br><br> \n",
    "2. obtener la matriz de un circuito de 3 cúbits con una puerta CNOT en la que el tercer cúbit controla el primero. Reproducirla usando qiskit.\n",
    "</table>"
   ]
  },
  {
   "cell_type": "markdown",
   "id": "f76013a1",
   "metadata": {
    "slideshow": {
     "slide_type": "skip"
    }
   },
   "source": [
    "### Puertas multiplemente controladas"
   ]
  },
  {
   "cell_type": "markdown",
   "id": "09d7ffc3",
   "metadata": {
    "slideshow": {
     "slide_type": "skip"
    }
   },
   "source": [
    "En la puerta CNOT o CX multi-controlada el operador X se activa si y sólo si los cúbits de control se encuentran en una configuración deseada. \n",
    " \n",
    " Los botones blancos denotan controladores que se activan si el cúbit es $\\ket{0}$. Esencialmente son iguales a un controlador negro con una puerta $X$ antes y otra después."
   ]
  },
  {
   "cell_type": "markdown",
   "id": "5b075f05",
   "metadata": {
    "slideshow": {
     "slide_type": "skip"
    }
   },
   "source": [
    "Por ejemplo, en este caso, la puerta $X$ se activará si los cúbits de control se encuentran en el estado $\\ket{1100}$\n",
    "\n",
    "<br>\n",
    "<br>\n",
    "<br>\n",
    "<div>\n",
    "<img src=\"images/MCX_gate.png\" width=\"8%\" style=\"margin:auto\"/>\n",
    "</div>\n",
    "<br>"
   ]
  },
  {
   "cell_type": "markdown",
   "id": "aa5272a2",
   "metadata": {
    "slideshow": {
     "slide_type": "skip"
    }
   },
   "source": [
    "El operador asociado a esta puerta será\n",
    "\n",
    "$$\n",
    "MCX = \\ket{1100}  \\bra{1100}\\otimes X + (I-\\ket{1100}\\bra{1100}) \\otimes I\n",
    "$$"
   ]
  },
  {
   "cell_type": "markdown",
   "id": "bb3cea0f",
   "metadata": {
    "slideshow": {
     "slide_type": "skip"
    }
   },
   "source": [
    "<div class=\"alert alert-block alert-warning\">\n",
    "\n",
    "En *qiskit* existe la posibilidad de controlar una puerta arbitraria (de la clase <i>Gate</i>) añadiéndole el método <i>control</i> que acepta dos parámetros:\n",
    "\n",
    "- el primero es el número de cúbits que van a actuar como control.\n",
    "    \n",
    "\n",
    "-  el segundo, <i>ctrl_state</i> es un número decimal especifica el estado de control para el cual se activa la puerta. En el caso de la figura sería el número 12\n",
    "\n",
    "\n",
    "- Puede encontrarse información sobre las puertas controladas en qiskit en los siguiente enlaces:\n",
    "https://qiskit.org/documentation/stubs/qiskit.circuit.ControlledGate.html#qiskit.circuit.ControlledGate\n",
    "https://qiskit.org/documentation/apidoc/circuit_library.html\n",
    "    \n",
    "    \n",
    "</div>"
   ]
  },
  {
   "cell_type": "code",
   "execution_count": null,
   "id": "0af2f0f3",
   "metadata": {
    "slideshow": {
     "slide_type": "skip"
    }
   },
   "outputs": [],
   "source": [
    "from qiskit import QuantumCircuit, QuantumRegister, ClassicalRegister\n",
    "from qiskit.circuit.library import SwapGate, XGate\n",
    "\n",
    "qr = QuantumRegister(5)\n",
    "\n",
    "qc = QuantumCircuit(qr)\n",
    "\n",
    "gateMCX = XGate().control(4,ctrl_state= 3) # puerta X 4-veces controlada\n",
    "gateMCSWAP = SwapGate().control(3,ctrl_state= 4) # puerta SWAP 3 veces controlada\n",
    "\n",
    "\n",
    "qc.append(gateMCX,[0,1,2,3,4])    \n",
    "#qc.append(gateMCSWAP,[0,1,2,3,4])    \n",
    "\n",
    "\n",
    "qc.draw('mpl')"
   ]
  },
  {
   "cell_type": "markdown",
   "id": "90ebf794",
   "metadata": {
    "slideshow": {
     "slide_type": "skip"
    }
   },
   "source": [
    "En el convenio de qiskit, efectivamente, este operador es el que se corresponde con \n",
    "\n",
    "$$\n",
    "MCX = X\\otimes \\ket{0011}  \\bra{0011} + X\\otimes (I-\\ket{0011}\\bra{0011})\n",
    "$$"
   ]
  },
  {
   "cell_type": "markdown",
   "id": "6516ae45",
   "metadata": {
    "slideshow": {
     "slide_type": "skip"
    }
   },
   "source": [
    "<div class=\"alert alert-block alert-success\">\n",
    "<b> Ejercicio: </b>\n",
    "inserta la puerta MCX de forma que se genere exactamente el circuito dibujado en la figura.\n",
    "</div>"
   ]
  },
  {
   "cell_type": "markdown",
   "id": "66b6137a",
   "metadata": {
    "slideshow": {
     "slide_type": "slide"
    }
   },
   "source": [
    "### Circuito entrelazador para la Base de Bell"
   ]
  },
  {
   "cell_type": "markdown",
   "id": "2ab7d3f2",
   "metadata": {
    "slideshow": {
     "slide_type": "-"
    }
   },
   "source": [
    "El circuito que *prepara* la <i>base de Bell</i> $~\\{\\ket{B_{xy}} \\equiv \\ket{xy}_B \\}~$ a partir de la <i>base computacional</i>  $\\{\\ket{xy}\\}$ \n",
    "<br>\n",
    "<br>\n",
    "\n",
    "<div>\n",
    "<img src=\"images/Bell_basis.png\" width=\"30%\" style=\"margin:auto\"/>\n",
    "</div>"
   ]
  },
  {
   "cell_type": "markdown",
   "id": "24aaf3ef",
   "metadata": {
    "slideshow": {
     "slide_type": "skip"
    }
   },
   "source": [
    "<br>\n",
    "Concretamente \n",
    "<br>\n",
    "\n",
    "\\begin{array}{rcl}\n",
    "\\ket{00} ~~~\\stackrel{I\\otimes H}{\\longrightarrow}~~~ \\frac{1}{\\sqrt{2}}\\ket{0}(\\ket{0}+\\ket{1})  &~~~\\stackrel{\\rm CNOT(0,1)}{\\longrightarrow}& \\frac{1}{\\sqrt{2}} \\big( \\ket{00} + \\ket{11} \\big) ~~=~~ \\ket{00}_B \\\\\n",
    "\\ket{01} ~~~\\longrightarrow~~~ \\frac{1}{\\sqrt{2}}\\ket{0}(\\ket{0} - \\ket{1})  &~~~\\longrightarrow & \\frac{1}{\\sqrt{2}} \\big( \\ket{00} - \\ket{11} \\big) ~~=~~ \\ket{01}_B \\\\\n",
    "\\ket{10} ~~~\\longrightarrow~~~ \\frac{1}{\\sqrt{2}}\\ket{1}(\\ket{0}+\\ket{1})  &~~~\\longrightarrow & \\frac{1}{\\sqrt{2}} \\big( \\ket{10} + \\ket{01} \\big) ~~=~~ \\ket{10}_B \\\\\n",
    "\\ket{11} ~~~\\longrightarrow~~~ \\frac{1}{\\sqrt{2}}\\ket{1}(\\ket{0}-\\ket{1})  &~~~\\longrightarrow & \\frac{1}{\\sqrt{2}} \\big( \\ket{01} - \\ket{01} \\big) ~~=~~ \\ket{11}_B \n",
    "\\end{array}"
   ]
  },
  {
   "cell_type": "code",
   "execution_count": null,
   "id": "e253e220",
   "metadata": {
    "slideshow": {
     "slide_type": "slide"
    }
   },
   "outputs": [],
   "source": [
    "from qiskit import Aer, QuantumCircuit, execute\n",
    "' create the circuit '\n",
    "qc = QuantumCircuit(2,0)    \n",
    "#qc.x(0)\n",
    "#qc.x(1)\n",
    "\n",
    "qc.h(0)\n",
    "qc.cx(0,1)\n",
    "display(qc.draw('mpl'))\n",
    "\n",
    "\n",
    "' execute in mode statevector_simulator '\n",
    "S_simulator = Aer.get_backend('statevector_simulator')\n",
    "Bell_state = execute(qc,S_simulator).result().get_statevector(decimals=5)\n",
    "\n",
    "\n",
    "from qiskit.quantum_info import Statevector\n",
    "Statevector(Bell_state).draw('latex')"
   ]
  },
  {
   "cell_type": "code",
   "execution_count": null,
   "id": "33fcd51d",
   "metadata": {
    "slideshow": {
     "slide_type": "skip"
    }
   },
   "outputs": [],
   "source": [
    "' the Bell state cannot be drawn on Bloch spheres'\n",
    "Statevector(Bell_state).draw('Bloch')"
   ]
  },
  {
   "cell_type": "markdown",
   "id": "e087761d",
   "metadata": {
    "slideshow": {
     "slide_type": "slide"
    }
   },
   "source": [
    "## Teorema de no-clonación"
   ]
  },
  {
   "cell_type": "markdown",
   "id": "ce9b802a",
   "metadata": {
    "slideshow": {
     "slide_type": "slide"
    }
   },
   "source": [
    "El *Teorema de No Clonación* es uno de los resultados más sencillos y a la vez más importantes del formalismo de la Mecánica Cuántica. \n",
    "\n",
    "De hecho su formalización completa es bastante reciente, 1982, debida a [Wootters, Zurek](https://en.wikipedia.org/wiki/No-cloning_theorem#cite_note-wootterszurek-2) and [Dieks](https://en.wikipedia.org/wiki/No-cloning_theorem#cite_note-dieks-3)."
   ]
  },
  {
   "cell_type": "markdown",
   "id": "defe4fc3",
   "metadata": {
    "slideshow": {
     "slide_type": "slide"
    }
   },
   "source": [
    "<div class=\"alert alert-block alert-info\",text-align:center>\n",
    "<p style=\"text-align: left ;color: navy;\">  \n",
    "<b>Teorema</b>: <i> (de  no-clonación)</i> \n",
    "<br>    \n",
    "<br>    \n",
    "no existe un operador unitario $U$  que, para un estado arbitrario $|\\psi\\rangle$, realice la siguiente operación\n",
    "<br>  \n",
    "<br>    \n",
    "$$\n",
    "U ( \\ket{\\psi}\\otimes \\ket{0}) = \\ket{\\psi}\\otimes \\ket{\\psi}\n",
    "$$\n",
    "</div>"
   ]
  },
  {
   "cell_type": "markdown",
   "id": "445b8129",
   "metadata": {
    "slideshow": {
     "slide_type": "slide"
    }
   },
   "source": [
    "*Demostración:*\n",
    "\n",
    "Supondremos que $U$ existe y llegaremos a una contradicción. \n",
    "Tratemos de clonar el estado $\\alpha\\ket{\\psi}+\\beta\\ket{\\phi}$. Esto implica evaluar\n",
    "<br>\n",
    "<br>\n",
    "\n",
    "$$\n",
    "U (\\alpha\\ket{\\psi}+\\beta\\ket{\\phi})\\otimes \\ket{0} = \n",
    "(\\alpha\\ket{\\psi}+\\beta\\ket{\\phi})\\otimes (\\alpha\\ket{\\psi}+\\beta\\ket{\\phi})\n",
    "$$\n",
    "<br>"
   ]
  },
  {
   "cell_type": "markdown",
   "id": "16816bee",
   "metadata": {
    "slideshow": {
     "slide_type": "fragment"
    }
   },
   "source": [
    "Sin embargo, la linealidad de $U$ nos permite seguir otro camino\n",
    "<br>\n",
    "<br>\n",
    "\n",
    "\\begin{eqnarray}\n",
    "U(\\alpha|\\psi\\rangle+\\beta|\\phi\\rangle) \\otimes|0\\rangle &=& \\alpha U|\\psi\\rangle \\otimes|0\\rangle+\\beta U|\\phi\\rangle \\otimes|0\\rangle  \\\\ \\rule{0mm}{12mm}\n",
    "&=&\\alpha|\\psi\\rangle \\otimes|\\psi\\rangle+\\beta|\\phi\\rangle \\otimes|\\phi\\rangle . \\rule{0mm}{6mm}\n",
    "\\end{eqnarray}\n",
    "<br>\n",
    "\n",
    "Los dos resultados son diferentes y el teorema queda demostrado por reducción al absurdo."
   ]
  },
  {
   "cell_type": "markdown",
   "id": "b8b63052",
   "metadata": {
    "slideshow": {
     "slide_type": "slide"
    }
   },
   "source": [
    "<br>\n",
    "<div class=\"alert alert-block alert-danger\">\n",
    "<b> Notar: </b>    \n",
    "<br>  \n",
    "\n",
    "- El teorema de no clonación pone  de manifiesto la <i> tensión </i> que hay entre $linealidad$ y $tensorialidad$, dos propiedades fundamentales de la Mecánica Cuántica.\n",
    "<br>\n",
    "\n",
    "- Es muy importante recalcar que la validez de este teorema sólo aplica a estados <i> genéricos </i>. \n",
    "\n",
    "- Si por ejemplo nos restringimos a estados de la base $\\ket{0}$ y $\\ket{1}$, entonces la mera puerta CNOT actúa como lo haría un operador de clonación.\n",
    "    \n",
    "$$\n",
    "\\cg{X}\\ket{00}\\to \\ket{00}~~~~~,~~~~~~ \\cg{X}\\ket{10}\\to \\ket{11}\n",
    "$$\n",
    "</div>\n",
    "<br>\n",
    "<br>"
   ]
  }
 ],
 "metadata": {
  "jupytext": {
   "text_representation": {
    "extension": ".md",
    "format_name": "myst",
    "format_version": 0.13,
    "jupytext_version": "1.15.2"
   }
  },
  "kernelspec": {
   "display_name": "Python 3 (ipykernel)",
   "language": "python",
   "name": "python3"
  },
  "source_map": [
   14,
   28,
   47,
   63,
   67,
   88,
   93,
   124,
   144,
   162,
   184,
   192,
   196,
   203,
   216,
   227,
   231,
   243,
   261,
   269,
   279,
   293,
   312,
   325,
   333,
   349,
   353,
   357,
   366,
   381,
   397,
   406,
   410,
   420,
   428,
   437,
   447,
   451,
   455,
   462,
   475,
   486,
   501,
   512,
   522,
   535,
   549,
   555,
   569,
   581,
   585,
   596,
   606,
   613,
   629,
   633,
   644,
   648,
   664,
   668,
   685,
   689,
   703,
   712,
   723,
   727,
   733,
   745,
   753,
   772,
   795,
   803,
   810,
   814,
   824,
   837,
   862,
   871,
   875,
   881,
   896,
   912,
   927
  ]
 },
 "nbformat": 4,
 "nbformat_minor": 5
}