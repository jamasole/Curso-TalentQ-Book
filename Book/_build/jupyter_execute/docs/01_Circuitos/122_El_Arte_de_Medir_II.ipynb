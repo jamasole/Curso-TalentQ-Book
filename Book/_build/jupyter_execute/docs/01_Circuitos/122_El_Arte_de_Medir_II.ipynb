{
 "cells": [
  {
   "cell_type": "markdown",
   "id": "d3d5129b",
   "metadata": {
    "slideshow": {
     "slide_type": "slide"
    }
   },
   "source": [
    "# El arte de medir multi-cúbits\n",
    "\n",
    "\n",
    "\n",
    "\n",
    "$ \\newcommand{\\bra}[1]{\\langle #1|} $\n",
    "$ \\newcommand{\\ket}[1]{|#1\\rangle} $\n",
    "$ \\newcommand{\\braket}[2]{\\langle #1|#2\\rangle} $\n",
    "$ \\newcommand{\\i}{{\\color{blue} i}} $ \n",
    "$ \\newcommand{\\Hil}{{\\mathcal H}} $\n",
    "$ \\newcommand{\\boldn}{{\\bf n}} $\n",
    "$ \\newcommand{\\tr}{{\\rm tr}}$"
   ]
  },
  {
   "cell_type": "markdown",
   "id": "77a0b506",
   "metadata": {
    "slideshow": {
     "slide_type": "skip"
    }
   },
   "source": [
    "- [Medidas de estados multicúbit](#medmult)\n",
    "\n",
    "\n",
    "- [Medidas en bases generales](#basegen)\n",
    "\n",
    "\n",
    "- [Valores esperados](#valesp)\n",
    "\n",
    "\n",
    "- [Medidas de Hadamard](#medHad)"
   ]
  },
  {
   "cell_type": "code",
   "execution_count": null,
   "id": "70c6f85d",
   "metadata": {
    "slideshow": {
     "slide_type": "-"
    }
   },
   "outputs": [],
   "source": [
    "import sys\n",
    "sys.path.append('../')\n",
    "import macro_tQ as tQ\n",
    "\n",
    "import numpy as np\n",
    "import scipy.linalg as la\n",
    "from IPython.display import display,Markdown,Latex\n",
    "import matplotlib.pyplot as plt\n",
    "from qiskit.tools.visualization import array_to_latex"
   ]
  },
  {
   "cell_type": "markdown",
   "id": "3c828f7b",
   "metadata": {
    "slideshow": {
     "slide_type": "skip"
    }
   },
   "source": [
    "## Medidas de estados multicúbit"
   ]
  },
  {
   "cell_type": "markdown",
   "id": "84f278f6",
   "metadata": {
    "slideshow": {
     "slide_type": "skip"
    }
   },
   "source": [
    "Un aparato de medida en la base  asociada al operador hermítico $\\sigma_z^{\\otimes n} = Z\\otimes \\ldots \\otimes Z$ hace colapsar el estado  que mide a un elemento $\\ket{x}$ de la *base computacional*, que identificamos mediante una cadena de bits $a_{n-1}...a_0$ con $a_i=0,1$,  donde $x= a_{n-1}2^{n-1}+...+2^0 a_0$.\n",
    "\n",
    "\n",
    "<br>\n",
    "<br>\n",
    "\n",
    "<div>\n",
    "<img src=\"images/Multimeter_zbasis.png\" width=\"45%\" style=\"margin:auto\" />\n",
    "</div>\n",
    "\n",
    "<br>"
   ]
  },
  {
   "cell_type": "markdown",
   "id": "0d334389",
   "metadata": {
    "slideshow": {
     "slide_type": "slide"
    }
   },
   "source": [
    "### Circuitos con múltiples cúbits y medidas en Qiskit"
   ]
  },
  {
   "cell_type": "markdown",
   "id": "b4dfd626",
   "metadata": {},
   "source": [
    "Inicialicemos un estado de 3 cúbits \n",
    "$$\n",
    "\\ket{\\psi} = \\sum_{i,j,k = 0,1} c_{ijk} \\ket{ijk} = \\sum_a c_a \\ket{a}\n",
    "$$"
   ]
  },
  {
   "cell_type": "code",
   "execution_count": null,
   "id": "f8cb3899",
   "metadata": {
    "slideshow": {
     "slide_type": "-"
    }
   },
   "outputs": [],
   "source": [
    "from qiskit import QuantumCircuit, QuantumRegister, ClassicalRegister\n",
    "from numpy import linalg as la\n",
    "from qiskit.quantum_info import Statevector\n",
    "\n",
    "'''definimos un estado de entrada en H^3$'''\n",
    "psi =[1.,-2, -2,1,1,0,2,-1]\n",
    "psi/=la.norm(psi)\n",
    "#psi = tQ.random_ket(8).reshape(8)\n",
    "\n",
    "\n",
    "Statevector(psi).draw('Latex')"
   ]
  },
  {
   "cell_type": "markdown",
   "id": "7de684ee",
   "metadata": {
    "slideshow": {
     "slide_type": "slide"
    }
   },
   "source": [
    "Las medida es esencialmente un mapa entre n-cúbits cuánticos y n-bits clásicos.\n",
    "\n",
    "$$\n",
    "\\ket{i_{n-1} i_{n-2}\\, ... \\, i_0} \\in \\Hil^{\\otimes n}  ~~\\to ~~ i_{n-1}i_{n-2}...i_0\\in \\{0,1\\}^n\n",
    "$$"
   ]
  },
  {
   "cell_type": "code",
   "execution_count": null,
   "id": "45c3a492",
   "metadata": {
    "run_control": {
     "marked": false
    },
    "slideshow": {
     "slide_type": "-"
    }
   },
   "outputs": [],
   "source": [
    "qr = QuantumRegister(3,name='qr')\n",
    "cr = ClassicalRegister(3,name='cr')\n",
    "\n",
    "qc = QuantumCircuit(qr,cr)\n",
    "qc.initialize(psi,qr)\n",
    "\n",
    "\n",
    "qc.measure(qr,cr)\n",
    "#qc.measure(qr,reversed(list(cr)))  # esta opcion invierte la asignación de bits clasicos a cúbits\n",
    "#qc.measure([qr[0],qr[1]],[cr[1],cr[2]])\n",
    "\n",
    "qc.draw(output='mpl')"
   ]
  },
  {
   "cell_type": "markdown",
   "id": "8332e077",
   "metadata": {
    "slideshow": {
     "slide_type": "slide"
    }
   },
   "source": [
    "La manera de tener acceso a las amplitudes (tomografía del estado) es midiendo repetidas veces para reconstruir la función de probabilidad"
   ]
  },
  {
   "cell_type": "code",
   "execution_count": null,
   "id": "bad689a9",
   "metadata": {
    "slideshow": {
     "slide_type": "-"
    }
   },
   "outputs": [],
   "source": [
    "from qiskit import Aer, execute \n",
    "'definimos el simulador'\n",
    "M_simulator = Aer.get_backend('qasm_simulator')\n",
    "'numero todal de medidas'\n",
    "nshots = 100000\n",
    "\n",
    "\n",
    "'ejecutamos el circuito'\n",
    "job=execute(qc,backend=M_simulator,shots=nshots) \n",
    "result=job.result()\n",
    "counts = result.get_counts()        \n",
    "print('Cuentas=',counts) #diccionario de cuentas\n",
    "\n",
    "\n",
    "from qiskit.tools.visualization import plot_histogram\n",
    "plot_histogram(counts) # Mostramos un histograma de resultados"
   ]
  },
  {
   "cell_type": "markdown",
   "id": "e4ded806",
   "metadata": {
    "slideshow": {
     "slide_type": "skip"
    }
   },
   "source": [
    "Ahora podemos generar diccionarios con las probabilidades y la amplitudes de los distintos resultados, para obtener la tomografía del estado"
   ]
  },
  {
   "cell_type": "code",
   "execution_count": null,
   "id": "7eceb4d5",
   "metadata": {
    "slideshow": {
     "slide_type": "skip"
    }
   },
   "outputs": [],
   "source": [
    "def probs_amps(cuentas): # frecuencias_dict es un diccionario con la estadística de resultados\n",
    "    \n",
    "    prob_dict=cuentas.copy() # vamos a modificar el diccionario \"cuentas\" con las probabilidades \n",
    "    amp_dict=cuentas.copy()  # y las amplitudes\n",
    "    keys = list(cuentas.keys())\n",
    "    values = list(cuentas.values())\n",
    "    \n",
    "    N=sum(values)\n",
    "    probabilidades = [v/N for v in values] # lista de frecuencias relativas\n",
    " \n",
    "    for i in range(len(keys)):\n",
    "        prob_dict[keys[i]]= probabilidades[i]\n",
    "        amp_dict[keys[i]] = np.sqrt(probabilidades[i]) #las amplitudes, sólo en valor absoluto, las fases no son accesibles\n",
    "    \n",
    "    return  prob_dict, amp_dict\n",
    "\n",
    "probs, amps = probs_amps(counts)\n",
    "\n",
    "print(\"Probabilidades =\",probs )\n",
    "\n",
    "print(\"Amplitudes =\", amps )"
   ]
  },
  {
   "cell_type": "markdown",
   "id": "3d51a83e",
   "metadata": {
    "slideshow": {
     "slide_type": "slide"
    }
   },
   "source": [
    "## Medidas en bases generales"
   ]
  },
  {
   "cell_type": "markdown",
   "id": "405643f3",
   "metadata": {
    "slideshow": {
     "slide_type": "-"
    }
   },
   "source": [
    "Vamos a suponer que queremos medir en una base ortonormal arbitraria $\\{\\ket{ x}'\\}$, $x=0,...,2^n-1$. \n",
    "\n",
    "$\\Rightarrow~ $ buscamos un circuito que, a la llegada de un vector  concreto de la base $\\ket{x}'=\\ket{i_{n-1}...i_0}'$, devuelva exactamente *la  colección* de bits:  $~i_{n-1}...i_0$."
   ]
  },
  {
   "cell_type": "markdown",
   "id": "dedfe245",
   "metadata": {
    "slideshow": {
     "slide_type": "fragment"
    }
   },
   "source": [
    "Vamos a suponer que conocemos el operador unitario que relaciona esta base con la  base computacional  \n",
    "\n",
    "$$\\ket{ x}'= U\\ket{x}~~~~~~\\Longrightarrow ~~~~~~   U^\\dagger\\ket{x}' = \\ket{ x}  \\, .$$"
   ]
  },
  {
   "cell_type": "markdown",
   "id": "c90d7b94",
   "metadata": {
    "slideshow": {
     "slide_type": "fragment"
    }
   },
   "source": [
    "Entonces es evidente que sólo tenemos que añadir el operador $U^\\dagger$ antes de usar el medidor estándar. \n",
    "\n",
    "\n",
    "<br>\n",
    "<br>\n",
    "\n",
    "<div>\n",
    "<img src=\"images/Multimeter_basis.png\" width=\"60%\" style=\"margin:auto\" />\n",
    "</div>"
   ]
  },
  {
   "cell_type": "markdown",
   "id": "5cc36535",
   "metadata": {
    "slideshow": {
     "slide_type": "slide"
    }
   },
   "source": [
    "### Medidas  de Pauli"
   ]
  },
  {
   "cell_type": "markdown",
   "id": "03a86583",
   "metadata": {
    "slideshow": {
     "slide_type": "-"
    }
   },
   "source": [
    "En caso más frecuente consiste en medir diferentes cúbits en diferentes bases de Pauli, $X$, $Y$ ó $Z$."
   ]
  },
  {
   "cell_type": "markdown",
   "id": "b0dab84a",
   "metadata": {
    "slideshow": {
     "slide_type": "fragment"
    }
   },
   "source": [
    "En este caso, $U= R_1\\otimes \\ldots \\otimes R_n$ es un producto de *rotaciones locales*, $Z\\to X$ ó $Z\\to Y$"
   ]
  },
  {
   "cell_type": "markdown",
   "id": "ed0ba511",
   "metadata": {
    "slideshow": {
     "slide_type": "fragment"
    }
   },
   "source": [
    "Por ejemplo el siguiente circuito mide en la base $Z_0X_1Y_2$\n",
    "<br>\n",
    "<br>\n",
    "<div>\n",
    "<img src=\"images/XYZ_multimeter.png\" width=\"30%\" style=\"margin:auto\"/>\n",
    "</div>"
   ]
  },
  {
   "cell_type": "markdown",
   "id": "b51cbedb",
   "metadata": {
    "slideshow": {
     "slide_type": "slide"
    }
   },
   "source": [
    "Definamos una función que añade aparatos de medida en bases $X$, $Y$ ó $Z$ a partir de una *cadena* como 'xxy' etc"
   ]
  },
  {
   "cell_type": "code",
   "execution_count": null,
   "id": "fcf0f43c",
   "metadata": {
    "slideshow": {
     "slide_type": "-"
    }
   },
   "outputs": [],
   "source": [
    "def add_multimeasure_XYZ(qc,paulistring):\n",
    "\n",
    "    assert(qc.num_qubits==len(paulistring)) #check whether width of circuit coincides with length of Pauli string\n",
    "\n",
    "    for i,basis in enumerate(reversed(paulistring)):\n",
    "        if  basis == 'X':\n",
    "            qc.h(i)    \n",
    "            qc.measure(i, i)\n",
    "        elif basis == 'Z':\n",
    "            qc.measure(i, i)\n",
    "            pass    \n",
    "        elif basis == 'Y':\n",
    "            qc.sdg(i)\n",
    "            qc.h(i)\n",
    "            qc.measure(i, i)\n",
    "\n",
    "    return qc "
   ]
  },
  {
   "cell_type": "markdown",
   "id": "dafa0199",
   "metadata": {
    "slideshow": {
     "slide_type": "slide"
    }
   },
   "source": [
    "Veamos un ejemplo"
   ]
  },
  {
   "cell_type": "code",
   "execution_count": null,
   "id": "88d1cbd8",
   "metadata": {
    "run_control": {
     "marked": false
    },
    "slideshow": {
     "slide_type": "-"
    }
   },
   "outputs": [],
   "source": [
    "from qiskit import QuantumCircuit\n",
    "qc = QuantumCircuit(4,4)\n",
    "add_multimeasure_XYZ(qc,'ZYIX')  # probar a cambiar el aparato de medida\n",
    "qc.draw('mpl')"
   ]
  },
  {
   "cell_type": "markdown",
   "id": "e0c82294",
   "metadata": {
    "slideshow": {
     "slide_type": "slide"
    }
   },
   "source": [
    "### Medida de Bell"
   ]
  },
  {
   "cell_type": "markdown",
   "id": "6bdc9edc",
   "metadata": {
    "slideshow": {
     "slide_type": "skip"
    }
   },
   "source": [
    "El circuito \n",
    "\n",
    "<div>\n",
    "<img src=\"images/Bell_basis.png\" width=\"20%\" style=\"margin:auto\"/>\n",
    "</div>\n",
    "\n",
    "<br>\n",
    "\n",
    " genera la <i>base de Bell</i> $\\ket{B_{xy}} = \\ket{xy}_B $ a partir de la <i>base computacional</i> $\\{\\ket{xy}\\}$ \n",
    " <br>\n",
    "<br>\n",
    "\n",
    "\\begin{array}{rcl}\n",
    "\\ket{00}_B &=& \\frac{1}{\\sqrt{2}} \\big( \\ket{00} + \\ket{11} \\big) \\\\\n",
    "\\ket{01}_B &=& \\frac{1}{\\sqrt{2}} \\big( \\ket{01} + \\ket{10} \\big) \\\\\n",
    "\\ket{10}_B &=& \\frac{1}{\\sqrt{2}} \\big( \\ket{00} - \\ket{11} \\big) \\\\\n",
    "\\ket{11}_B &=& \\frac{1}{\\sqrt{2}} \\big( \\ket{01} - \\ket{10} \\big) \\\\\n",
    "\\end{array}"
   ]
  },
  {
   "cell_type": "markdown",
   "id": "fe34b65a",
   "metadata": {
    "slideshow": {
     "slide_type": "-"
    }
   },
   "source": [
    "El circuito que efectúa una **medida de Bell**  \n",
    "\n",
    "$$\n",
    "\\ket{xy}_B \\to xy\n",
    "$$\n",
    "utiliza el *desentrelazador* \n",
    "\n",
    "$$U^\\dagger = ( \\hbox{CNOT}\\cdot H)^\\dagger = H\\cdot \\hbox{CNOT}$$ \n",
    "\n",
    "antes del medidor \n",
    "\n",
    "<br>\n",
    "<br>\n",
    "\n",
    "<div>\n",
    "<img src=\"images/Bell_meter.png\" width=\"35%\" style=\"margin:auto\"/>\n",
    "</div>"
   ]
  },
  {
   "cell_type": "markdown",
   "id": "a6ec4dc4",
   "metadata": {
    "slideshow": {
     "slide_type": "fragment"
    }
   },
   "source": [
    "Creemos el circuito"
   ]
  },
  {
   "cell_type": "code",
   "execution_count": null,
   "id": "6001dbaa",
   "metadata": {
    "slideshow": {
     "slide_type": "-"
    }
   },
   "outputs": [],
   "source": [
    "def add_Bell_measurement(qc,qubits=[0,1]):\n",
    "    qc.cx(qubits[0],qubits[1])\n",
    "    qc.h(0)\n",
    "    qc.barrier()\n",
    "    qc.measure([0,1],[1,0])"
   ]
  },
  {
   "cell_type": "markdown",
   "id": "5c2ab7e3",
   "metadata": {
    "slideshow": {
     "slide_type": "slide"
    }
   },
   "source": [
    "Ahora verificamos"
   ]
  },
  {
   "cell_type": "code",
   "execution_count": null,
   "id": "880326c6",
   "metadata": {
    "slideshow": {
     "slide_type": "-"
    }
   },
   "outputs": [],
   "source": [
    "from qiskit import QuantumCircuit\n",
    "\n",
    "# creamos el circuito\n",
    "qc = QuantumCircuit(2,2)\n",
    "\n",
    "# definimos la base de Bell\n",
    "B00 = np.array([1,0,0,1]/np.sqrt(2))\n",
    "B01 = np.array([1,0,0,-1]/np.sqrt(2))\n",
    "B10 = np.array([0,1,1,0]/np.sqrt(2))\n",
    "B11 = np.array([0,1,-1,0]/np.sqrt(2))\n",
    "\n",
    "# inicializamos el estado de entrada en cualquiera de los estados anteriores\n",
    "qc.initialize(B10,[0,1])\n",
    "\n",
    "# añadimos el medidor en la base de Bell\n",
    "add_Bell_measurement(qc,[0,1])\n",
    "display(qc.draw('mpl'))\n",
    "\n",
    "execute(qc,backend=M_simulator).result().get_counts()"
   ]
  },
  {
   "cell_type": "markdown",
   "id": "0d5bbdb9",
   "metadata": {
    "slideshow": {
     "slide_type": "slide"
    }
   },
   "source": [
    "## Valores esperados de observables multi-cúbit"
   ]
  },
  {
   "cell_type": "markdown",
   "id": "6d184f7c",
   "metadata": {},
   "source": [
    "El *problema* esencial para medir un valor esperado $\\bra{\\psi} A \\ket{\\psi}$ es que, en general,  $A$ **no es un operador unitario**. Por tanto no se puede incluir como parte de un circuito"
   ]
  },
  {
   "cell_type": "markdown",
   "id": "6130df70",
   "metadata": {},
   "source": [
    "Si pudiésemos expresar  como una combinación de operadores unitarios, $A = \\sum_i c_i U_i$, entonces sí podríamos calcular cadar valor esperado $\\langle U_i\\rangle$ mediante un circuito y, finalmente, componer el resultado $\\langle A\\rangle = \\sum_i c_i \\langle U_i\\rangle$"
   ]
  },
  {
   "cell_type": "markdown",
   "id": "ee234ece",
   "metadata": {
    "slideshow": {
     "slide_type": "fragment"
    }
   },
   "source": [
    "Una base  la constituyen las *cadenas de Pauli*,  $U = \\sigma_{i_1}\\otimes \\ldots \\otimes \\sigma_{i_n}$ que nos, a la vez, hermíticas y unitarias, y permiten expandir cualquier operador hermítico\n",
    "\n",
    "\\begin{equation}\n",
    "A = \\sum_{i_1,...,i_n=0}^3 a_{i_1\\ldots i_n} \\, \\sigma_{i_1}\\otimes \\ldots \\otimes \\sigma_{i_n}\n",
    "\\end{equation}\n",
    "\n",
    "donde $\\sigma_i = (I,X,Y,Z)$"
   ]
  },
  {
   "cell_type": "markdown",
   "id": "7cf8d56f",
   "metadata": {
    "slideshow": {
     "slide_type": "slide"
    }
   },
   "source": [
    "Por ejemplo, con $n=3$ \n",
    "$$\n",
    "\\sigma_2\\otimes \\sigma_0 \\otimes \\sigma_3 =  Y\\otimes I\\otimes Z \n",
    "$$"
   ]
  },
  {
   "cell_type": "code",
   "execution_count": null,
   "id": "55e2d66c",
   "metadata": {
    "slideshow": {
     "slide_type": "-"
    }
   },
   "outputs": [],
   "source": [
    "' Matrices de Pauli'\n",
    "s0 = np.matrix([[1,0],[0,1]]) # matriz identidad\n",
    "s1 = np.matrix([[0,1],[1,0]])\n",
    "s2 = np.matrix([[0,-1j],[1j,0]])\n",
    "s3 = np.matrix([[1,0],[0,-1]])\n",
    "\n",
    "Pauli_basis = [s0,s1,s2,s3]\n",
    "\n",
    "' Cadena de Pauli YIZ = s2s0s3' \n",
    "Pauli_string_203 = np.kron(s2,np.kron(s0,s3))\n",
    "array_to_latex(Pauli_string_203)"
   ]
  },
  {
   "cell_type": "markdown",
   "id": "6f119952",
   "metadata": {
    "slideshow": {
     "slide_type": "slide"
    }
   },
   "source": [
    "los coeficientes se pueden obtener calculando las trazas\n",
    "\n",
    "$$\n",
    "a_{i_1\\ldots i_n} =\\frac{1}{2^n} \\tr (A \\,  \\sigma_{i_1}\\otimes \\ldots  \\otimes\\sigma_{i_n})\n",
    "$$"
   ]
  },
  {
   "cell_type": "code",
   "execution_count": null,
   "id": "1bfa55cf",
   "metadata": {},
   "outputs": [],
   "source": [
    "'Matriz arbitraria'\n",
    "A = np.random.rand(8,8) + 1j* np.random.rand(8,8)\n",
    "\n",
    "'Proyección'\n",
    "a_203 = np.trace(np.dot(A,Pauli_string_203))/2**3\n",
    "\n",
    "print('a_{203} = ', a_203)"
   ]
  },
  {
   "cell_type": "markdown",
   "id": "d4058f93",
   "metadata": {
    "slideshow": {
     "slide_type": "fragment"
    }
   },
   "source": [
    "Por tanto sólo tenemos que averiguar los valores esperados de cadenas de Pauli\n",
    "\n",
    "$$\n",
    "\\langle A \\rangle_{\\psi} =  \\sum_{i_1,...,i_n=0}^3 a_{i_1\\ldots i_n} \\langle \\sigma_{i_1}\\otimes \\ldots   \\otimes\\sigma_{i_n}\\rangle\n",
    "$$"
   ]
  },
  {
   "cell_type": "markdown",
   "id": "c2211ae9",
   "metadata": {
    "slideshow": {
     "slide_type": "slide"
    }
   },
   "source": [
    "### Valores esperados de cadenas de Pauli"
   ]
  },
  {
   "cell_type": "markdown",
   "id": "1a6cff54",
   "metadata": {
    "slideshow": {
     "slide_type": "-"
    }
   },
   "source": [
    "Veamos cómo calcular el valor esperado del operador\n",
    "\n",
    "$$\n",
    "\\langle Z\\otimes Z\\otimes Z\\rangle_\\Psi  = \\bra{\\Psi}   Z\\otimes Z\\otimes Z \\ket{\\Psi}\n",
    "$$\n",
    "\n",
    "en el siguiente estado\n",
    "\n",
    "$$\n",
    "|\\psi> = \\frac{i}{4}|000>+\\frac{1}{\\sqrt{8}}|001>+\\frac{1+i}{4}|010>+\\frac{1+2i}{\\sqrt{8}}|101>+\\frac{1}{4}|110>\n",
    "$$"
   ]
  },
  {
   "cell_type": "markdown",
   "id": "95ca05fa",
   "metadata": {
    "slideshow": {
     "slide_type": "slide"
    }
   },
   "source": [
    "Primero lo inicializamos"
   ]
  },
  {
   "cell_type": "code",
   "execution_count": null,
   "id": "acca4edf",
   "metadata": {
    "run_control": {
     "marked": false
    },
    "slideshow": {
     "slide_type": "-"
    }
   },
   "outputs": [],
   "source": [
    "' estado '\n",
    "psi =np.array([1.,-2*1J, -2,1,1J,0,2,-1])\n",
    "psi/=tQ.norm(psi)\n",
    "\n",
    "#e_init = tq_random_ket(8).reshape(8)\n",
    "\n",
    "Statevector(psi).draw('latex')"
   ]
  },
  {
   "cell_type": "markdown",
   "id": "7b1aeed5",
   "metadata": {
    "slideshow": {
     "slide_type": "slide"
    }
   },
   "source": [
    "Dado que $Z\\ket{i} = (-1)^i\\ket{i}$ donde $i=0,1$, entonces tendremos que, sobre un estado $\\ket{i_2 i_1 i_0}$ de la base computacional\n",
    "\n",
    "$$\n",
    "Z\\otimes Z\\otimes Z \\ket{i_2 i_1 i_0} = Z\\ket{i_2}\\otimes Z\\ket{i_1}\\otimes Z\\ket{i_0} = (-1)^{i_2+i_1+i_0}\\ket{i_2 i_1 i_0}\n",
    "$$"
   ]
  },
  {
   "cell_type": "markdown",
   "id": "3d544bb4",
   "metadata": {
    "slideshow": {
     "slide_type": "fragment"
    }
   },
   "source": [
    "entonces el valor esperado  de este operador es\n",
    "\n",
    "\\begin{eqnarray}\n",
    "\\langle Z\\otimes Z\\otimes Z\\rangle_\\Psi &=&\n",
    "\\bra{\\Psi} Z\\otimes Z\\otimes Z \\ket{\\Psi} \\\\ \n",
    "&=& \\sum_{i_2,i_1,i_0=0,1}\\bra{\\Psi} Z\\otimes Z\\otimes Z \\ket{i_2 i_1 i_0}\\braket{i_2 i_1 i_0}{\\Psi}  \\rule{0mm}{10mm}  \\\\\n",
    "&=& \\sum_{i_2,i_1,i_0=0,1}(-1)^{i_2 + i_1 + i_0}\\big|\\bra{i_2 i_1 i_0}\\Psi\\rangle\\big|^2 \\\\ \\rule{0mm}{8mm}\n",
    "&=& \\sum_{i_2,i_1,i_0=0,1} (-1)^{i_2 + i_1 + i_0} p(i_2,i_1,i_0) \\nonumber\\\\ \n",
    "\\end{eqnarray}"
   ]
  },
  {
   "cell_type": "markdown",
   "id": "e3221b93",
   "metadata": {
    "slideshow": {
     "slide_type": "slide"
    }
   },
   "source": [
    "El circuito que calcula las probabilidades necesarias es el siguiente"
   ]
  },
  {
   "cell_type": "code",
   "execution_count": null,
   "id": "f6d19afb",
   "metadata": {
    "slideshow": {
     "slide_type": "-"
    }
   },
   "outputs": [],
   "source": [
    "qr = QuantumRegister(3)\n",
    "cr = ClassicalRegister(3)\n",
    "qc = QuantumCircuit(qr,cr)\n",
    "\n",
    "from qiskit.extensions import Initialize\n",
    "\n",
    "qc.initialize(psi, qr)\n",
    "qc.measure(qr,cr)\n",
    "qc.draw(output='mpl')"
   ]
  },
  {
   "cell_type": "markdown",
   "id": "08c94256",
   "metadata": {
    "slideshow": {
     "slide_type": "slide"
    }
   },
   "source": [
    "Ejecutamos el circuito un número de veces y obtenemos el diccionario de cuentas"
   ]
  },
  {
   "cell_type": "code",
   "execution_count": null,
   "id": "7b74f68f",
   "metadata": {
    "slideshow": {
     "slide_type": "-"
    }
   },
   "outputs": [],
   "source": [
    "M_backend = Aer.get_backend('qasm_simulator')\n",
    "shots=100000\n",
    "\n",
    "counts = execute(qc,M_backend,shots=shots).result().get_counts()\n",
    "print(counts)\n",
    "\n",
    "#from qiskit.tools.visualization import plot_histogram\n",
    "#plot_histogram(counts)"
   ]
  },
  {
   "cell_type": "markdown",
   "id": "0dfca2b1",
   "metadata": {
    "slideshow": {
     "slide_type": "slide"
    }
   },
   "source": [
    "Finamente $\\langle ZZZ\\rangle $ es el valor medio  de una distribución de probabilidad de la forma $\\{\\lambda(x),p(x)\\},$ con $x=(i_2 i_1 i_0)$ y\n",
    "\n",
    "$$\n",
    "\\lambda(x) = (-1)^{i_{2}+i_1+i_0}~~~~~~,~~~~~~ p(x)= \\frac{n(x)}{\\sum_x n(x)} = \\frac{\\hbox{counts}(x)}{\\hbox{shots}}\n",
    "$$\n",
    "\n",
    "La media será el valor esperado que buscamos\n",
    "$$\n",
    " \\langle ZZZ\\rangle = \\bar \\lambda = \\sum_x \\lambda(x) p(x) = \\sum_{x}(-1)^{i_{2}+i_1+i_0}\\frac{\\hbox{counts}(x)}{\\hbox{shots}}\n",
    "$$"
   ]
  },
  {
   "cell_type": "code",
   "execution_count": null,
   "id": "4867ab26",
   "metadata": {
    "run_control": {
     "marked": false
    },
    "slideshow": {
     "slide_type": "fragment"
    }
   },
   "outputs": [],
   "source": [
    "mean = 0\n",
    "for bitstring,count  in counts.items():\n",
    "    mean += (-1)**(sum([int(bit) for bit in bitstring])) * count/nshots \n",
    "\n",
    "print('<ZZZ> =', np.round(mean,5) )"
   ]
  },
  {
   "cell_type": "markdown",
   "id": "9cc2b6eb",
   "metadata": {},
   "source": [
    "Check with the analytic expression $\\bra{\\psi} ZZZ\\ket{\\psi} $"
   ]
  },
  {
   "cell_type": "code",
   "execution_count": null,
   "id": "22abcbda",
   "metadata": {},
   "outputs": [],
   "source": [
    "Z = np.array([[1,0],[0,-1]])\n",
    "ZZZ = np.kron(Z,np.kron(Z,Z))\n",
    "tQ.braket(psi,np.dot(ZZZ,psi))"
   ]
  },
  {
   "cell_type": "markdown",
   "id": "e713cb3a",
   "metadata": {
    "slideshow": {
     "slide_type": "skip"
    }
   },
   "source": [
    "También podemos obtener la varianza\n",
    "$$\n",
    "\\sigma^2 = \\sum_{x}\\left((-1)^{i_{2}+i_1+i_0}-\\bar\\lambda \\right)^2 p(x)\n",
    "$$"
   ]
  },
  {
   "cell_type": "code",
   "execution_count": null,
   "id": "e8d2f075",
   "metadata": {
    "slideshow": {
     "slide_type": "skip"
    }
   },
   "outputs": [],
   "source": [
    "variance=0\n",
    "for bitstring,count  in counts.items():\n",
    "    variance += ((-1)**(sum([int(bit) for bit in bitstring]))-mean)**2 * count/nshots \n",
    "    \n",
    "print('sigma = ', np.sqrt(variance) )"
   ]
  },
  {
   "cell_type": "markdown",
   "id": "8e9f65d6",
   "metadata": {},
   "source": [
    "Igualmente podemos ver cómo medir el valor esperado\n",
    "\n",
    "$$\n",
    "\\langle Z\\otimes X\\otimes Y\\rangle_\\Psi  = \\bra{\\Psi}   Z\\otimes X\\otimes Y \\ket{\\Psi}\n",
    "$$\n",
    "\n",
    "en el mismo estado"
   ]
  },
  {
   "cell_type": "code",
   "execution_count": null,
   "id": "a700fc55",
   "metadata": {},
   "outputs": [],
   "source": [
    "qr = QuantumRegister(3)\n",
    "cr = ClassicalRegister(3)\n",
    "qc = QuantumCircuit(qr,cr)\n",
    "\n",
    "from qiskit.extensions import Initialize\n",
    "\n",
    "qc.initialize(psi, qr)\n",
    "add_multimeasure_XYZ(qc,'ZXY')\n",
    "qc.draw(output='mpl')"
   ]
  },
  {
   "cell_type": "code",
   "execution_count": null,
   "id": "411af517",
   "metadata": {},
   "outputs": [],
   "source": [
    "counts = execute(qc,M_backend,shots=shots).result().get_counts()\n",
    "print(counts)\n",
    "\n",
    "mean = 0\n",
    "for bitstring,count  in counts.items():\n",
    "    mean += (-1)**(sum([int(bit) for bit in bitstring])) * count/nshots \n",
    "\n",
    "print('<ZXY> =', np.round(mean,5) )"
   ]
  },
  {
   "cell_type": "markdown",
   "id": "5e60f9a6",
   "metadata": {
    "slideshow": {
     "slide_type": "slide"
    }
   },
   "source": [
    "<div class='alert alert-block alert-success'>\n",
    "    <b>Ejercicio </b> \n",
    "<br>\n",
    "escribe una función $expval\\_pauli(P,u)$ que reciba como dato, un estado $\\ket{u}\\in \\Hil^{\\otimes n}$ y una cadena $P = 'IXYZZ...'$ que represente un operador de Pauli múltiple,  y  devuelva el valor esperado $\\bra{u}P\\ket{u}$.\n",
    "    \n",
    "</div>"
   ]
  },
  {
   "cell_type": "markdown",
   "id": "59e82876",
   "metadata": {},
   "source": [
    "<div class=\"alert alert-block alert-success\">\n",
    " <b>Ejercicio</b>  \n",
    "    \n",
    "escribe una función $expect\\_value$ que reciba como argumento un estado $\\ket{\\psi}$ y un observable $A$, definidos  sobre $\\Hil^{\\otimes n}$ y devuelva el valor esperado $\\bra{\\psi}A\\ket{\\psi}$. Tendrás que generar todas las cadenas de Pauli de longitud $n$. \n",
    "<div>"
   ]
  },
  {
   "cell_type": "markdown",
   "id": "4a6b0fc8",
   "metadata": {
    "slideshow": {
     "slide_type": "fragment"
    }
   },
   "source": [
    "<div class=\"alert alert-block alert-success\">\n",
    " <b>Ejercicio</b>  \n",
    "    \n",
    "considera el hamiltoniano $H=\\lambda (X X+Y Y+Z Z)$ siendo $\\lambda =1.47\\cdot 10^{-6}eV$. \n",
    " Calcular el valor esperado de la energía $E = \\langle H\\rangle_\\Psi$  en los cuatro estados de Bell\n",
    "$\\ket{\\Psi} = \\ket{B_{ij}}$. \n",
    "<div>"
   ]
  },
  {
   "cell_type": "markdown",
   "id": "7241f53a",
   "metadata": {
    "slideshow": {
     "slide_type": "skip"
    }
   },
   "source": [
    "## Medida de Hadamard"
   ]
  },
  {
   "cell_type": "markdown",
   "id": "68d958da",
   "metadata": {
    "slideshow": {
     "slide_type": "skip"
    }
   },
   "source": [
    "Al final, el valor esperado de un operador es un simple número que se obtiene a partir de una distribución aleatoria de valores. \n",
    "\n",
    "¿No podríamos diseñar una variable aleatoria cuyo valor medio coincida con ese resultado? \n",
    "\n",
    "La medida de Hadamard hace precisamente esto aprovechando el entrelazamiento"
   ]
  },
  {
   "cell_type": "markdown",
   "id": "8f99d6d8",
   "metadata": {
    "slideshow": {
     "slide_type": "skip"
    }
   },
   "source": [
    "Consideremos el siguiente circuito\n",
    "<br>\n",
    "<br>\n",
    "<div>\n",
    "<img src=\"images/Hadamard_measure.png\" width=\"30%\" style=\"margin:auto\"/>\n",
    "</div>"
   ]
  },
  {
   "cell_type": "markdown",
   "id": "d54614d7",
   "metadata": {
    "slideshow": {
     "slide_type": "skip"
    }
   },
   "source": [
    "El aparato de medida sólo registra valores $\\{0,1\\}$ como resultado de las medidas proyectivas sobre $\\ket{\\pm}$\n",
    "\n",
    "Supongamos que medimos con el aparato $x$. El promedio \n",
    "\n",
    "$$\n",
    "p_{0}-p_{1} = \\frac{n_{0}}{N} - \\frac{n_{1}}{N} = \\langle X\\rangle_{ancilla}\n",
    "$$\n",
    "\n",
    "es el valor esperado de $X$ en la ancilla."
   ]
  },
  {
   "cell_type": "markdown",
   "id": "b3cf2f55",
   "metadata": {
    "slideshow": {
     "slide_type": "skip"
    }
   },
   "source": [
    "Análogamente, será $\\langle Y\\rangle_{ancilla}$  si usamos el aparato $y$."
   ]
  },
  {
   "cell_type": "markdown",
   "id": "d0b56f30",
   "metadata": {
    "slideshow": {
     "slide_type": "skip"
    }
   },
   "source": [
    "Vamos a demostrar el siguiente resultado que relaciona este número con el valor esperado de $U$ en el estado $\\ket{\\psi}$"
   ]
  },
  {
   "cell_type": "markdown",
   "id": "b3c98099",
   "metadata": {
    "slideshow": {
     "slide_type": "skip"
    }
   },
   "source": [
    "<div class=\"alert alert-block alert-info\",text-align:center>\n",
    "<p style=\"text-align: left ;color: navy;\">  \n",
    "<b>Teorema:</b>\n",
    "<br>\n",
    "$$\n",
    "\\langle X\\rangle_{ancilla} = {\\rm Re} \\langle U\\rangle_{\\psi} ~~~,~~~ \\langle Y\\rangle_{ancilla} = {\\rm Im} \\langle U\\rangle_{\\psi}\\, \n",
    "$$\n",
    "</div>\n",
    "<br>"
   ]
  },
  {
   "cell_type": "markdown",
   "id": "101cf070",
   "metadata": {
    "slideshow": {
     "slide_type": "skip"
    }
   },
   "source": [
    "**Demostración**: para el caso $x$, el circuito anterior será\n",
    "<br>\n",
    "<br>\n",
    "<div>\n",
    "<img src=\"images/Hadamard_measurea.png\" width=\"40%\" style=\"margin:auto\"/>\n",
    "</div>\n",
    "<br>\n",
    "\n",
    "\n",
    "Un cálculo explícito nos da el estado que llega al aparato de medida\n",
    "<br>\n",
    "\n",
    "$$\n",
    "\\ket{0}\\ket{\\psi} ~\\to ~ \\ket{\\Psi} = \\frac{1}{2} \\left[\\rule{0mm}{3mm} |0\\rangle \\otimes (1 + U) |\\psi\\rangle +  |1\\rangle \\otimes (1 - U) |\\psi\\rangle \\right] \\label{hadam}\n",
    "$$"
   ]
  },
  {
   "cell_type": "markdown",
   "id": "6b5f7743",
   "metadata": {
    "slideshow": {
     "slide_type": "skip"
    }
   },
   "source": [
    "Si medimos el cúbit ancilla, obtendremos como resultados $\\{0,1\\}$ con probabilidades \n",
    "\n",
    "\\begin{eqnarray} \n",
    " p_{0}  &=&  \\left\\vert \\frac{1}{2}  (1 + U) \\ket{\\psi}  \\right\\vert^{2} = \n",
    " \\frac{1}{4}\\bra{\\psi}(1 + U^\\dagger) (1 + U) \\ket{\\psi} =\\frac{1}{2}(1+\\operatorname{Re}\\langle \\psi|U|\\psi\\rangle) \\nonumber\\\\\n",
    " p_{1}  &=&  \\left\\vert \\frac{1}{2}  (1 - U) \\ket{\\psi}  \\right\\vert^{2}=\n",
    " \\frac{1}{4}\\bra{\\psi}(1 - U^\\dagger) (1 - U) \\ket{\\psi} =\n",
    " \\frac{1}{2}(1-\\operatorname{Re}\\langle \\psi|U|\\psi\\rangle) \\nonumber\n",
    "\\end{eqnarray}"
   ]
  },
  {
   "cell_type": "markdown",
   "id": "a717c9a8",
   "metadata": {
    "slideshow": {
     "slide_type": "skip"
    }
   },
   "source": [
    "El número $ p_{0} - p_{1}$ es el valor esperado de $\\langle X\\rangle $ en el estado de la ancilla justo  antes de la barrera. Encontramos el siguiente resultado \n",
    "$$\n",
    "\\langle{X}\\rangle_{ancilla}  =  \\hbox{Re}\\bra{\\psi} U \\ket{\\psi}\n",
    "$$"
   ]
  },
  {
   "cell_type": "markdown",
   "id": "5530aaee",
   "metadata": {
    "slideshow": {
     "slide_type": "skip"
    }
   },
   "source": [
    "Supongamos ahora que medimos en la base $Y$, es decir, con el circuito siguiente"
   ]
  },
  {
   "cell_type": "markdown",
   "id": "faffa42a",
   "metadata": {
    "slideshow": {
     "slide_type": "skip"
    }
   },
   "source": [
    "<br>\n",
    "<br>\n",
    "<div>\n",
    "<img src=\"images/Hadamard_measureb.png\" width=\"45%\" style=\"margin:auto\"/>\n",
    "</div>"
   ]
  },
  {
   "cell_type": "markdown",
   "id": "0db0d937",
   "metadata": {
    "slideshow": {
     "slide_type": "skip"
    }
   },
   "source": [
    "<div class=\"alert alert-block alert-success\">\n",
    "<b>Ejercicio 1.2.2.3</b>\n",
    "    \n",
    "    \n",
    "verificar que la parte imaginaria viene de medir  $\\langle Y\\rangle$ en la ancilla\n",
    "\n",
    "$$\n",
    "\\langle{Y}\\rangle_{ancilla}  =  \\hbox{Im}\\bra{\\psi} U \\ket{\\psi} \\, .\n",
    "$$\n",
    "</div>"
   ]
  },
  {
   "cell_type": "markdown",
   "id": "5ad03ba4",
   "metadata": {
    "slideshow": {
     "slide_type": "skip"
    }
   },
   "source": [
    "<div class=\"alert alert-block alert-success\">\n",
    "    <b>Ejercicio 1.2.2.4</b> \n",
    "    \n",
    "Obtener el valor esperado de $\\langle Z\\otimes Z\\otimes Z\\rangle_\\Psi$ en el estado \n",
    "\n",
    "$$\n",
    "|\\psi> = \\frac{i}{4}|000>+\\frac{1}{\\sqrt{8}}|001>+\\frac{1+i}{4}|010>+\\frac{1+2i}{\\sqrt{8}}|101>+\\frac{1}{4}|110>\n",
    "$$\n",
    "\n",
    "usando el método de Hadamard.\n",
    "</div>"
   ]
  },
  {
   "cell_type": "markdown",
   "id": "1b346725",
   "metadata": {
    "slideshow": {
     "slide_type": "skip"
    }
   },
   "source": [
    "Generamos el circuito de medida de Hadamard"
   ]
  },
  {
   "cell_type": "code",
   "execution_count": null,
   "id": "c0a8dd46",
   "metadata": {
    "slideshow": {
     "slide_type": "skip"
    }
   },
   "outputs": [],
   "source": [
    "from qiskit import QuantumRegister, QuantumCircuit, ClassicalRegister\n",
    "\n",
    "qr = QuantumRegister(3, name = 'qr')\n",
    "qra = QuantumRegister(1, name = 'ancilla')\n",
    "cr = ClassicalRegister(1)\n",
    "\n",
    "'creamos el operador como una puerta \"gate\" que admite el método \"control'\n",
    "qc0 = QuantumCircuit(qr)\n",
    "qc0.z(qr)\n",
    "CZZZ_gate = qc0.to_gate().control(1,ctrl_state= 1) \n",
    "\n",
    "'creamos el circuito con el operador controlado'\n",
    "qc_Had = QuantumCircuit(qra,qr,cr)\n",
    "qc_Had.initialize(psi,qr)\n",
    "qc_Had.h(qra)  \n",
    "qc_Had.append(CZZZ_gate,qra[:] + qr[:])\n",
    "qc_Had.sdg(qra)\n",
    "qc_Had.h(qra)\n",
    "qc_Had.measure(qra,cr)\n",
    "\n",
    "qc_Had.draw('mpl')"
   ]
  },
  {
   "cell_type": "markdown",
   "id": "c1bb27d9",
   "metadata": {
    "slideshow": {
     "slide_type": "skip"
    }
   },
   "source": [
    "Ejecutamos y obtenemos el valor esperado"
   ]
  },
  {
   "cell_type": "code",
   "execution_count": null,
   "id": "6cc39abf",
   "metadata": {
    "slideshow": {
     "slide_type": "skip"
    }
   },
   "outputs": [],
   "source": [
    "M_backend = Aer.get_backend('qasm_simulator')\n",
    "shots=1000000\n",
    "\n",
    "cuentas_Had= execute(qc_Had,M_backend,shots=shots).result().get_counts()\n",
    "print(cuentas_Had)\n",
    "\n",
    "from qiskit.tools.visualization import plot_histogram\n",
    "plot_histogram(cuentas_Had)"
   ]
  },
  {
   "cell_type": "code",
   "execution_count": null,
   "id": "b360d5b5",
   "metadata": {
    "slideshow": {
     "slide_type": "skip"
    }
   },
   "outputs": [],
   "source": [
    "val_esp_sigma(cuentas_Had)"
   ]
  },
  {
   "cell_type": "markdown",
   "id": "8f48d23e",
   "metadata": {
    "slideshow": {
     "slide_type": "skip"
    }
   },
   "source": [
    "<div class=\"alert alert-block alert-success\">\n",
    "    <b>Ejercicio 1.2.2.5</b> \n",
    "    \n",
    "define una función <i>add_Hadamadard_measure</i> que reciba un circuito y una  cadena de Pauli y añada al circuito el medidor de Hadamard asociado.\n",
    "</div>"
   ]
  },
  {
   "cell_type": "markdown",
   "id": "cfc647f5",
   "metadata": {
    "slideshow": {
     "slide_type": "skip"
    }
   },
   "source": [
    "### Proyección de Hadamard\n",
    "\n",
    "Supongamos el operador $U$ es un operador sobre 1 cúbit *a la vez hermítico y unitario*.\n",
    "\n",
    "Por tanto puede ser considerado, a la vez,\n",
    "\n",
    "- un observable con autovalores reales  $\\lambda = \\pm1$ y \n",
    "\n",
    "- una puerta cuántica con autovalores de módulo unidad"
   ]
  },
  {
   "cell_type": "markdown",
   "id": "8ee834e8",
   "metadata": {
    "slideshow": {
     "slide_type": "skip"
    }
   },
   "source": [
    "Ello deja a $\\lambda = \\pm 1$ como los únicos autovalores posibles para un operador así. \n",
    "Los operadores $X,Y,Z$ y $H$ son ejemplos de ello. \n",
    "\n",
    "\n",
    "\n",
    "\n",
    "\n",
    "Denominemos $\\ket{a}_U, \\, a=0,1$  los autovectores de $U$ con autovalores $(-1)^a$, es decir $U\\ket{a}_U = (-1)^a\\ket{a}_U$."
   ]
  },
  {
   "cell_type": "markdown",
   "id": "c4c917d2",
   "metadata": {
    "slideshow": {
     "slide_type": "skip"
    }
   },
   "source": [
    "En este caso, los factores $(1\\pm U)$ que aparecen en la medida de Hadamard son proyectores ortogonales sobre los autoestados de $U$\n",
    "\n",
    "\n",
    "<br>\n",
    "<br>\n",
    "<div>\n",
    "<img src=\"images/HadamardProjection.png\" width=\"35%\" style=\"margin:auto\"/>\n",
    "</div>\n",
    "<br>\n",
    "\n",
    "La imagen bajo este circuito de un estado de entrada $\\ket{0}\\ket{\\psi}$ ahora será\n",
    "<br>\n",
    "<br>\n",
    "\n",
    "$$\n",
    "\\ket{0}\\ket{\\psi} = \\ket{0}\\otimes (\\alpha\\ket{0}_U + \\beta\\ket{1}_U) ~~\\longrightarrow ~~  \\alpha\\ket{0}\\ket{0}_U +  \\beta\\ket{1}\\ket{1}_U\\, .\n",
    "$$\n",
    "<br>\n",
    "\n",
    "Al igual que con los estados de Bell, cada resultado de  medida en la ancilla está correlacionado con un autoestado del operador $U$."
   ]
  }
 ],
 "metadata": {
  "jupytext": {
   "text_representation": {
    "extension": ".md",
    "format_name": "myst",
    "format_version": 0.13,
    "jupytext_version": "1.15.2"
   }
  },
  "kernelspec": {
   "display_name": "Python 3 (ipykernel)",
   "language": "python",
   "name": "python3"
  },
  "source_map": [
   14,
   30,
   44,
   60,
   64,
   78,
   82,
   90,
   108,
   116,
   137,
   141,
   164,
   168,
   196,
   200,
   206,
   213,
   226,
   230,
   234,
   238,
   247,
   251,
   275,
   279,
   292,
   296,
   318,
   340,
   344,
   356,
   360,
   386,
   390,
   394,
   398,
   408,
   415,
   433,
   441,
   451,
   460,
   464,
   478,
   482,
   498,
   506,
   518,
   522,
   538,
   542,
   557,
   570,
   582,
   586,
   592,
   599,
   609,
   620,
   632,
   643,
   652,
   660,
   670,
   674,
   683,
   692,
   704,
   709,
   713,
   725,
   743,
   755,
   762,
   766,
   774,
   787,
   801,
   805,
   833,
   837,
   852,
   860,
   868,
   881,
   892
  ]
 },
 "nbformat": 4,
 "nbformat_minor": 5
}