{
 "cells": [
  {
   "cell_type": "markdown",
   "id": "d23b835b",
   "metadata": {
    "slideshow": {
     "slide_type": "slide"
    }
   },
   "source": [
    "# Puertas Simples\n",
    "\n",
    "\n",
    "\n",
    "$ \\newcommand{\\bra}[1]{\\langle #1|} $\n",
    "$ \\newcommand{\\ket}[1]{|#1\\rangle} $\n",
    "$ \\newcommand{\\braket}[2]{\\langle #1|#2\\rangle} $\n",
    "$ \\newcommand{\\ketbra}[2]{| #1\\rangle  \\langle #2|} $\n",
    "$ \\newcommand{\\tr}{{\\rm tr}} $\n",
    "$ \\newcommand{\\i}{{\\color{blue} i}} $ \n",
    "$ \\newcommand{\\Hil}{{\\cal H}} $\n",
    "$ \\newcommand{\\V}{{\\cal V}} $"
   ]
  },
  {
   "cell_type": "markdown",
   "id": "0de5a4d8",
   "metadata": {
    "slideshow": {
     "slide_type": "skip"
    }
   },
   "source": [
    "- [Rotaciones en la esfera de Bloch](#rotesf)\n",
    "\n",
    "\n",
    "\n",
    "- [Puertas simples](#puertsimp)"
   ]
  },
  {
   "cell_type": "code",
   "execution_count": null,
   "id": "241027fa",
   "metadata": {
    "slideshow": {
     "slide_type": "slide"
    }
   },
   "outputs": [],
   "source": [
    "%run ../macro_CURSO.py"
   ]
  },
  {
   "cell_type": "markdown",
   "id": "59c9c2b5",
   "metadata": {
    "slideshow": {
     "slide_type": "slide"
    }
   },
   "source": [
    "## Rotaciones en la esfera de Bloch"
   ]
  },
  {
   "cell_type": "markdown",
   "id": "b0674ef4",
   "metadata": {
    "slideshow": {
     "slide_type": "slide"
    }
   },
   "source": [
    "Un operador unitario conserva la norma y, por tanto, lleva un vector a otro de la misma esfera de Bloch \n",
    "\n",
    "Esta operación  se puede *visualizar* como una **rotación de un cierto ángulo en torno a algún eje**."
   ]
  },
  {
   "cell_type": "markdown",
   "id": "d8ffcc22",
   "metadata": {
    "slideshow": {
     "slide_type": "-"
    }
   },
   "source": [
    "<div>\n",
    "<img src=\"images/BlochSphere2.png\" width=\"300\"/>\n",
    "</div>"
   ]
  },
  {
   "cell_type": "markdown",
   "id": "1ce0a551",
   "metadata": {
    "slideshow": {
     "slide_type": "slide"
    }
   },
   "source": [
    "<div class=\"alert alert-block alert-info\",text-align:center>\n",
    "<p style=\"text-align: left ;color: navy;\">  \n",
    "<b> Teorema</b>:\n",
    "<br>\n",
    "    El operador que efectúa una <i>rotación de ángulo</i>  $\\alpha\\in [0,2\\pi)$ en torno al <i>eje que marca un vector unitario</i>  $\\hat{\\bf n}$ es el siguiente\n",
    "<br> \n",
    "<br>    \n",
    "\\begin{eqnarray}\n",
    "R_{\\hat{\\bf n}}(\\alpha)~ = ~\\exp\\left( -i\\frac{\\alpha}{2} \\hat{\\bf n}\\cdot \\boldsymbol{\\sigma} \\right) ~=~ \n",
    "\\cos \\frac{\\alpha}{2} I - i \\sin\\frac{\\alpha}{2} \\hat{\\bf n}\\cdot\\boldsymbol{\\sigma} \n",
    "\\end{eqnarray}\n",
    "</p>    \n",
    "</div>"
   ]
  },
  {
   "cell_type": "markdown",
   "id": "36b044ad",
   "metadata": {
    "slideshow": {
     "slide_type": "fragment"
    }
   },
   "source": [
    "donde $\\boldsymbol{\\sigma} = (\\sigma_x, \\sigma_y, \\sigma_z)$ son las matrices de Pauli\n",
    "$$\n",
    "\\sigma_x = \\begin{bmatrix} 0 & 1 \\\\ 1 & 0 \\end{bmatrix}~~,~~\n",
    "\\sigma_y = \\begin{bmatrix} 0 & -i \\\\ i & 0 \\end{bmatrix}~~,~~\n",
    "\\sigma_z = \\begin{bmatrix} 1 & 0 \\\\ 0 & -1 \\end{bmatrix}~~.~~\n",
    "$$"
   ]
  },
  {
   "cell_type": "markdown",
   "id": "5143a0ed",
   "metadata": {
    "slideshow": {
     "slide_type": "skip"
    }
   },
   "source": [
    "<div class=\"alert alert-block alert-danger\",text-align:center>\n",
    "<b> Nota</b>:\n",
    "    el sentido de la rotación que produce $R_{\\hat{\\bf n}}(\\alpha)$ en torno al eje $\\hat{\\bf n}$, viene dado por la <i>regla de la mano derecha</i> o, también, <i>anti-horario</i>. \n",
    "</div>"
   ]
  },
  {
   "cell_type": "markdown",
   "id": "5f237d2e",
   "metadata": {
    "slideshow": {
     "slide_type": "fragment"
    }
   },
   "source": [
    "Haciendo la suma explícitamente podemos escribir la matriz unitaria \n",
    "<br>\n",
    "<br>\n",
    "\n",
    "\\begin{eqnarray}\n",
    "R_{\\hat{\\bf n}}(\\alpha)~  ~=~ \n",
    " \\begin{bmatrix} \\cos \\displaystyle\\frac{\\alpha}{2} - i n_z\\sin\\frac{\\alpha}{2} &\\displaystyle (-in_x- n_y)\\sin\\frac{\\alpha}{2} \\\\ \\displaystyle\n",
    "(-in_x + ny) \\sin\\frac{\\alpha}{2} & \\displaystyle \\cos \\frac{\\alpha}{2} + i n_z\\sin\\frac{\\alpha}{2} \\end{bmatrix}\n",
    "\\end{eqnarray}"
   ]
  },
  {
   "cell_type": "markdown",
   "id": "2786a294",
   "metadata": {
    "slideshow": {
     "slide_type": "slide"
    }
   },
   "source": [
    "### Rotaciones X, Y y Z\n",
    "\n",
    "- Asociado a rotaciones en torno a los ejes $X$, $Y$ y $Z$ de un ángulo $\\alpha$ encontramos las tres puertas siguientes\n",
    "\n",
    "\n",
    "<br>\n",
    "\n",
    "$$\n",
    "\\begin{array}{rcl}\n",
    "\\hat{\\bf n} = (0,0,1) ~~\\Rightarrow ~~ R_{z}(\\alpha) &=&  \\begin{bmatrix} e^{-i\\alpha/2}  & 0 \\\\ 0 & e^{i\\alpha/2}  \\end{bmatrix}  ~,~\\nonumber\\\\\n",
    "\\rule{0mm}{14mm}\n",
    "\\hat{\\bf n} = (0,1,0) ~~\\Rightarrow ~~ R_{y}(\\alpha) &=&  \\begin{bmatrix} \\cos \\alpha/2  & -\\sin \\alpha/2 \\\\   \\sin\\alpha/2 & \\cos\\alpha/2 \\end{bmatrix}  \\nonumber \\\\\n",
    "\\rule{0mm}{14mm}\n",
    "\\hat{\\bf n} = (1,0,0) ~~\\Rightarrow ~~ R_{x}(\\alpha)  &=&  \\begin{bmatrix} \\cos\\alpha/2  &- i\\sin\\alpha/2 \\\\   -i\\sin\\alpha/2& \\cos\\alpha/2 \\end{bmatrix} \\, .\\nonumber\n",
    "\\end{array}\n",
    "$$\n",
    "\n",
    "<br>"
   ]
  },
  {
   "cell_type": "markdown",
   "id": "438ea015",
   "metadata": {
    "slideshow": {
     "slide_type": "skip"
    }
   },
   "source": [
    "### Parametrización de Euler\n",
    "\n",
    " Necesitamos *3 parámetros* para especificar una rotación general.\n",
    "En $R_{\\hat{\\bf n}}(\\theta)$ un parámetro es $\\theta$ y otros dos entran  en $\\hat{\\bf n}$ con \n",
    "$  |\\hat{\\bf n}|=1$."
   ]
  },
  {
   "cell_type": "markdown",
   "id": "30c81b9a",
   "metadata": {
    "slideshow": {
     "slide_type": "skip"
    }
   },
   "source": [
    " La *parametrización de Euler* consiste en una *composición de tres rotaciones* sucesivas en torno a los ejes $z$, después  $y$ y  finalmente $z$ de nuevo:"
   ]
  },
  {
   "cell_type": "markdown",
   "id": "f808f8fc",
   "metadata": {
    "slideshow": {
     "slide_type": "skip"
    }
   },
   "source": [
    "Multiplicando las matrices asociadas, y extrayendo una fase global, definimos \n",
    "\n",
    "$$\n",
    " R_z(\\phi)R_y(\\theta)R_z(\\varphi) = e^{-\\frac{i}{2}(\\phi + \\varphi)}U(\\theta,\\phi,\\varphi)  \n",
    "$$\n",
    "\n",
    "Los *ángulos de Euler* son $\\theta,\\phi $ y $\\varphi$,"
   ]
  },
  {
   "cell_type": "markdown",
   "id": "a7858965",
   "metadata": {
    "slideshow": {
     "slide_type": "skip"
    }
   },
   "source": [
    "**Rotación general**\n",
    "\n",
    "$$\n",
    "U(\\theta,\\phi,\\varphi)=\\begin{bmatrix}   \\cos \\displaystyle\\frac{\\theta}{2}  & - e^{i\\varphi} \\sin\\displaystyle\\frac{\\theta}{2}  \\\\ \n",
    "\\rule{0mm}{4mm} e^{i\\phi} \\sin \\displaystyle\\frac{\\theta}{2} &e^{i(\\varphi+\\phi)} \\cos \\displaystyle\\frac{\\theta}{2} \\end{bmatrix}\n",
    "$$\n",
    "\n",
    "<br>"
   ]
  },
  {
   "cell_type": "markdown",
   "id": "f44a8978",
   "metadata": {
    "slideshow": {
     "slide_type": "skip"
    }
   },
   "source": [
    "Es evidente que la acción de este operador sobre la base  $\\{\\ket{0},\\ket{1}\\}$ \n",
    "una base alineada con el eje $(\\theta,\\phi)$\n",
    "<br>\n",
    "\n",
    "$$\n",
    "U(\\theta,\\phi,\\varphi)\\begin{bmatrix} 1\\\\0\\end{bmatrix} = \\begin{bmatrix} \\cos\\displaystyle\\frac{\\theta}{2}\\\\ e^{i\\phi} \\sin \\displaystyle \\frac{\\theta}{2} \\end{bmatrix} ~~~~~~,~~~~~~~\n",
    "U(\\theta,\\phi,\\varphi)\\begin{bmatrix} 0\\\\1\\end{bmatrix} = \\begin{bmatrix} -e^{i\\varphi}\\sin\\displaystyle\\frac{\\theta}{2}\\\\ e^{i(\\varphi + \\phi)} \\cos \\displaystyle \\frac{\\theta}{2} \\end{bmatrix} \n",
    "$$\n",
    "<br>"
   ]
  },
  {
   "cell_type": "markdown",
   "id": "171249df",
   "metadata": {
    "slideshow": {
     "slide_type": "skip"
    }
   },
   "source": [
    "## Puertas Simples"
   ]
  },
  {
   "cell_type": "markdown",
   "id": "91d57053",
   "metadata": {
    "slideshow": {
     "slide_type": "skip"
    }
   },
   "source": [
    "Por puertas simples entendemos un conjunto de *operadores unitarios* que se utilizan con frecuencia en la computación cuántica. Vamos a ver las puertas simples sobre 1 cúbit"
   ]
  },
  {
   "cell_type": "markdown",
   "id": "b8d69674",
   "metadata": {
    "slideshow": {
     "slide_type": "skip"
    }
   },
   "source": [
    "### Puerta de fase \n",
    "\n",
    "- $P_\\alpha = P(\\alpha)$ con $\\alpha \\in [0,2\\pi)$\n",
    "<br>\n",
    "<br>\n",
    "$$\n",
    "P(\\alpha)= \\begin{bmatrix}\n",
    "1 & 0 \\\\ 0 & e^{i\\alpha} \n",
    "\\end{bmatrix}  =  \\ketbra{0}{0} + e^{i\\alpha}\\ketbra{1}{1}\n",
    "$$\n",
    "<br>\n",
    "es unitaria para todo $\\alpha$ como se comprueba fácilmente. \n",
    "Aplicada a un estado de cúbit genérico \n",
    "<br>\n",
    "<br>\n",
    "$$\n",
    "P(\\alpha) \\ket{u} =  \\begin{bmatrix} 1 & 0 \\\\ 0 & e^{i\\alpha} \\end{bmatrix}\n",
    "\\begin{bmatrix} \\cos\\theta \\\\ \\sin\\theta e^{i\\phi} \\end{bmatrix} = \\begin{bmatrix} \\cos\\theta \\\\ \\sin\\theta e^{i(\\phi+\\alpha)} \n",
    "\\end{bmatrix}= \\ket{v}\n",
    "$$\n",
    "<br>"
   ]
  },
  {
   "cell_type": "markdown",
   "id": "e8dc7a6c",
   "metadata": {
    "slideshow": {
     "slide_type": "skip"
    }
   },
   "source": [
    "El efecto de este operador es rotar cualquier cúbit en torno al eje Z un ángulo $\\alpha$. Comprobamos que está relacionada con $R_z(\\alpha)$\n",
    "<br>\n",
    "<br>\n",
    "$$\n",
    "P(\\alpha) = \\begin{bmatrix} 1 & 0 \\\\ 0 & e^{i\\alpha} \\end{bmatrix} = \n",
    "\\begin{bmatrix} e^{i\\alpha/2} & 0 \\\\ 0 & e^{i\\alpha/2} \\end{bmatrix} \n",
    "\\begin{bmatrix} e^{-i\\alpha/2} & 0 \\\\ 0 & e^{i\\alpha/2} \\end{bmatrix}   \\equiv e^{i\\alpha/2} R_z(\\alpha)\n",
    "$$\n",
    "<br>\n",
    "<br>\n",
    "La fase global es trivial. Por tanto los dos operadores $P(\\alpha)$ y $R_Z(\\alpha)$ son equivalentes y producen el mismo efecto sobre la esfera de Bloch.\n",
    "\n",
    "\n",
    "+++ {\"slideshow\": {\"slide_type\": \"skip\"}}\n",
    "\n",
    "- $K_\\alpha = K(\\alpha)$\n",
    "<br>\n",
    "<br>\n",
    "realmente es una fase trivial, pero a veces se utiliza\n",
    "$$\n",
    "K(\\alpha)= e^{i\\alpha} \\begin{bmatrix}\n",
    "1 & 0 \\\\ 0 & 1 \n",
    "\\end{bmatrix} =  e^{i\\alpha}\\left(\\rule{0mm}{4mm} \\ketbra{0}{0} + \\ketbra{1}{1} \\right) = e^{i\\alpha} I \n",
    "$$"
   ]
  },
  {
   "cell_type": "markdown",
   "id": "6370b76c",
   "metadata": {
    "slideshow": {
     "slide_type": "slide"
    }
   },
   "source": [
    "### Puertas Discretas\n",
    "\n",
    "- $X,Y,Z$\n",
    "<br>\n",
    "<br>\n",
    "La computación clásica se basa en la descomposición de algoritmos complejos en una serie de puertas lógicas elementales. Veremos que lo mismo ocurre con la computación cuántica. \n",
    "<br>\n",
    "<br>\n",
    "$$\n",
    "\\begin{eqnarray}\n",
    "X &=&   \\begin{bmatrix}0&1\\\\1&0\\end{bmatrix} = \\sigma_x = \\ketbra{1}{0} + \\ketbra{0}{1}~~~, ~~~ \\\\\n",
    "Y &=&  \\begin{bmatrix}0&-i\\\\i&0\\end{bmatrix}= \\sigma_y  =  i \\ketbra{1}{0} - i \\ketbra{0}{1}~~~, ~~~ \\\\\n",
    "Z &=&   \\begin{bmatrix}1&0\\\\0&-1\\end{bmatrix}= \\sigma_z = \\ketbra{0}{0} - \\ketbra{1}{1}  ~~~~, ~~~\n",
    "\\end{eqnarray}\n",
    "$$\n",
    "<br>\n",
    "<br>\n",
    "donde hemos remarcado la igualdad con las <i>matrices de Pauli</i>.\n",
    "\n",
    "\n",
    "+++ {\"slideshow\": {\"slide_type\": \"fragment\"}}\n",
    "\n",
    "\n",
    "<div class=\"alert alert-block alert-success\">\n",
    "<b>Ejercicio:</b> \n",
    "Relacionar  $X,Y,Z$ con   $R_x(\\alpha),R_y(\\alpha)$ y $R_z(\\alpha)$ par algún valor de $\\alpha$.\n",
    "    \n",
    "</div>\n",
    "\n",
    "+++ {\"slideshow\": {\"slide_type\": \"skip\"}}\n",
    "\n",
    "-  $S,T$\n",
    "\n",
    "Cualquier potencia $U^k$ de un operador unitario es otro operador unitario. Esto es fácil de demostrar cuando $k=2$ pero es cierto en el caso general $k\\in{\\mathbb R}$. Así obtenemos\n",
    "<br>\n",
    "\n",
    "$$\n",
    "S = Z^{1/2} =  \\begin{bmatrix}1&0\\\\0&i\\end{bmatrix}=\\begin{bmatrix}1&0\\\\0&e^{i\\pi/2}\\end{bmatrix} ~~~~~,~~~~~~ T = S^{1/2} =  \\begin{bmatrix}1&0\\\\0&e^{i\\pi/4}\\end{bmatrix}\n",
    "$$\n",
    "\n",
    "<br>"
   ]
  },
  {
   "cell_type": "markdown",
   "id": "00ea0b82",
   "metadata": {
    "slideshow": {
     "slide_type": "slide"
    }
   },
   "source": [
    "- $H$   \n",
    "\n",
    "La puerta de Hadamard, $H$, es la primera puerta *genuinamente cuántica* en el sentido de que lleva un estado de la base a una superposición coherente\n",
    "<br>\n",
    "\n",
    "$$\n",
    "H \\ket{0} = \\frac{1}{\\sqrt{2}}\\left(\\rule{0mm}{4mm}\\ket{0} + \\ket{1}\\right) =\\ket{+}  ~~~~~~~~,~~~~~~~~~~\n",
    "H \\ket{1} = \\frac{1}{\\sqrt{2}}\\left(\\rule{0mm}{4mm}\\ket{0} - \\ket{1}\\right) =\\ket{-} \n",
    "$$"
   ]
  },
  {
   "cell_type": "markdown",
   "id": "252ebef4",
   "metadata": {
    "slideshow": {
     "slide_type": "fragment"
    }
   },
   "source": [
    "Podemos escribir este operador en la base canónica $H = H_{ij}\\ketbra{i}{j}$\n",
    "\n",
    "\\begin{eqnarray}\n",
    "H &=&  \\ket{+}\\bra{0} +  \\ket{-}\\bra{1} \\\\\n",
    "&=& \\frac{1}{\\sqrt{2}}(\\ketbra{0}{0} + \\ketbra{1}{0} + \\ketbra{0}{1} - \\ketbra{1}{1})\n",
    "\\end{eqnarray}"
   ]
  },
  {
   "cell_type": "markdown",
   "id": "c6896c08",
   "metadata": {
    "slideshow": {
     "slide_type": "fragment"
    }
   },
   "source": [
    "De aquí obtenemos la representación matricial  \n",
    "<br>\n",
    "$$\n",
    "H_{ij}   =  \\frac{1}{\\sqrt{2}} \\begin{bmatrix} 1& 1 \\\\ 1 & -1 \\end{bmatrix} \n",
    "$$\n",
    "<br>"
   ]
  },
  {
   "cell_type": "markdown",
   "id": "db825ae9",
   "metadata": {
    "slideshow": {
     "slide_type": "skip"
    }
   },
   "source": [
    "<div class=\"alert alert-block alert-danger\",text-align:center>\n",
    "<b> Nota</b>:\n",
    "    en cálculos posteriores encontraremos muy útil la siguiente representación de la acción de $H$\n",
    "\n",
    "$$\n",
    "H \\ket{x} =\\frac{1}{\\sqrt{2}} \\sum_{y=0,1} (-1)^{ x  y} \\ket{y}\n",
    "$$\n",
    "</div>"
   ]
  },
  {
   "cell_type": "markdown",
   "id": "0f20b8cb",
   "metadata": {
    "slideshow": {
     "slide_type": "skip"
    }
   },
   "source": [
    "Como cualquier puerta, la acción de $H$ puede visualizarse como una rotación en la esfera de Bloch $H$ de $\\pi$ radianes en torno a un eje diagonal situado a 45$^\\circ$ entre el eje $x$ \n",
    "y el eje $y$. Esta rotación permuta los ejes $x$ y $z$ y cambia de sentido el eje $y$.\n",
    "\n",
    "$$\n",
    "\\begin{array}{rcl}\n",
    "\\hat{\\bf n} = \\frac{1}{\\sqrt{2}}(1,0,1) ~~~~~ \\Rightarrow ~~~~~ R_{\\hat{\\bf n}}(\\pi) &=&-i\\frac{1}{\\sqrt{2}} \\begin{bmatrix} 1  & 1 \\\\ 1 & -1  \\end{bmatrix} =-i H \\sim H\\nonumber\\\\\n",
    "\\end{array}\n",
    "$$"
   ]
  },
  {
   "cell_type": "markdown",
   "id": "a68ecced",
   "metadata": {
    "slideshow": {
     "slide_type": "skip"
    }
   },
   "source": [
    "Como toda rotación de $\\alpha = \\pi/2$, una segunda aplicación da lugar a la identidad\n",
    "\n",
    "$$\n",
    "H^2 = I\n",
    "$$"
   ]
  },
  {
   "cell_type": "markdown",
   "id": "fe22e5d0",
   "metadata": {
    "slideshow": {
     "slide_type": "skip"
    }
   },
   "source": [
    "### Descomposición \n",
    "\n",
    "Una noción muy práctica en computación cuántica es la descomposición de una puerta en producto de otras más simples. \n",
    "\n",
    "Para el caso de $H$, un poco de visión espacial muestra que su acción equivale a la composición de\n",
    "\n",
    "- una  rotación de $\\pi/2$ radianes sobre el eje $Y$ \n",
    "\n",
    "\n",
    "- seguida de una rotación de  $\\pi$ radianes en torno al eje $X$. \n",
    "\n",
    "\n",
    "Lo demostramos algebraicamente (despreciando fases globales)"
   ]
  },
  {
   "cell_type": "markdown",
   "id": "7582ba49",
   "metadata": {
    "slideshow": {
     "slide_type": "skip"
    }
   },
   "source": [
    "$$\n",
    " R_x(\\pi)R_{y}\\left(\\frac{\\pi}{2}\\right) = \\begin{bmatrix}0&-i\\\\-i&0\\end{bmatrix} \\begin{bmatrix}\\cos\\pi/4& -\\sin\\pi/4 \\\\ \\sin\\pi/4 & \\cos\\pi/4 \\end{bmatrix} = \\frac{1}{\\sqrt{2}} \\begin{bmatrix}0&1\\\\1&0\\end{bmatrix} \\begin{bmatrix}1 & -1 \\\\ 1 & 1 \\end{bmatrix}  = \\frac{-i}{\\sqrt{2}} \\begin{bmatrix}1&1\\\\1&-1\\end{bmatrix} =-i H \\sim H\n",
    "$$"
   ]
  },
  {
   "cell_type": "markdown",
   "id": "0876460e",
   "metadata": {
    "slideshow": {
     "slide_type": "skip"
    }
   },
   "source": [
    "<div class=\"alert alert-block alert-success\">\n",
    "<b>Ejercicio:</b> \n",
    "Encontrar los ángulos $\\theta,\\phi,\\varphi$ que hay que verifican las siguientes idendidades\n",
    "    \n",
    "    \n",
    " $$\n",
    " U(\\theta,\\phi,\\varphi) = H ~~~~,~~~~  U(\\theta,\\phi,\\varphi) = SH\n",
    " $$\n",
    "</div>"
   ]
  },
  {
   "cell_type": "markdown",
   "id": "ab1210e2",
   "metadata": {
    "slideshow": {
     "slide_type": "slide"
    }
   },
   "source": [
    "## Circuitos Cuánticos"
   ]
  },
  {
   "cell_type": "markdown",
   "id": "a1babacd",
   "metadata": {
    "slideshow": {
     "slide_type": "-"
    }
   },
   "source": [
    "La aplicación de una *puerta* se representa mediante un cuadrado que contiene los datos del operador asociado.\n",
    "Por ejemplo, la aplicación del operador\n",
    "\n",
    "<br>\n",
    "\n",
    "$$\n",
    "\\ket{\\psi} \\to  U(\\theta,\\phi,\\varphi)\\ket{\\psi}\n",
    "$$\n",
    "\n",
    "<br>\n",
    "\n",
    "se representa mediante el circuito elemental siguiente\n",
    "\n",
    "<br>\n",
    "\n",
    "<div>\n",
    "<img src=\"images/puerta_simple.png\" width=\"250\"/>\n",
    "</div>"
   ]
  },
  {
   "cell_type": "code",
   "execution_count": null,
   "id": "83a954b3",
   "metadata": {
    "slideshow": {
     "slide_type": "slide"
    }
   },
   "outputs": [],
   "source": [
    "from qiskit import Aer, execute, QuantumCircuit\n",
    "\n",
    "\n",
    "theta = 1.2  #rad\n",
    "phi   = 1.5\n",
    "varphi = 0.\n",
    "\n",
    "qc = QuantumCircuit(1,1)\n",
    "\n",
    "qc.u(theta,phi,varphi,0) \n",
    "\n",
    "qc.draw(output='mpl')"
   ]
  },
  {
   "cell_type": "markdown",
   "id": "0b6cc8dc",
   "metadata": {
    "slideshow": {
     "slide_type": "skip"
    }
   },
   "source": [
    "### Simulador de estado"
   ]
  },
  {
   "cell_type": "code",
   "execution_count": null,
   "id": "c78ca2ae",
   "metadata": {
    "slideshow": {
     "slide_type": "skip"
    }
   },
   "outputs": [],
   "source": [
    "S_simulator = Aer.get_backend('statevector_simulator')\n",
    "stateresult = execute(qc,S_simulator).result()  \n",
    "\n",
    "state_vector = stateresult.get_statevector(decimals=5)\n",
    "\n",
    "# plot the state vector on the Bloch sphere\n",
    "from qiskit.tools.visualization import plot_bloch_multivector\n",
    "plot_bloch_multivector(state_vector)"
   ]
  },
  {
   "cell_type": "code",
   "execution_count": null,
   "id": "e5eb5616",
   "metadata": {
    "slideshow": {
     "slide_type": "skip"
    }
   },
   "outputs": [],
   "source": [
    "# print the state vector\n",
    "from qiskit.quantum_info import Statevector\n",
    "Statevector(state_vector).draw('latex')"
   ]
  },
  {
   "cell_type": "code",
   "execution_count": null,
   "id": "e38ae237",
   "metadata": {
    "slideshow": {
     "slide_type": "skip"
    }
   },
   "outputs": [],
   "source": [
    "# alternative wat to plot the state vector on the Bloch sphere\n",
    "Statevector(state_vector).draw('Bloch')"
   ]
  },
  {
   "cell_type": "markdown",
   "id": "82994cb1",
   "metadata": {
    "slideshow": {
     "slide_type": "skip"
    }
   },
   "source": [
    " La concatenación de puertas se corresponde con la *composición de operadores*, es decir, con la *multiplicación de las matrices* asociadas."
   ]
  },
  {
   "cell_type": "markdown",
   "id": "6aa2aac6",
   "metadata": {
    "slideshow": {
     "slide_type": "skip"
    }
   },
   "source": [
    "<div class=\"alert alert-block alert-danger\",text-align:center>\n",
    "<b> Nota</b>:\n",
    "<br>    \n",
    "el <i>orden</i> en el que aparecen los operadores en la composición es el opuesto al que se aprecia en el circuito. Así por ejemplo a la composición de operadores \n",
    "<br>\n",
    "$$\n",
    "\\ket{\\psi} \\to  TH \\ket{\\psi} \n",
    "$$\n",
    "<br>\n",
    "le corresponde un circuito en el que  $H$ está a la izquierda de $T$\n",
    "</div>"
   ]
  },
  {
   "cell_type": "code",
   "execution_count": null,
   "id": "7c79a0da",
   "metadata": {
    "slideshow": {
     "slide_type": "skip"
    }
   },
   "outputs": [],
   "source": [
    "qc=QuantumCircuit(1,1)\n",
    "\n",
    "'''aplicamos el operador TH '''\n",
    "qc.h(0)\n",
    "qc.t(0)\n",
    "\n",
    "qc.draw(output='mpl')"
   ]
  },
  {
   "cell_type": "markdown",
   "id": "093ecd53",
   "metadata": {
    "slideshow": {
     "slide_type": "skip"
    }
   },
   "source": [
    "### Matriz de un circuito\n",
    "\n",
    "Todo circuito se corresponde con un operador unitario que se obtiene componiendo todos los operadores que figuran en el. Por ejemplo, el circuito anterior representa el operador unitario $U$ al que le corresponde la matriz obtenida por multiplicación\n",
    "<br>\n",
    "<br>\n",
    "$$\n",
    "U = T H ~~~\\to ~~~ U_{ij} = \\begin{bmatrix}1&0\\\\0&e^{i\\pi/4}\\end{bmatrix} \\frac{1}{\\sqrt{2}} \\begin{bmatrix} 1& 1 \\\\ 1 & -1 \\end{bmatrix}  = \n",
    "\\frac{1}{\\sqrt{2}} \\begin{bmatrix} 1& 1 \\\\ e^{i\\pi/4} & -e^{i\\pi/4} \\end{bmatrix} \n",
    "$$"
   ]
  },
  {
   "cell_type": "code",
   "execution_count": null,
   "id": "d378966a",
   "metadata": {
    "slideshow": {
     "slide_type": "skip"
    }
   },
   "outputs": [],
   "source": [
    "### Circuit matrix representation\n",
    "U_simulator = Aer.get_backend('unitary_simulator')\n",
    "job = execute(qc, backend = U_simulator)\n",
    "\n",
    "U_matrix = job.result().get_unitary()\n",
    "\n",
    "print(U_matrix)\n",
    "\n",
    "'this looks very ugly, let us use latex'\n",
    "from qiskit.tools.visualization import array_to_latex\n",
    "array_to_latex(U_matrix, prefix=\"\\\\text{Unitary matrix = }\\n\")"
   ]
  },
  {
   "cell_type": "markdown",
   "id": "0e478a15",
   "metadata": {
    "slideshow": {
     "slide_type": "skip"
    }
   },
   "source": [
    "El resultado de la aplicación sobre el vector $\\ket{0}$ será\n",
    "\n",
    "\n",
    "<br>\n",
    "\n",
    "$$\n",
    "\\frac{1}{\\sqrt{2}} \\begin{bmatrix} 1& 1 \\\\ e^{i\\pi/4} & -e^{i\\pi/4} \\end{bmatrix} \\begin{bmatrix}1 \\\\ 0 \\end{bmatrix}\n",
    " = \\frac{1}{\\sqrt{2}} \\begin{bmatrix} 1  \\\\ e^{i\\pi/4}  \\end{bmatrix} \n",
    "$$\n",
    "<br>"
   ]
  },
  {
   "cell_type": "markdown",
   "id": "ee281e89",
   "metadata": {
    "slideshow": {
     "slide_type": "skip"
    }
   },
   "source": [
    "Podemos anticipar el resultado: \n",
    "- el operador $H$\n",
    "lleva el vector $\\ket{0}$ sobre el eje $z$ al vector $\\ket{+}$ que se halla sobre el eje $x$.  \n",
    "\n",
    "- posterioremente, $T$ es una rotación de ángulo $\\pi/4$ en torno al eje $z$ que moverá el vector $\\ket{+}$ sobre el plano ecuatorial. Veamos el resultado"
   ]
  },
  {
   "cell_type": "code",
   "execution_count": null,
   "id": "a7ef04bf",
   "metadata": {
    "slideshow": {
     "slide_type": "skip"
    }
   },
   "outputs": [],
   "source": [
    "statejob=execute(qc,S_simulator) \n",
    "stateresult=statejob.result()  \n",
    "\n",
    "# print the state vector\n",
    "state_vector = stateresult.get_statevector(decimals=5)\n",
    "print(state_vector)\n",
    "\n",
    "# plot the state vector on the Bloch sphere\n",
    "from qiskit.tools.visualization import plot_bloch_multivector\n",
    "\n",
    "plot_bloch_multivector(state_vector)"
   ]
  }
 ],
 "metadata": {
  "jupytext": {
   "text_representation": {
    "extension": ".md",
    "format_name": "myst",
    "format_version": 0.13,
    "jupytext_version": "1.15.2"
   }
  },
  "kernelspec": {
   "display_name": "Python 3 (ipykernel)",
   "language": "python",
   "name": "python3"
  },
  "source_map": [
   14,
   29,
   38,
   46,
   50,
   56,
   62,
   78,
   87,
   94,
   106,
   128,
   136,
   140,
   150,
   161,
   173,
   177,
   181,
   205,
   232,
   277,
   289,
   300,
   310,
   321,
   333,
   341,
   357,
   363,
   376,
   380,
   401,
   420,
   424,
   439,
   449,
   458,
   462,
   476,
   490,
   502,
   520,
   534,
   542
  ]
 },
 "nbformat": 4,
 "nbformat_minor": 5
}