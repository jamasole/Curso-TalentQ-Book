{
 "cells": [
  {
   "cell_type": "markdown",
   "id": "03c06aff",
   "metadata": {
    "slideshow": {
     "slide_type": "slide"
    }
   },
   "source": [
    "# 1.5 Probabilidades \n",
    "\n",
    "\n",
    "$ \\newcommand{\\bra}[1]{\\langle #1|} $\n",
    "$ \\newcommand{\\ket}[1]{|#1\\rangle} $\n",
    "$ \\newcommand{\\braket}[2]{\\langle #1|#2\\rangle} $\n",
    "$ \\newcommand{\\i}{{\\color{blue} i}} $ \n",
    "$ \\newcommand{\\Hil}{{\\mathbb H}} $\n",
    "\n",
    "- [Variables aleatorias](#varaleat)\n",
    "\n",
    "\n",
    "- [La conexión estadística](#estad)\n",
    "\n",
    "\n",
    "- [Probabilidades combinadas](#probcomb)"
   ]
  },
  {
   "cell_type": "code",
   "execution_count": null,
   "id": "9f2e8415",
   "metadata": {
    "slideshow": {
     "slide_type": "slide"
    }
   },
   "outputs": [],
   "source": [
    "import sys\n",
    "sys.path.append('../')\n",
    "import macro_tQ as tQ\n",
    "\n",
    "import numpy as np\n",
    "import scipy.linalg as la\n",
    "from IPython.display import display,Markdown,Latex\n",
    "import matplotlib.pyplot as plt\n",
    "from qiskit.tools.visualization import array_to_latex\n",
    "import copy "
   ]
  },
  {
   "cell_type": "markdown",
   "id": "fff1a5c3",
   "metadata": {
    "slideshow": {
     "slide_type": "slide"
    }
   },
   "source": [
    "## 1.5.1 Variables aleatorias"
   ]
  },
  {
   "cell_type": "markdown",
   "id": "0505f05a",
   "metadata": {
    "slideshow": {
     "slide_type": "slide"
    }
   },
   "source": [
    "Denotaremos con $(X,p(X))$ una  *variable aleatoria* donde\n",
    "\n",
    "- $X$ es el espacio muestral de valores $\\{x_1, x_2,....,x_n\\}$ que pueden aparecer en una *consulta* la variable aleatoria\n",
    "<br>\n",
    "\n",
    "- $p(X)$ es la *distribución de probabilidad*"
   ]
  },
  {
   "cell_type": "markdown",
   "id": "eba1ff1e",
   "metadata": {
    "slideshow": {
     "slide_type": "fragment"
    }
   },
   "source": [
    "#### Distribución de probabilidad\n",
    "\n",
    "Una distribución de probabilidad es una función real $x\\to p(x)$ que debe  verificar las dos condiciones siguientes\n",
    "\n",
    "$$\n",
    "p(x) \\in [0,1]~~~~~~~,~~~~~~~~\\sum_{x\\in X }p(x) = 1 \n",
    "$$\n",
    "Es decir, la suma de probabilidades de todos los sucesos posibles debe ser la unidad."
   ]
  },
  {
   "cell_type": "markdown",
   "id": "7994a1d2",
   "metadata": {
    "slideshow": {
     "slide_type": "slide"
    }
   },
   "source": [
    "- **Media**: la *media* de una variable aleatoria  viene dada por la expresión \n",
    "\n",
    "$$\n",
    "\\overline X  = \\sum_i x_i p(x_i)\n",
    "$$"
   ]
  },
  {
   "cell_type": "markdown",
   "id": "041322d2",
   "metadata": {
    "slideshow": {
     "slide_type": "fragment"
    }
   },
   "source": [
    "- **Varianza**: la *varianza*, $\\sigma_X^2$, es la  *media de la desviación cuadrática* $\\overline{(x_i - \\overline{X} )^2}$ \n",
    "<br>\n",
    "<br>\n",
    "$$ \n",
    "\\sigma^2_X = \\sum_j (x_j-\\overline{X})^2 p(x_j) = \\overline{X^2} - \\overline{X}^2\n",
    "$$\n",
    "<br>\n",
    "La cantidad $\\sigma_X$ se denomina  <i>desviación estándar</i>\n",
    "$$\n",
    "\\sigma_X = \\sqrt{\\overline{X^2} - \\overline{X}^2}\n",
    "$$"
   ]
  },
  {
   "cell_type": "markdown",
   "id": "5f067d3c",
   "metadata": {
    "slideshow": {
     "slide_type": "slide"
    }
   },
   "source": [
    "## 1.5.2 La conexión estadística"
   ]
  },
  {
   "cell_type": "markdown",
   "id": "d78b1a92",
   "metadata": {
    "slideshow": {
     "slide_type": "fragment"
    }
   },
   "source": [
    "Nuestro conocimiento del mundo se basa en la realización de experimentos, el resultado de los cuales es (empíricamente) aleatorio."
   ]
  },
  {
   "cell_type": "markdown",
   "id": "22d54a70",
   "metadata": {
    "slideshow": {
     "slide_type": "fragment"
    }
   },
   "source": [
    "Podemos pensar en el hecho de medir un sistema como la consulta de una variable aleatoria $(X,p(X))$ donde la distribución de probabilidad incorpora \n",
    "\n",
    "- toda la certeza asociada a una causa física (señal)\n",
    "\n",
    "- toda la incertidumbre asociada al procedimiento de medida (ruido)"
   ]
  },
  {
   "cell_type": "markdown",
   "id": "31dcb7fc",
   "metadata": {
    "slideshow": {
     "slide_type": "slide"
    }
   },
   "source": [
    "### Frecuencias e Histogramas"
   ]
  },
  {
   "cell_type": "markdown",
   "id": "489226c7",
   "metadata": {
    "slideshow": {
     "slide_type": "fragment"
    }
   },
   "source": [
    "Cualquier consulta o medida da lugar a una *muestra* finita de valores $A_N = (a_1,a_2,...,a_N)$ donde $a_i\\in \\{x_1,...,x_n\\}$ pueden repetirse en la muestra, con números de aparición $n(x_i)$ tales que  $n(x_1) +  \\ldots + n(x_p) = N$. \n",
    "\n",
    "Estos datos se pueden agrupar en intervalos o *bins* que eliminen cierta precisión numérica. \n",
    "\n",
    "Por ejemplo, si truncamos nuestra precisión a las décimas de unidad,  $13.10$ y $13.19$ pertenecerán al mismo *bin*.\n",
    "\n",
    "Un histograma es un diagrama en el que, por cada *bin*, hay una columna, cuya altura representa el número de sucesos que pertenecen a dicho *bin*\n",
    "\n",
    "En el siguiente ejemplo, puedes ver cómo, la misma lista de datos conduce a distintos histogramas si cambias la anchura de los bins"
   ]
  },
  {
   "cell_type": "code",
   "execution_count": null,
   "id": "c50e17eb",
   "metadata": {
    "slideshow": {
     "slide_type": "slide"
    }
   },
   "outputs": [],
   "source": [
    "import numpy as np\n",
    "import matplotlib.pyplot as plt\n",
    "\n",
    "datos1 = [12.2, 15.3, 13, 12.8, 18.1, 13, 20, 19.5, 20.2, 12.1, 12.4, 13.2, 17.9, 14.1, 15, 13.4, 11.1, 14.6, 13, 17.4, 19.2]\n",
    "datos2 = np.linspace(0.,10.,20)\n",
    "datos  = datos1\n",
    "\n",
    "anchura_bins = 1.# para modificar la anchura de los bins\n",
    "num_bins = int((max(datos)-min(datos))/anchura_bins) #número de bins\n",
    "bins_list = np.linspace(min(datos), max(datos) + 1 ,num_bins) #calculamos los extremos de los intervalos\n",
    "\n",
    "\n",
    "counts, bins, ignore = plt.hist(x=datos, bins = bins_list, color='#F2AB6D', rwidth=0.85)\n",
    "plt.xlabel('Datos')\n",
    "plt.ylabel('Frecuencia')\n",
    "plt.xticks(bins_list)\n",
    "\n",
    "plt.show()"
   ]
  },
  {
   "cell_type": "markdown",
   "id": "a4a501d7",
   "metadata": {
    "slideshow": {
     "slide_type": "slide"
    }
   },
   "source": [
    "### Ley de los grandes números"
   ]
  },
  {
   "cell_type": "markdown",
   "id": "ebb7764e",
   "metadata": {
    "slideshow": {
     "slide_type": "fragment"
    }
   },
   "source": [
    "Las fracciones relativas tienden en el límite $N\\to \\infty$ a la probabilidad relativa de aparición de  $x_i$ en una sola tirada\n",
    "\n",
    "$$\n",
    "f_N(x_i) = \\frac{n(x_i)}{N}~~~\\stackrel{N\\to\\infty}{\\longrightarrow}~~~{p(x_i)}\n",
    "$$"
   ]
  },
  {
   "cell_type": "markdown",
   "id": "21cd3dd8",
   "metadata": {
    "slideshow": {
     "slide_type": "fragment"
    }
   },
   "source": [
    "Experimentalmente sólo tenemos acceso a las frecuencias relativas $f_N(x_i)$ para un $N$ grande aunque finito."
   ]
  },
  {
   "cell_type": "markdown",
   "id": "5ea359ab",
   "metadata": {
    "slideshow": {
     "slide_type": "slide"
    }
   },
   "source": [
    "Igualmente, nuestro conocimiento de la  media $\\overline X$  y la varianza $\\sigma_X^2$ siempre es aproximado, y se realiza a través de las medias y varianzas muestrales\n",
    "\n",
    "\\begin{eqnarray}\n",
    "\\overline{A}_N = \\sum_i x_i f_N(x_i)~~~&\\stackrel{N\\to\\infty}{\\longrightarrow}&~~~ \\overline{X}\\\\\n",
    "\\sigma_{A_N}^2 = \\sum_{i} (x_i - \\overline{A}_N)^2 f_N(x_i) ~~~&\\stackrel{N\\to\\infty}{\\longrightarrow}&~~~ \\sigma_X^2\n",
    "\\end{eqnarray}"
   ]
  },
  {
   "cell_type": "markdown",
   "id": "e059ab4c",
   "metadata": {},
   "source": [
    "## 1.5.3 Distribuciones importantes"
   ]
  },
  {
   "cell_type": "markdown",
   "id": "91f21d8c",
   "metadata": {
    "slideshow": {
     "slide_type": "slide"
    }
   },
   "source": [
    "#### La distribución de Bernouilli"
   ]
  },
  {
   "cell_type": "markdown",
   "id": "887e811e",
   "metadata": {
    "slideshow": {
     "slide_type": "fragment"
    }
   },
   "source": [
    "Una variable aleatoria de Bernouilli $X=(x,p(x))$ tiene dos posibles resultados\n",
    "\n",
    "   - *éxito* $\\to x=1$ con probabilidad $p(1) = p$\n",
    "   \n",
    "            \n",
    "   - *fracaso* $\\to x=0$ con probabilidad $p(0) = 1-p$"
   ]
  },
  {
   "cell_type": "markdown",
   "id": "0b610294",
   "metadata": {
    "slideshow": {
     "slide_type": "fragment"
    }
   },
   "source": [
    "Podemos calcular fácilmente \n",
    "\n",
    "\\begin{eqnarray}\n",
    "\\overline X &=& \\sum_i x_i p_i =1 \\cdot p + 0\\cdot (1-p) = p\\\\\n",
    "\\sigma^2 &=& \\sum_i (x-\\overline X )^2p_i = (1-p)^2 p +(0-p)^2(1-p) = p(1-p)\n",
    "\\end{eqnarray}"
   ]
  },
  {
   "cell_type": "markdown",
   "id": "6780de28",
   "metadata": {
    "slideshow": {
     "slide_type": "slide"
    }
   },
   "source": [
    "#### Distribución binomial"
   ]
  },
  {
   "cell_type": "markdown",
   "id": "4602fc9e",
   "metadata": {
    "slideshow": {
     "slide_type": "fragment"
    }
   },
   "source": [
    "La variable aleatoria binomial $X = (x,p(x))$ se define como\n",
    "\n",
    "$$\n",
    "x = \\hbox{número de $éxitos$ obtenidos en $n$ pruebas de Bernouilli sucesivas }\n",
    "$$\n",
    "\n",
    "Claramente $x \\in (0,1,2,...n)$.\n",
    "\n",
    "Ahora es muy sencillo obtener la probabilidad de un suceso con $x$ éxitos\n",
    "\n",
    "$$\n",
    "p(x) = \\begin{pmatrix}n\\\\ x\\end{pmatrix} p^x (1-p)^{n-x}\n",
    "$$\n",
    "\n",
    "donde el primer factor tiene en cuenta las posibles ordenaciones en que aparecen $x$ éxitos en $n$ intentos."
   ]
  },
  {
   "cell_type": "markdown",
   "id": "ef7625a0",
   "metadata": {
    "slideshow": {
     "slide_type": "slide"
    }
   },
   "source": [
    "Un cálculo un poco más largo permite ver que, ahora\n",
    "\n",
    "\\begin{eqnarray}\n",
    "\\overline X &=&  np\\\\ \\rule{0mm}{7mm}\n",
    "\\sigma^2 &=& n p(1-p)\n",
    "\\end{eqnarray}"
   ]
  },
  {
   "cell_type": "markdown",
   "id": "a0da9a2b",
   "metadata": {
    "slideshow": {
     "slide_type": "slide"
    }
   },
   "source": [
    "#### La distribución normal"
   ]
  },
  {
   "cell_type": "markdown",
   "id": "cf23bab5",
   "metadata": {
    "slideshow": {
     "slide_type": "fragment"
    }
   },
   "source": [
    "Vamos a estudiar la distribución normal centrada en $\\mu$ y con anchura $\\sigma$\n",
    "<br>\n",
    "<br>\n",
    "$$\n",
    "p(x) = \\frac{1}{\\sqrt{2\\pi}\\sigma} \\exp \\left({-\\frac{(x-\\mu)^2}{2\\sigma^2}}\\right)\n",
    "$$"
   ]
  },
  {
   "cell_type": "markdown",
   "id": "dbef639f",
   "metadata": {
    "slideshow": {
     "slide_type": "fragment"
    }
   },
   "source": [
    "Nos encontramos ante una variable aleatoria con un espacio muestral continuo $x\\in (-\\infty,+\\infty)$.\n",
    "\n",
    "\\begin{eqnarray}\n",
    "\\overline{X} &=& \\int_{-\\infty}^{+\\infty} xp(x) dx = \\mu \\\\\n",
    "\\overline{(x-\\overline X)^2} &=& \\int_{-\\infty}^{+\\infty} (x-\\mu)^2 p(x)dx =\\sigma^2\n",
    "\\end{eqnarray}"
   ]
  },
  {
   "cell_type": "code",
   "execution_count": null,
   "id": "2508f8fc",
   "metadata": {
    "slideshow": {
     "slide_type": "slide"
    }
   },
   "outputs": [],
   "source": [
    "'generamos una instancia de la distribución normal'\n",
    "mu, sigma = 0, 0.1 \n",
    "N = 10000\n",
    "s = np.random.normal(mu, sigma, N)"
   ]
  },
  {
   "cell_type": "code",
   "execution_count": null,
   "id": "e8b59d18",
   "metadata": {
    "slideshow": {
     "slide_type": "fragment"
    }
   },
   "outputs": [],
   "source": [
    "import matplotlib.pyplot as plt\n",
    "\n",
    "\n",
    "'generamos una instancia de histograma con un número de bins'\n",
    "num_bins=100\n",
    "counts, bins, ignore = plt.hist(s, num_bins, density=True)\n",
    "'extraemos los bins para hacer el plot de la funcion analítica'\n",
    "\n",
    "\n",
    "'dibujamos la función analítica para comparar'\n",
    "def gaussian(x,mu,sigma):\n",
    "    return 1/(sigma * np.sqrt(2 * np.pi))*np.exp( - (x - mu)**2 / (2 * sigma**2) )\n",
    "    \n",
    "plt.plot(bins, gaussian(bins,mu,sigma),linewidth=2, color='r')\n",
    "\n",
    "plt.show()"
   ]
  },
  {
   "cell_type": "markdown",
   "id": "4a36891b",
   "metadata": {},
   "source": [
    "En el límite de número de eventos $N\\to \\infty$, el histograma y la curva matemática confluyen."
   ]
  },
  {
   "cell_type": "markdown",
   "id": "d11a0c9b",
   "metadata": {
    "slideshow": {
     "slide_type": "slide"
    }
   },
   "source": [
    "## 1.5.4 Probabilidades combinadas"
   ]
  },
  {
   "cell_type": "markdown",
   "id": "fd99260c",
   "metadata": {
    "slideshow": {
     "slide_type": "fragment"
    }
   },
   "source": [
    "Las probabilidades combinadas son *la base de las correlaciones*. Es aquí donde la Mecánica Cuántica produce resultados inesperados clásicamente. \n",
    "\n",
    "Ahora vamos a examinar variables aleatorias formadas por dos espacios muestrales $X$ e $Y$. Dependiendo de la forma en que combinemos la observación de cada una tendremos distintas distribuciones de probabilidad"
   ]
  },
  {
   "cell_type": "markdown",
   "id": "a86c76fc",
   "metadata": {
    "slideshow": {
     "slide_type": "fragment"
    }
   },
   "source": [
    "### Probabilidad Combinada"
   ]
  },
  {
   "cell_type": "markdown",
   "id": "6bd07d43",
   "metadata": {
    "slideshow": {
     "slide_type": "fragment"
    }
   },
   "source": [
    "La  **probabilidad combinada** $p(X,Y)$ asocia un número $p(x,y)$ a la probabilidad de observación conjunta de $x$ **e** $y$.\n",
    "\n",
    "Hay que tratar las parejas de eventos  como un solo evento  $a = (x,y)$. Por eso, la condición de normalización ahora es \n",
    "\n",
    "$$\n",
    "\\sum_a p(a) = \\sum_{xy} p(x,y) = 1\\, .\n",
    "$$"
   ]
  },
  {
   "cell_type": "markdown",
   "id": "f69348a8",
   "metadata": {
    "slideshow": {
     "slide_type": "slide"
    }
   },
   "source": [
    "#### Distribución Marginal\n",
    "\n",
    "La suma parcial sobre una de las dos variables conduce a sendas **distribuciones marginales**\n",
    "\n",
    "$$\n",
    "q(x) = \\sum_{y} p(x,y) ~~~~~~~~~ \\tilde q(y) = \\sum_{x} p(x,y)\n",
    "$$"
   ]
  },
  {
   "cell_type": "markdown",
   "id": "91f3dea5",
   "metadata": {
    "slideshow": {
     "slide_type": "fragment"
    }
   },
   "source": [
    "#### Variables independientes\n",
    "\n",
    " Si la probabilidad combinada es el producto de las probabilidades de los miembros del par, decimos que $X$ e $Y$ son variables aleatorias independientes. \n",
    "\n",
    "$$\n",
    "p(x,y) = p(x) p(y)\n",
    "$$"
   ]
  },
  {
   "cell_type": "markdown",
   "id": "8ac1b8c2",
   "metadata": {},
   "source": [
    "La distribución de cada variable coincide con la que se deduce de marginalizar la otra\n",
    "\n",
    "$$\n",
    "\\sum_y p(x,y) = p(x)~~~~,~~~~\\sum_x p(x,y) = p(y)\n",
    "$$"
   ]
  },
  {
   "cell_type": "markdown",
   "id": "58481a77",
   "metadata": {
    "slideshow": {
     "slide_type": "slide"
    }
   },
   "source": [
    "### Probabilidad condicionada"
   ]
  },
  {
   "cell_type": "markdown",
   "id": "19267448",
   "metadata": {
    "slideshow": {
     "slide_type": "fragment"
    }
   },
   "source": [
    "La distribución de **probabilidad condicionada** $p(X|Y)$ asigna un número $p(x|y)$ a la probabilidad  de encontrar un suceso $X=x$ una vez *sabemos* que $Y=y$ ha sido el resultado de consultar $Y$."
   ]
  },
  {
   "cell_type": "markdown",
   "id": "61c5a777",
   "metadata": {
    "slideshow": {
     "slide_type": "fragment"
    }
   },
   "source": [
    "La manera de acceder experimentalmente a estas distribuciones, es efectuar un muestreo $(a_i,b_i), i=1,...,N$ de valores de $(X,Y)$ y *seleccionar* sólo aquellos sucesos donde $b_i = y$ un valor concreto de $Y$."
   ]
  },
  {
   "cell_type": "markdown",
   "id": "5fb44786",
   "metadata": {
    "slideshow": {
     "slide_type": "slide"
    }
   },
   "source": [
    "####  Teorema de Bayes\n",
    "\n",
    "Las probabilidades *condicionales* y *combinadas* no son independientes. Se relacionan de la forma siguiente\n",
    "\n",
    "$$\n",
    "p(x,y)   = p(x|y)p(y) = p(y|x) p(x)= p(y,x)\n",
    "$$\n",
    "\n",
    "La segunda igualdad conduce al *teorema de Bayes*\n",
    "<div class=\"alert alert-block alert-info\",text-align:center>\n",
    " <p style=\"text-align: left ;color: navy;\">  \n",
    "     <b>Teorema:</b> <i>(de Bayes)</i>\n",
    "$$\n",
    "p(x|y) = p(y|x) \\frac{p(x)}{p(y)}\n",
    "$$\n",
    "<br>\n",
    "</div>"
   ]
  },
  {
   "cell_type": "code",
   "execution_count": null,
   "id": "bd6429b5",
   "metadata": {},
   "outputs": [],
   "source": []
  }
 ],
 "metadata": {
  "jupytext": {
   "text_representation": {
    "extension": ".md",
    "format_name": "myst",
    "format_version": 0.13,
    "jupytext_version": "1.15.2"
   }
  },
  "kernelspec": {
   "display_name": "Python 3 (ipykernel)",
   "language": "python",
   "name": "python3"
  },
  "source_map": [
   14,
   33,
   50,
   54,
   63,
   74,
   82,
   96,
   100,
   104,
   112,
   116,
   128,
   153,
   157,
   165,
   169,
   178,
   182,
   186,
   196,
   205,
   209,
   228,
   237,
   242,
   251,
   260,
   271,
   292,
   296,
   300,
   306,
   310,
   320,
   330,
   341,
   349,
   353,
   357,
   361,
   381
  ]
 },
 "nbformat": 4,
 "nbformat_minor": 5
}